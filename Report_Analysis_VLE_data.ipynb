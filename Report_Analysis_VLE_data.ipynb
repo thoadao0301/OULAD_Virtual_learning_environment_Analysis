{
 "cells": [
  {
   "cell_type": "markdown",
   "id": "db77d43e",
   "metadata": {
    "hideCode": true,
    "hideOutput": false,
    "hidePrompt": true
   },
   "source": []
  },
  {
   "cell_type": "markdown",
   "id": "61a155dd",
   "metadata": {
    "hideCode": true,
    "hidePrompt": true
   },
   "source": [
    "<h1 align=\"center\"> VIRTUAL LEARNING ENVIRONMENT DATASET ANALYSIS REPORT</h1>"
   ]
  },
  {
   "cell_type": "markdown",
   "id": "1904883f",
   "metadata": {
    "hideCode": true,
    "hidePrompt": true
   },
   "source": [
    "## "
   ]
  },
  {
   "cell_type": "markdown",
   "id": "c98a6b34",
   "metadata": {
    "hideCode": true,
    "hidePrompt": true
   },
   "source": [
    "<h3 align=\"center\">Author: Dao Le Bao Thoa</h3>\n",
    "    <h3 align=\"center\"> Year: 2021</h3>"
   ]
  },
  {
   "cell_type": "markdown",
   "id": "ab9e392f",
   "metadata": {
    "hideCode": true,
    "hidePrompt": true
   },
   "source": [
    "# "
   ]
  },
  {
   "cell_type": "markdown",
   "id": "c1a10f81",
   "metadata": {
    "hideCode": true,
    "hidePrompt": true
   },
   "source": [
    "### Overview\n",
    "1. Describing and analyzing OULAD Virtual Learning Environment dataset.\n",
    "2. Processing and cleaning data.\n",
    "3. Making insight.\n",
    "4. Conclusion."
   ]
  },
  {
   "cell_type": "markdown",
   "id": "ce8f40d0",
   "metadata": {
    "hideCode": true,
    "hidePrompt": true
   },
   "source": [
    "## 1. Describing and analyzing OULAD Virtual Learning Environment dataset."
   ]
  },
  {
   "cell_type": "markdown",
   "id": "1dc4b456",
   "metadata": {
    "hideCode": true,
    "hidePrompt": true
   },
   "source": [
    "<img src=\"model.png\" alt=\"Drawing\" style=\"width: 800px;\"/>"
   ]
  },
  {
   "cell_type": "markdown",
   "id": "d3135f76",
   "metadata": {
    "hideCode": true,
    "hidePrompt": true
   },
   "source": [
    "#### Explaination schema:\n",
    "- **code_module** code name of the module, which serves as the identifier.\n",
    "- **code_presentation**- code name of the presentation. It consists of the year and “B” for the presentation starting in February and “J” for the presentation starting in October.\n",
    "- **length**- length of the module-presentation in days.\n",
    "         Note: The structure of B and J presentations may differ and therefore it is good practice to analyse the B and J presentations separately. Nevertheless, for some presentations the corresponding previous B/J presentation do not exist and therefore the J presentation must be used to inform the B presentation or vice versa. In the dataset this is the case of CCC, EEE and GGG modules.\n",
    "- **id_assessment**- identification number of the assessment.\n",
    "- **assessment_type**- type of assessment. Three types of assessments exist: Tutor Marked Assessment (TMA), Computer Marked Assessment (CMA) and Final Exam (Exam).\n",
    "- **date**- information about the final submission date of the assessment calculated as the number of days since the start of the module-presentation. The starting date of the presentation has number 0 (zero).\n",
    "- **weight**- weight of the assessment in %. Typically, Exams are treated separately and have the weight 100%; the sum of all other assessments is 100%.\n",
    "- **id_site**- an identification number of the material.\n",
    "- **activity_type** – the role associated with the module material.\n",
    "- **id_student** – a unique identification number for the student.\n",
    "- **gender** – the student’s gender.\n",
    "- **region** – identifies the geographic region, where the student lived while taking the module-presentation.\n",
    "- **highest_education** – highest student education level on entry to the module presentation.\n",
    "- **imd_band** – specifies the Index of Multiple Depravation band of the place where the student lived during the module-presentation.\n",
    "- **age_band** – band of the student’s age.\n",
    "- **num_of_prev_attempts** – the number times the student has attempted this module.\n",
    "- **studied_credits** – the total number of credits for the modules the student is currently studying.\n",
    "- **disability** – indicates whether the student has declared a disability.\n",
    "- **final_result** – student’s final result in the module-presentation.\n",
    "- **date_registration** – the date of student’s registration on the module presentation, this is the number of days measured relative to the start of the module-presentation (e.g. the negative value -30 means that the student registered to module presentation 30 days before it started).\n",
    "- **date_unregistration** – date of student unregistration from the module presentation, this is the number of days measured relative to the start of the module-presentation. Students, who completed the course have this field empty. Students who unregistered have Withdrawal as the value of the final_result column in the studentInfo.csv file.\n",
    "- **date_submitted** – the date of student submission, measured as the number of days since the start of the module presentation.\n",
    "- **score** – the student’s score in this assessment. The range is from 0 to 100. The score lower than 40 is interpreted as Fail. The marks are in the range from 0 to 100.\n",
    "-**date** – the date of student’s interaction with the material measured as the number of days since the start of the module-presentation.\n",
    "- **sum_click** – the number of times a student interacts with the material in that day."
   ]
  },
  {
   "cell_type": "code",
   "execution_count": 1,
   "id": "7b9daee4",
   "metadata": {
    "hideCode": true,
    "hidePrompt": true
   },
   "outputs": [],
   "source": [
    "import pandas as pd\n",
    "import matplotlib.pyplot as plt\n",
    "df_assessments = pd.read_csv('data/assessments.csv')\n",
    "df_course = pd.read_csv('data/courses.csv')\n",
    "df_studentAssessment = pd.read_csv('data/studentAssessment.csv')\n",
    "df_studentInfo = pd.read_csv('data/studentInfo.csv')\n",
    "df_studentRegis = pd.read_csv('data/studentRegistration.csv')\n",
    "df_studentVle = pd.read_csv('data/studentVle.csv')\n",
    "df_vle = pd.read_csv('data/vle.csv')"
   ]
  },
  {
   "cell_type": "markdown",
   "id": "2b260910",
   "metadata": {
    "hideCode": true,
    "hidePrompt": true
   },
   "source": [
    "Base on the information about dataset on the website, there are seven table and divide into 3 groups. Using Python version 3.8.1 and and Pandas Package version 1.2.4 extract and analyze each table:"
   ]
  },
  {
   "cell_type": "markdown",
   "id": "4913bae1",
   "metadata": {
    "hideCode": true,
    "hidePrompt": true
   },
   "source": [
    "+ **Courses** (courses.csv):\n",
    "    - Table size: (22, 3)\n",
    "    - Table columns information: ['code_module' , 'code_presentation', 'module_presentation_length']\n",
    "    - Checking duplicated values: None"
   ]
  },
  {
   "cell_type": "code",
   "execution_count": 2,
   "id": "c0ad1698",
   "metadata": {
    "hideCode": true,
    "hidePrompt": true
   },
   "outputs": [
    {
     "data": {
      "text/html": [
       "<style  type=\"text/css\" >\n",
       "</style><table id=\"T_81039_\" ><caption>Table course</caption><thead>    <tr>        <th class=\"blank level0\" ></th>        <th class=\"col_heading level0 col0\" >code_module</th>        <th class=\"col_heading level0 col1\" >code_presentation</th>        <th class=\"col_heading level0 col2\" >module_presentation_length</th>    </tr></thead><tbody>\n",
       "                <tr>\n",
       "                        <th id=\"T_81039_level0_row0\" class=\"row_heading level0 row0\" >11</th>\n",
       "                        <td id=\"T_81039_row0_col0\" class=\"data row0 col0\" >DDD</td>\n",
       "                        <td id=\"T_81039_row0_col1\" class=\"data row0 col1\" >2014B</td>\n",
       "                        <td id=\"T_81039_row0_col2\" class=\"data row0 col2\" >241</td>\n",
       "            </tr>\n",
       "            <tr>\n",
       "                        <th id=\"T_81039_level0_row1\" class=\"row_heading level0 row1\" >19</th>\n",
       "                        <td id=\"T_81039_row1_col0\" class=\"data row1 col0\" >GGG</td>\n",
       "                        <td id=\"T_81039_row1_col1\" class=\"data row1 col1\" >2013J</td>\n",
       "                        <td id=\"T_81039_row1_col2\" class=\"data row1 col2\" >261</td>\n",
       "            </tr>\n",
       "            <tr>\n",
       "                        <th id=\"T_81039_level0_row2\" class=\"row_heading level0 row2\" >0</th>\n",
       "                        <td id=\"T_81039_row2_col0\" class=\"data row2 col0\" >AAA</td>\n",
       "                        <td id=\"T_81039_row2_col1\" class=\"data row2 col1\" >2013J</td>\n",
       "                        <td id=\"T_81039_row2_col2\" class=\"data row2 col2\" >268</td>\n",
       "            </tr>\n",
       "            <tr>\n",
       "                        <th id=\"T_81039_level0_row3\" class=\"row_heading level0 row3\" >1</th>\n",
       "                        <td id=\"T_81039_row3_col0\" class=\"data row3 col0\" >AAA</td>\n",
       "                        <td id=\"T_81039_row3_col1\" class=\"data row3 col1\" >2014J</td>\n",
       "                        <td id=\"T_81039_row3_col2\" class=\"data row3 col2\" >269</td>\n",
       "            </tr>\n",
       "            <tr>\n",
       "                        <th id=\"T_81039_level0_row4\" class=\"row_heading level0 row4\" >6</th>\n",
       "                        <td id=\"T_81039_row4_col0\" class=\"data row4 col0\" >CCC</td>\n",
       "                        <td id=\"T_81039_row4_col1\" class=\"data row4 col1\" >2014J</td>\n",
       "                        <td id=\"T_81039_row4_col2\" class=\"data row4 col2\" >269</td>\n",
       "            </tr>\n",
       "    </tbody></table>"
      ],
      "text/plain": [
       "<pandas.io.formats.style.Styler at 0x2d95fd27a00>"
      ]
     },
     "execution_count": 2,
     "metadata": {},
     "output_type": "execute_result"
    }
   ],
   "source": [
    "df_course.sample(5).style.set_caption('Table course')"
   ]
  },
  {
   "cell_type": "markdown",
   "id": "1d5f0336",
   "metadata": {
    "hideCode": true,
    "hidePrompt": true
   },
   "source": [
    "#### "
   ]
  },
  {
   "cell_type": "markdown",
   "id": "0c072877",
   "metadata": {
    "hideCode": true,
    "hidePrompt": true
   },
   "source": [
    "+ **Student information** (studentInfo.csv):\n",
    "     - Table size: (32593, 12)\n",
    "     - Table columns information: ['code_module', 'code_presentation', 'id_student', 'gender', 'region', 'highest_education', 'imd_band', 'age_band', 'num_of_prev_attempts', 'studied_credits', 'disability', 'final_result']\n",
    "     - Checking duplicated values:\n",
    "          - The number of values that student take more than 1 course: 3808\n",
    "          - The number of values that student take more than 1 course in the same presentaion: 1081\n",
    "          - The number of values that student take a course more than 1 time: 1309"
   ]
  },
  {
   "cell_type": "code",
   "execution_count": 3,
   "id": "183b0675",
   "metadata": {
    "hideCode": true,
    "hidePrompt": true
   },
   "outputs": [
    {
     "data": {
      "text/html": [
       "<style  type=\"text/css\" >\n",
       "</style><table id=\"T_4638a_\" ><caption>Table: Student information</caption><thead>    <tr>        <th class=\"blank level0\" ></th>        <th class=\"col_heading level0 col0\" >code_module</th>        <th class=\"col_heading level0 col1\" >code_presentation</th>        <th class=\"col_heading level0 col2\" >id_student</th>        <th class=\"col_heading level0 col3\" >gender</th>        <th class=\"col_heading level0 col4\" >region</th>        <th class=\"col_heading level0 col5\" >highest_education</th>        <th class=\"col_heading level0 col6\" >imd_band</th>        <th class=\"col_heading level0 col7\" >age_band</th>        <th class=\"col_heading level0 col8\" >num_of_prev_attempts</th>        <th class=\"col_heading level0 col9\" >studied_credits</th>        <th class=\"col_heading level0 col10\" >disability</th>        <th class=\"col_heading level0 col11\" >final_result</th>    </tr></thead><tbody>\n",
       "                <tr>\n",
       "                        <th id=\"T_4638a_level0_row0\" class=\"row_heading level0 row0\" >28634</th>\n",
       "                        <td id=\"T_4638a_row0_col0\" class=\"data row0 col0\" >FFF</td>\n",
       "                        <td id=\"T_4638a_row0_col1\" class=\"data row0 col1\" >2014J</td>\n",
       "                        <td id=\"T_4638a_row0_col2\" class=\"data row0 col2\" >639522</td>\n",
       "                        <td id=\"T_4638a_row0_col3\" class=\"data row0 col3\" >M</td>\n",
       "                        <td id=\"T_4638a_row0_col4\" class=\"data row0 col4\" >South East Region</td>\n",
       "                        <td id=\"T_4638a_row0_col5\" class=\"data row0 col5\" >A Level or Equivalent</td>\n",
       "                        <td id=\"T_4638a_row0_col6\" class=\"data row0 col6\" >30-40%</td>\n",
       "                        <td id=\"T_4638a_row0_col7\" class=\"data row0 col7\" >0-35</td>\n",
       "                        <td id=\"T_4638a_row0_col8\" class=\"data row0 col8\" >0</td>\n",
       "                        <td id=\"T_4638a_row0_col9\" class=\"data row0 col9\" >90</td>\n",
       "                        <td id=\"T_4638a_row0_col10\" class=\"data row0 col10\" >N</td>\n",
       "                        <td id=\"T_4638a_row0_col11\" class=\"data row0 col11\" >Pass</td>\n",
       "            </tr>\n",
       "            <tr>\n",
       "                        <th id=\"T_4638a_level0_row1\" class=\"row_heading level0 row1\" >16863</th>\n",
       "                        <td id=\"T_4638a_row1_col0\" class=\"data row1 col0\" >DDD</td>\n",
       "                        <td id=\"T_4638a_row1_col1\" class=\"data row1 col1\" >2014B</td>\n",
       "                        <td id=\"T_4638a_row1_col2\" class=\"data row1 col2\" >591654</td>\n",
       "                        <td id=\"T_4638a_row1_col3\" class=\"data row1 col3\" >M</td>\n",
       "                        <td id=\"T_4638a_row1_col4\" class=\"data row1 col4\" >North Region</td>\n",
       "                        <td id=\"T_4638a_row1_col5\" class=\"data row1 col5\" >A Level or Equivalent</td>\n",
       "                        <td id=\"T_4638a_row1_col6\" class=\"data row1 col6\" >10-20</td>\n",
       "                        <td id=\"T_4638a_row1_col7\" class=\"data row1 col7\" >0-35</td>\n",
       "                        <td id=\"T_4638a_row1_col8\" class=\"data row1 col8\" >0</td>\n",
       "                        <td id=\"T_4638a_row1_col9\" class=\"data row1 col9\" >60</td>\n",
       "                        <td id=\"T_4638a_row1_col10\" class=\"data row1 col10\" >N</td>\n",
       "                        <td id=\"T_4638a_row1_col11\" class=\"data row1 col11\" >Fail</td>\n",
       "            </tr>\n",
       "            <tr>\n",
       "                        <th id=\"T_4638a_level0_row2\" class=\"row_heading level0 row2\" >27952</th>\n",
       "                        <td id=\"T_4638a_row2_col0\" class=\"data row2 col0\" >FFF</td>\n",
       "                        <td id=\"T_4638a_row2_col1\" class=\"data row2 col1\" >2014J</td>\n",
       "                        <td id=\"T_4638a_row2_col2\" class=\"data row2 col2\" >397219</td>\n",
       "                        <td id=\"T_4638a_row2_col3\" class=\"data row2 col3\" >M</td>\n",
       "                        <td id=\"T_4638a_row2_col4\" class=\"data row2 col4\" >Scotland</td>\n",
       "                        <td id=\"T_4638a_row2_col5\" class=\"data row2 col5\" >HE Qualification</td>\n",
       "                        <td id=\"T_4638a_row2_col6\" class=\"data row2 col6\" >20-30%</td>\n",
       "                        <td id=\"T_4638a_row2_col7\" class=\"data row2 col7\" >0-35</td>\n",
       "                        <td id=\"T_4638a_row2_col8\" class=\"data row2 col8\" >0</td>\n",
       "                        <td id=\"T_4638a_row2_col9\" class=\"data row2 col9\" >60</td>\n",
       "                        <td id=\"T_4638a_row2_col10\" class=\"data row2 col10\" >N</td>\n",
       "                        <td id=\"T_4638a_row2_col11\" class=\"data row2 col11\" >Distinction</td>\n",
       "            </tr>\n",
       "            <tr>\n",
       "                        <th id=\"T_4638a_level0_row3\" class=\"row_heading level0 row3\" >13947</th>\n",
       "                        <td id=\"T_4638a_row3_col0\" class=\"data row3 col0\" >DDD</td>\n",
       "                        <td id=\"T_4638a_row3_col1\" class=\"data row3 col1\" >2013B</td>\n",
       "                        <td id=\"T_4638a_row3_col2\" class=\"data row3 col2\" >547897</td>\n",
       "                        <td id=\"T_4638a_row3_col3\" class=\"data row3 col3\" >F</td>\n",
       "                        <td id=\"T_4638a_row3_col4\" class=\"data row3 col4\" >Scotland</td>\n",
       "                        <td id=\"T_4638a_row3_col5\" class=\"data row3 col5\" >Lower Than A Level</td>\n",
       "                        <td id=\"T_4638a_row3_col6\" class=\"data row3 col6\" >40-50%</td>\n",
       "                        <td id=\"T_4638a_row3_col7\" class=\"data row3 col7\" >0-35</td>\n",
       "                        <td id=\"T_4638a_row3_col8\" class=\"data row3 col8\" >0</td>\n",
       "                        <td id=\"T_4638a_row3_col9\" class=\"data row3 col9\" >90</td>\n",
       "                        <td id=\"T_4638a_row3_col10\" class=\"data row3 col10\" >N</td>\n",
       "                        <td id=\"T_4638a_row3_col11\" class=\"data row3 col11\" >Withdrawn</td>\n",
       "            </tr>\n",
       "            <tr>\n",
       "                        <th id=\"T_4638a_level0_row4\" class=\"row_heading level0 row4\" >20494</th>\n",
       "                        <td id=\"T_4638a_row4_col0\" class=\"data row4 col0\" >EEE</td>\n",
       "                        <td id=\"T_4638a_row4_col1\" class=\"data row4 col1\" >2014B</td>\n",
       "                        <td id=\"T_4638a_row4_col2\" class=\"data row4 col2\" >407428</td>\n",
       "                        <td id=\"T_4638a_row4_col3\" class=\"data row4 col3\" >M</td>\n",
       "                        <td id=\"T_4638a_row4_col4\" class=\"data row4 col4\" >West Midlands Region</td>\n",
       "                        <td id=\"T_4638a_row4_col5\" class=\"data row4 col5\" >Lower Than A Level</td>\n",
       "                        <td id=\"T_4638a_row4_col6\" class=\"data row4 col6\" >30-40%</td>\n",
       "                        <td id=\"T_4638a_row4_col7\" class=\"data row4 col7\" >0-35</td>\n",
       "                        <td id=\"T_4638a_row4_col8\" class=\"data row4 col8\" >0</td>\n",
       "                        <td id=\"T_4638a_row4_col9\" class=\"data row4 col9\" >60</td>\n",
       "                        <td id=\"T_4638a_row4_col10\" class=\"data row4 col10\" >N</td>\n",
       "                        <td id=\"T_4638a_row4_col11\" class=\"data row4 col11\" >Fail</td>\n",
       "            </tr>\n",
       "    </tbody></table>"
      ],
      "text/plain": [
       "<pandas.io.formats.style.Styler at 0x2d90a405280>"
      ]
     },
     "execution_count": 3,
     "metadata": {},
     "output_type": "execute_result"
    }
   ],
   "source": [
    "df_studentInfo.sample(5).style.set_caption('Table: Student information')"
   ]
  },
  {
   "cell_type": "markdown",
   "id": "dbb694d4",
   "metadata": {
    "hideCode": true,
    "hidePrompt": true
   },
   "source": [
    "#### "
   ]
  },
  {
   "cell_type": "markdown",
   "id": "b2d1f8df",
   "metadata": {
    "hideCode": true,
    "hidePrompt": true
   },
   "source": [
    "+ **Assessments** (assessments.csv):\n",
    "     - Table size: (206, 6)\n",
    "     - Table columns information: ['code_module', 'code_presentation', 'id_assessment', 'assessment_type', 'date', 'weight']\n",
    "     - Checking duplicated values: None"
   ]
  },
  {
   "cell_type": "code",
   "execution_count": 4,
   "id": "fcbadc01",
   "metadata": {
    "hideCode": true,
    "hidePrompt": true
   },
   "outputs": [
    {
     "data": {
      "text/html": [
       "<style  type=\"text/css\" >\n",
       "</style><table id=\"T_4da68_\" ><caption>Table: Assessments</caption><thead>    <tr>        <th class=\"blank level0\" ></th>        <th class=\"col_heading level0 col0\" >code_module</th>        <th class=\"col_heading level0 col1\" >code_presentation</th>        <th class=\"col_heading level0 col2\" >id_assessment</th>        <th class=\"col_heading level0 col3\" >assessment_type</th>        <th class=\"col_heading level0 col4\" >date</th>        <th class=\"col_heading level0 col5\" >weight</th>    </tr></thead><tbody>\n",
       "                <tr>\n",
       "                        <th id=\"T_4da68_level0_row0\" class=\"row_heading level0 row0\" >190</th>\n",
       "                        <td id=\"T_4da68_row0_col0\" class=\"data row0 col0\" >GGG</td>\n",
       "                        <td id=\"T_4da68_row0_col1\" class=\"data row0 col1\" >2014B</td>\n",
       "                        <td id=\"T_4da68_row0_col2\" class=\"data row0 col2\" >37432</td>\n",
       "                        <td id=\"T_4da68_row0_col3\" class=\"data row0 col3\" >CMA</td>\n",
       "                        <td id=\"T_4da68_row0_col4\" class=\"data row0 col4\" >222.000000</td>\n",
       "                        <td id=\"T_4da68_row0_col5\" class=\"data row0 col5\" >0.000000</td>\n",
       "            </tr>\n",
       "            <tr>\n",
       "                        <th id=\"T_4da68_level0_row1\" class=\"row_heading level0 row1\" >156</th>\n",
       "                        <td id=\"T_4da68_row1_col0\" class=\"data row1 col0\" >FFF</td>\n",
       "                        <td id=\"T_4da68_row1_col1\" class=\"data row1 col1\" >2014B</td>\n",
       "                        <td id=\"T_4da68_row1_col2\" class=\"data row1 col2\" >34896</td>\n",
       "                        <td id=\"T_4da68_row1_col3\" class=\"data row1 col3\" >CMA</td>\n",
       "                        <td id=\"T_4da68_row1_col4\" class=\"data row1 col4\" >227.000000</td>\n",
       "                        <td id=\"T_4da68_row1_col5\" class=\"data row1 col5\" >0.000000</td>\n",
       "            </tr>\n",
       "            <tr>\n",
       "                        <th id=\"T_4da68_level0_row2\" class=\"row_heading level0 row2\" >180</th>\n",
       "                        <td id=\"T_4da68_row2_col0\" class=\"data row2 col0\" >GGG</td>\n",
       "                        <td id=\"T_4da68_row2_col1\" class=\"data row2 col1\" >2013J</td>\n",
       "                        <td id=\"T_4da68_row2_col2\" class=\"data row2 col2\" >37422</td>\n",
       "                        <td id=\"T_4da68_row2_col3\" class=\"data row2 col3\" >CMA</td>\n",
       "                        <td id=\"T_4da68_row2_col4\" class=\"data row2 col4\" >229.000000</td>\n",
       "                        <td id=\"T_4da68_row2_col5\" class=\"data row2 col5\" >0.000000</td>\n",
       "            </tr>\n",
       "            <tr>\n",
       "                        <th id=\"T_4da68_level0_row3\" class=\"row_heading level0 row3\" >29</th>\n",
       "                        <td id=\"T_4da68_row3_col0\" class=\"data row3 col0\" >BBB</td>\n",
       "                        <td id=\"T_4da68_row3_col1\" class=\"data row3 col1\" >2013J</td>\n",
       "                        <td id=\"T_4da68_row3_col2\" class=\"data row3 col2\" >14996</td>\n",
       "                        <td id=\"T_4da68_row3_col3\" class=\"data row3 col3\" >TMA</td>\n",
       "                        <td id=\"T_4da68_row3_col4\" class=\"data row3 col4\" >19.000000</td>\n",
       "                        <td id=\"T_4da68_row3_col5\" class=\"data row3 col5\" >5.000000</td>\n",
       "            </tr>\n",
       "            <tr>\n",
       "                        <th id=\"T_4da68_level0_row4\" class=\"row_heading level0 row4\" >205</th>\n",
       "                        <td id=\"T_4da68_row4_col0\" class=\"data row4 col0\" >GGG</td>\n",
       "                        <td id=\"T_4da68_row4_col1\" class=\"data row4 col1\" >2014J</td>\n",
       "                        <td id=\"T_4da68_row4_col2\" class=\"data row4 col2\" >37444</td>\n",
       "                        <td id=\"T_4da68_row4_col3\" class=\"data row4 col3\" >Exam</td>\n",
       "                        <td id=\"T_4da68_row4_col4\" class=\"data row4 col4\" >229.000000</td>\n",
       "                        <td id=\"T_4da68_row4_col5\" class=\"data row4 col5\" >100.000000</td>\n",
       "            </tr>\n",
       "    </tbody></table>"
      ],
      "text/plain": [
       "<pandas.io.formats.style.Styler at 0x2d95fd12dc0>"
      ]
     },
     "execution_count": 4,
     "metadata": {},
     "output_type": "execute_result"
    }
   ],
   "source": [
    "df_assessments.sample(5).style.set_caption('Table: Assessments')"
   ]
  },
  {
   "cell_type": "markdown",
   "id": "94ac38fc",
   "metadata": {
    "hideCode": true,
    "hidePrompt": true
   },
   "source": [
    "#### "
   ]
  },
  {
   "cell_type": "markdown",
   "id": "bfd59634",
   "metadata": {
    "hideCode": true,
    "hidePrompt": true
   },
   "source": [
    "+ **Student assessment** (studentAssessment.csv):\n",
    "     - Table size: (173912, 5)\n",
    "     - Table columns information: ['id_assessment', 'id_student', 'date_submitted', 'is_banked', 'score']\n",
    "     - Checking duplicated values: None"
   ]
  },
  {
   "cell_type": "code",
   "execution_count": 5,
   "id": "fc8f7425",
   "metadata": {
    "hideCode": true,
    "hidePrompt": true
   },
   "outputs": [
    {
     "data": {
      "text/html": [
       "<style  type=\"text/css\" >\n",
       "</style><table id=\"T_6144b_\" ><caption>Table: Student Assessments</caption><thead>    <tr>        <th class=\"blank level0\" ></th>        <th class=\"col_heading level0 col0\" >id_assessment</th>        <th class=\"col_heading level0 col1\" >id_student</th>        <th class=\"col_heading level0 col2\" >date_submitted</th>        <th class=\"col_heading level0 col3\" >is_banked</th>        <th class=\"col_heading level0 col4\" >score</th>    </tr></thead><tbody>\n",
       "                <tr>\n",
       "                        <th id=\"T_6144b_level0_row0\" class=\"row_heading level0 row0\" >25386</th>\n",
       "                        <td id=\"T_6144b_row0_col0\" class=\"data row0 col0\" >15005</td>\n",
       "                        <td id=\"T_6144b_row0_col1\" class=\"data row0 col1\" >579549</td>\n",
       "                        <td id=\"T_6144b_row0_col2\" class=\"data row0 col2\" >133</td>\n",
       "                        <td id=\"T_6144b_row0_col3\" class=\"data row0 col3\" >0</td>\n",
       "                        <td id=\"T_6144b_row0_col4\" class=\"data row0 col4\" >60.000000</td>\n",
       "            </tr>\n",
       "            <tr>\n",
       "                        <th id=\"T_6144b_level0_row1\" class=\"row_heading level0 row1\" >58341</th>\n",
       "                        <td id=\"T_6144b_row1_col0\" class=\"data row1 col0\" >24295</td>\n",
       "                        <td id=\"T_6144b_row1_col1\" class=\"data row1 col1\" >689759</td>\n",
       "                        <td id=\"T_6144b_row1_col2\" class=\"data row1 col2\" >21</td>\n",
       "                        <td id=\"T_6144b_row1_col3\" class=\"data row1 col3\" >0</td>\n",
       "                        <td id=\"T_6144b_row1_col4\" class=\"data row1 col4\" >44.000000</td>\n",
       "            </tr>\n",
       "            <tr>\n",
       "                        <th id=\"T_6144b_level0_row2\" class=\"row_heading level0 row2\" >97329</th>\n",
       "                        <td id=\"T_6144b_row2_col0\" class=\"data row2 col0\" >30710</td>\n",
       "                        <td id=\"T_6144b_row2_col1\" class=\"data row2 col1\" >594246</td>\n",
       "                        <td id=\"T_6144b_row2_col2\" class=\"data row2 col2\" >65</td>\n",
       "                        <td id=\"T_6144b_row2_col3\" class=\"data row2 col3\" >0</td>\n",
       "                        <td id=\"T_6144b_row2_col4\" class=\"data row2 col4\" >89.000000</td>\n",
       "            </tr>\n",
       "            <tr>\n",
       "                        <th id=\"T_6144b_level0_row3\" class=\"row_heading level0 row3\" >125428</th>\n",
       "                        <td id=\"T_6144b_row3_col0\" class=\"data row3 col0\" >34879</td>\n",
       "                        <td id=\"T_6144b_row3_col1\" class=\"data row3 col1\" >595655</td>\n",
       "                        <td id=\"T_6144b_row3_col2\" class=\"data row3 col2\" >109</td>\n",
       "                        <td id=\"T_6144b_row3_col3\" class=\"data row3 col3\" >0</td>\n",
       "                        <td id=\"T_6144b_row3_col4\" class=\"data row3 col4\" >96.000000</td>\n",
       "            </tr>\n",
       "            <tr>\n",
       "                        <th id=\"T_6144b_level0_row4\" class=\"row_heading level0 row4\" >17940</th>\n",
       "                        <td id=\"T_6144b_row4_col0\" class=\"data row4 col0\" >14998</td>\n",
       "                        <td id=\"T_6144b_row4_col1\" class=\"data row4 col1\" >590360</td>\n",
       "                        <td id=\"T_6144b_row4_col2\" class=\"data row4 col2\" >95</td>\n",
       "                        <td id=\"T_6144b_row4_col3\" class=\"data row4 col3\" >0</td>\n",
       "                        <td id=\"T_6144b_row4_col4\" class=\"data row4 col4\" >57.000000</td>\n",
       "            </tr>\n",
       "    </tbody></table>"
      ],
      "text/plain": [
       "<pandas.io.formats.style.Styler at 0x2d90a405580>"
      ]
     },
     "execution_count": 5,
     "metadata": {},
     "output_type": "execute_result"
    }
   ],
   "source": [
    "df_studentAssessment.sample(5).style.set_caption('Table: Student Assessments')"
   ]
  },
  {
   "cell_type": "markdown",
   "id": "01f1c214",
   "metadata": {
    "hideCode": true,
    "hidePrompt": true
   },
   "source": [
    "#### "
   ]
  },
  {
   "cell_type": "markdown",
   "id": "c23e4efe",
   "metadata": {
    "hideCode": true,
    "hidePrompt": true
   },
   "source": [
    "+ **Student Registration** (studentRegistration.csv):\n",
    "     - Table size: (32593, 5)\n",
    "     - Table columns information: ['code_module', 'code_presentation', 'id_student', 'date_registration',\n",
    "       'date_unregistration']\n",
    "     - Checking duplicated values:\n",
    "         + The number of values that student register more than 1 courses: 3808\n",
    "         + The number of values that student register more than 1 courses in the same semester: 1081\n",
    "         + The number of values that student register a course more than 1 time: 1309"
   ]
  },
  {
   "cell_type": "code",
   "execution_count": 6,
   "id": "45ae45fa",
   "metadata": {
    "hideCode": true,
    "hidePrompt": true,
    "scrolled": true
   },
   "outputs": [
    {
     "data": {
      "text/html": [
       "<style  type=\"text/css\" >\n",
       "</style><table id=\"T_a16a1_\" ><caption>Table: Student registration</caption><thead>    <tr>        <th class=\"blank level0\" ></th>        <th class=\"col_heading level0 col0\" >code_module</th>        <th class=\"col_heading level0 col1\" >code_presentation</th>        <th class=\"col_heading level0 col2\" >id_student</th>        <th class=\"col_heading level0 col3\" >date_registration</th>        <th class=\"col_heading level0 col4\" >date_unregistration</th>    </tr></thead><tbody>\n",
       "                <tr>\n",
       "                        <th id=\"T_a16a1_level0_row0\" class=\"row_heading level0 row0\" >28188</th>\n",
       "                        <td id=\"T_a16a1_row0_col0\" class=\"data row0 col0\" >FFF</td>\n",
       "                        <td id=\"T_a16a1_row0_col1\" class=\"data row0 col1\" >2014J</td>\n",
       "                        <td id=\"T_a16a1_row0_col2\" class=\"data row0 col2\" >558764</td>\n",
       "                        <td id=\"T_a16a1_row0_col3\" class=\"data row0 col3\" >-10.000000</td>\n",
       "                        <td id=\"T_a16a1_row0_col4\" class=\"data row0 col4\" >nan</td>\n",
       "            </tr>\n",
       "            <tr>\n",
       "                        <th id=\"T_a16a1_level0_row1\" class=\"row_heading level0 row1\" >14358</th>\n",
       "                        <td id=\"T_a16a1_row1_col0\" class=\"data row1 col0\" >DDD</td>\n",
       "                        <td id=\"T_a16a1_row1_col1\" class=\"data row1 col1\" >2013B</td>\n",
       "                        <td id=\"T_a16a1_row1_col2\" class=\"data row1 col2\" >2629511</td>\n",
       "                        <td id=\"T_a16a1_row1_col3\" class=\"data row1 col3\" >-73.000000</td>\n",
       "                        <td id=\"T_a16a1_row1_col4\" class=\"data row1 col4\" >-25.000000</td>\n",
       "            </tr>\n",
       "            <tr>\n",
       "                        <th id=\"T_a16a1_level0_row2\" class=\"row_heading level0 row2\" >11792</th>\n",
       "                        <td id=\"T_a16a1_row2_col0\" class=\"data row2 col0\" >CCC</td>\n",
       "                        <td id=\"T_a16a1_row2_col1\" class=\"data row2 col1\" >2014J</td>\n",
       "                        <td id=\"T_a16a1_row2_col2\" class=\"data row2 col2\" >608983</td>\n",
       "                        <td id=\"T_a16a1_row2_col3\" class=\"data row2 col3\" >-22.000000</td>\n",
       "                        <td id=\"T_a16a1_row2_col4\" class=\"data row2 col4\" >17.000000</td>\n",
       "            </tr>\n",
       "            <tr>\n",
       "                        <th id=\"T_a16a1_level0_row3\" class=\"row_heading level0 row3\" >10506</th>\n",
       "                        <td id=\"T_a16a1_row3_col0\" class=\"data row3 col0\" >CCC</td>\n",
       "                        <td id=\"T_a16a1_row3_col1\" class=\"data row3 col1\" >2014B</td>\n",
       "                        <td id=\"T_a16a1_row3_col2\" class=\"data row3 col2\" >2410459</td>\n",
       "                        <td id=\"T_a16a1_row3_col3\" class=\"data row3 col3\" >-29.000000</td>\n",
       "                        <td id=\"T_a16a1_row3_col4\" class=\"data row3 col4\" >nan</td>\n",
       "            </tr>\n",
       "            <tr>\n",
       "                        <th id=\"T_a16a1_level0_row4\" class=\"row_heading level0 row4\" >30318</th>\n",
       "                        <td id=\"T_a16a1_row4_col0\" class=\"data row4 col0\" >GGG</td>\n",
       "                        <td id=\"T_a16a1_row4_col1\" class=\"data row4 col1\" >2013J</td>\n",
       "                        <td id=\"T_a16a1_row4_col2\" class=\"data row4 col2\" >574238</td>\n",
       "                        <td id=\"T_a16a1_row4_col3\" class=\"data row4 col3\" >-148.000000</td>\n",
       "                        <td id=\"T_a16a1_row4_col4\" class=\"data row4 col4\" >nan</td>\n",
       "            </tr>\n",
       "    </tbody></table>"
      ],
      "text/plain": [
       "<pandas.io.formats.style.Styler at 0x2d90a405a90>"
      ]
     },
     "execution_count": 6,
     "metadata": {},
     "output_type": "execute_result"
    }
   ],
   "source": [
    "df_studentRegis.sample(5).style.set_caption('Table: Student registration')"
   ]
  },
  {
   "cell_type": "markdown",
   "id": "e8fa0564",
   "metadata": {
    "hideCode": true,
    "hidePrompt": true
   },
   "source": [
    "#### "
   ]
  },
  {
   "cell_type": "markdown",
   "id": "cb3bfabc",
   "metadata": {
    "hideCode": true,
    "hidePrompt": true
   },
   "source": [
    "+ **Student Vle** (studentVle.csv):\n",
    "     - Table size: (10655280, 6)\n",
    "     - Table columns information: ['code_module', 'code_presentation', 'id_student', 'id_site', 'date',\n",
    "       'sum_click']\n",
    "     - Checking duplicated values:\n",
    "         + Students interact to the material in the virtual learning environment: Many"
   ]
  },
  {
   "cell_type": "code",
   "execution_count": 7,
   "id": "d144fc3d",
   "metadata": {
    "hideCode": true,
    "hidePrompt": true
   },
   "outputs": [
    {
     "data": {
      "text/html": [
       "<style  type=\"text/css\" >\n",
       "</style><table id=\"T_a6601_\" ><caption>Table: Student virtual learning environment</caption><thead>    <tr>        <th class=\"blank level0\" ></th>        <th class=\"col_heading level0 col0\" >code_module</th>        <th class=\"col_heading level0 col1\" >code_presentation</th>        <th class=\"col_heading level0 col2\" >id_student</th>        <th class=\"col_heading level0 col3\" >id_site</th>        <th class=\"col_heading level0 col4\" >date</th>        <th class=\"col_heading level0 col5\" >sum_click</th>    </tr></thead><tbody>\n",
       "                <tr>\n",
       "                        <th id=\"T_a6601_level0_row0\" class=\"row_heading level0 row0\" >5011901</th>\n",
       "                        <td id=\"T_a6601_row0_col0\" class=\"data row0 col0\" >DDD</td>\n",
       "                        <td id=\"T_a6601_row0_col1\" class=\"data row0 col1\" >2014J</td>\n",
       "                        <td id=\"T_a6601_row0_col2\" class=\"data row0 col2\" >147328</td>\n",
       "                        <td id=\"T_a6601_row0_col3\" class=\"data row0 col3\" >813708</td>\n",
       "                        <td id=\"T_a6601_row0_col4\" class=\"data row0 col4\" >89</td>\n",
       "                        <td id=\"T_a6601_row0_col5\" class=\"data row0 col5\" >2</td>\n",
       "            </tr>\n",
       "            <tr>\n",
       "                        <th id=\"T_a6601_level0_row1\" class=\"row_heading level0 row1\" >7005134</th>\n",
       "                        <td id=\"T_a6601_row1_col0\" class=\"data row1 col0\" >FFF</td>\n",
       "                        <td id=\"T_a6601_row1_col1\" class=\"data row1 col1\" >2013B</td>\n",
       "                        <td id=\"T_a6601_row1_col2\" class=\"data row1 col2\" >467725</td>\n",
       "                        <td id=\"T_a6601_row1_col3\" class=\"data row1 col3\" >527230</td>\n",
       "                        <td id=\"T_a6601_row1_col4\" class=\"data row1 col4\" >162</td>\n",
       "                        <td id=\"T_a6601_row1_col5\" class=\"data row1 col5\" >1</td>\n",
       "            </tr>\n",
       "            <tr>\n",
       "                        <th id=\"T_a6601_level0_row2\" class=\"row_heading level0 row2\" >535943</th>\n",
       "                        <td id=\"T_a6601_row2_col0\" class=\"data row2 col0\" >BBB</td>\n",
       "                        <td id=\"T_a6601_row2_col1\" class=\"data row2 col1\" >2013B</td>\n",
       "                        <td id=\"T_a6601_row2_col2\" class=\"data row2 col2\" >555930</td>\n",
       "                        <td id=\"T_a6601_row2_col3\" class=\"data row2 col3\" >542864</td>\n",
       "                        <td id=\"T_a6601_row2_col4\" class=\"data row2 col4\" >60</td>\n",
       "                        <td id=\"T_a6601_row2_col5\" class=\"data row2 col5\" >12</td>\n",
       "            </tr>\n",
       "            <tr>\n",
       "                        <th id=\"T_a6601_level0_row3\" class=\"row_heading level0 row3\" >4665463</th>\n",
       "                        <td id=\"T_a6601_row3_col0\" class=\"data row3 col0\" >DDD</td>\n",
       "                        <td id=\"T_a6601_row3_col1\" class=\"data row3 col1\" >2014B</td>\n",
       "                        <td id=\"T_a6601_row3_col2\" class=\"data row3 col2\" >612136</td>\n",
       "                        <td id=\"T_a6601_row3_col3\" class=\"data row3 col3\" >772705</td>\n",
       "                        <td id=\"T_a6601_row3_col4\" class=\"data row3 col4\" >177</td>\n",
       "                        <td id=\"T_a6601_row3_col5\" class=\"data row3 col5\" >10</td>\n",
       "            </tr>\n",
       "            <tr>\n",
       "                        <th id=\"T_a6601_level0_row4\" class=\"row_heading level0 row4\" >3720891</th>\n",
       "                        <td id=\"T_a6601_row4_col0\" class=\"data row4 col0\" >DDD</td>\n",
       "                        <td id=\"T_a6601_row4_col1\" class=\"data row4 col1\" >2013J</td>\n",
       "                        <td id=\"T_a6601_row4_col2\" class=\"data row4 col2\" >580468</td>\n",
       "                        <td id=\"T_a6601_row4_col3\" class=\"data row4 col3\" >673537</td>\n",
       "                        <td id=\"T_a6601_row4_col4\" class=\"data row4 col4\" >-1</td>\n",
       "                        <td id=\"T_a6601_row4_col5\" class=\"data row4 col5\" >1</td>\n",
       "            </tr>\n",
       "    </tbody></table>"
      ],
      "text/plain": [
       "<pandas.io.formats.style.Styler at 0x2d90a405070>"
      ]
     },
     "execution_count": 7,
     "metadata": {},
     "output_type": "execute_result"
    }
   ],
   "source": [
    "df_studentVle.sample(5).style.set_caption('Table: Student virtual learning environment')"
   ]
  },
  {
   "cell_type": "markdown",
   "id": "367b9266",
   "metadata": {
    "hideCode": true,
    "hidePrompt": true
   },
   "source": [
    "#### "
   ]
  },
  {
   "cell_type": "markdown",
   "id": "026e3170",
   "metadata": {
    "hideCode": true,
    "hidePrompt": true
   },
   "source": [
    "+ **Vle** (vle.csv):\n",
    "     - Table size: (6364, 6)\n",
    "     - Table columns information: ['id_site', 'code_module', 'code_presentation', 'activity_type',\n",
    "       'week_from', 'week_to']\n",
    "     - Checking duplicated values: None"
   ]
  },
  {
   "cell_type": "code",
   "execution_count": 8,
   "id": "1b2bb09c",
   "metadata": {
    "hideCode": true,
    "hidePrompt": true
   },
   "outputs": [
    {
     "data": {
      "text/html": [
       "<style  type=\"text/css\" >\n",
       "</style><table id=\"T_58e2a_\" ><caption>Table: virtual learning environment material</caption><thead>    <tr>        <th class=\"blank level0\" ></th>        <th class=\"col_heading level0 col0\" >id_site</th>        <th class=\"col_heading level0 col1\" >code_module</th>        <th class=\"col_heading level0 col2\" >code_presentation</th>        <th class=\"col_heading level0 col3\" >activity_type</th>        <th class=\"col_heading level0 col4\" >week_from</th>        <th class=\"col_heading level0 col5\" >week_to</th>    </tr></thead><tbody>\n",
       "                <tr>\n",
       "                        <th id=\"T_58e2a_level0_row0\" class=\"row_heading level0 row0\" >327</th>\n",
       "                        <td id=\"T_58e2a_row0_col0\" class=\"data row0 col0\" >877236</td>\n",
       "                        <td id=\"T_58e2a_row0_col1\" class=\"data row0 col1\" >AAA</td>\n",
       "                        <td id=\"T_58e2a_row0_col2\" class=\"data row0 col2\" >2014J</td>\n",
       "                        <td id=\"T_58e2a_row0_col3\" class=\"data row0 col3\" >resource</td>\n",
       "                        <td id=\"T_58e2a_row0_col4\" class=\"data row0 col4\" >nan</td>\n",
       "                        <td id=\"T_58e2a_row0_col5\" class=\"data row0 col5\" >nan</td>\n",
       "            </tr>\n",
       "            <tr>\n",
       "                        <th id=\"T_58e2a_level0_row1\" class=\"row_heading level0 row1\" >608</th>\n",
       "                        <td id=\"T_58e2a_row1_col0\" class=\"data row1 col0\" >543281</td>\n",
       "                        <td id=\"T_58e2a_row1_col1\" class=\"data row1 col1\" >BBB</td>\n",
       "                        <td id=\"T_58e2a_row1_col2\" class=\"data row1 col2\" >2013B</td>\n",
       "                        <td id=\"T_58e2a_row1_col3\" class=\"data row1 col3\" >resource</td>\n",
       "                        <td id=\"T_58e2a_row1_col4\" class=\"data row1 col4\" >nan</td>\n",
       "                        <td id=\"T_58e2a_row1_col5\" class=\"data row1 col5\" >nan</td>\n",
       "            </tr>\n",
       "            <tr>\n",
       "                        <th id=\"T_58e2a_level0_row2\" class=\"row_heading level0 row2\" >318</th>\n",
       "                        <td id=\"T_58e2a_row2_col0\" class=\"data row2 col0\" >877396</td>\n",
       "                        <td id=\"T_58e2a_row2_col1\" class=\"data row2 col1\" >AAA</td>\n",
       "                        <td id=\"T_58e2a_row2_col2\" class=\"data row2 col2\" >2014J</td>\n",
       "                        <td id=\"T_58e2a_row2_col3\" class=\"data row2 col3\" >url</td>\n",
       "                        <td id=\"T_58e2a_row2_col4\" class=\"data row2 col4\" >nan</td>\n",
       "                        <td id=\"T_58e2a_row2_col5\" class=\"data row2 col5\" >nan</td>\n",
       "            </tr>\n",
       "            <tr>\n",
       "                        <th id=\"T_58e2a_level0_row3\" class=\"row_heading level0 row3\" >1024</th>\n",
       "                        <td id=\"T_58e2a_row3_col0\" class=\"data row3 col0\" >704157</td>\n",
       "                        <td id=\"T_58e2a_row3_col1\" class=\"data row3 col1\" >BBB</td>\n",
       "                        <td id=\"T_58e2a_row3_col2\" class=\"data row3 col2\" >2013J</td>\n",
       "                        <td id=\"T_58e2a_row3_col3\" class=\"data row3 col3\" >resource</td>\n",
       "                        <td id=\"T_58e2a_row3_col4\" class=\"data row3 col4\" >nan</td>\n",
       "                        <td id=\"T_58e2a_row3_col5\" class=\"data row3 col5\" >nan</td>\n",
       "            </tr>\n",
       "            <tr>\n",
       "                        <th id=\"T_58e2a_level0_row4\" class=\"row_heading level0 row4\" >4664</th>\n",
       "                        <td id=\"T_58e2a_row4_col0\" class=\"data row4 col0\" >716295</td>\n",
       "                        <td id=\"T_58e2a_row4_col1\" class=\"data row4 col1\" >FFF</td>\n",
       "                        <td id=\"T_58e2a_row4_col2\" class=\"data row4 col2\" >2013J</td>\n",
       "                        <td id=\"T_58e2a_row4_col3\" class=\"data row4 col3\" >oucontent</td>\n",
       "                        <td id=\"T_58e2a_row4_col4\" class=\"data row4 col4\" >11.000000</td>\n",
       "                        <td id=\"T_58e2a_row4_col5\" class=\"data row4 col5\" >11.000000</td>\n",
       "            </tr>\n",
       "    </tbody></table>"
      ],
      "text/plain": [
       "<pandas.io.formats.style.Styler at 0x2d90a3ecaf0>"
      ]
     },
     "execution_count": 8,
     "metadata": {},
     "output_type": "execute_result"
    }
   ],
   "source": [
    "df_vle.sample(5).style.set_caption('Table: virtual learning environment material')"
   ]
  },
  {
   "cell_type": "markdown",
   "id": "189a667e",
   "metadata": {
    "hideCode": true,
    "hidePrompt": true
   },
   "source": [
    "       In conclusion, We devide 7 tables into 3 groups in order that it is easy to make analyzing and insight."
   ]
  },
  {
   "cell_type": "markdown",
   "id": "2449698a",
   "metadata": {
    "hideCode": true,
    "hidePrompt": true
   },
   "source": [
    "#### "
   ]
  },
  {
   "cell_type": "markdown",
   "id": "90a99954",
   "metadata": {
    "hideCode": true,
    "hidePrompt": true
   },
   "source": [
    "## 2. Processing and cleaning data."
   ]
  },
  {
   "cell_type": "markdown",
   "id": "932cbad0",
   "metadata": {
    "hideCode": true,
    "hidePrompt": true
   },
   "source": [
    "### 2.1 Processing data about courses:"
   ]
  },
  {
   "cell_type": "markdown",
   "id": "93f04ddd",
   "metadata": {
    "hideCode": true,
    "hidePrompt": true
   },
   "source": [
    "- Input tables: \n",
    "    + Course\n",
    "    + Assessment\n",
    "    + Student assessment\n",
    "    + Student information\n",
    "    + Student registration\n",
    "- Method: using pandas api **groupby**, **merge** to group and create new table, use api **drop** to clear null value and **rename** some columns.\n",
    "- Output table:\n",
    "    + Course information (df_course_info):\n",
    "        - Table size: (22,13)\n",
    "        - Table columns: ['code_module', 'code_presentation', 'module_presentation_length',\n",
    "       'num_of_assessment', 'avg_score', 'students_take_exam',\n",
    "       'num_of_student', 'Pass', 'Fail', 'Withdrawn', 'Distinction',\n",
    "       'num_of_soon_regis', 'num_of_unregis']\n",
    "        - Checking duplicated values: None"
   ]
  },
  {
   "cell_type": "code",
   "execution_count": 9,
   "id": "4293c233",
   "metadata": {
    "hideCode": true,
    "hidePrompt": true
   },
   "outputs": [
    {
     "data": {
      "text/html": [
       "<style  type=\"text/css\" >\n",
       "</style><table id=\"T_9aa69_\" ><caption>Table 1: Course information</caption><thead>    <tr>        <th class=\"blank level0\" ></th>        <th class=\"col_heading level0 col0\" >code_module</th>        <th class=\"col_heading level0 col1\" >code_presentation</th>        <th class=\"col_heading level0 col2\" >module_presentation_length</th>        <th class=\"col_heading level0 col3\" >num_of_assessment</th>        <th class=\"col_heading level0 col4\" >avg_score</th>        <th class=\"col_heading level0 col5\" >students_take_exam</th>        <th class=\"col_heading level0 col6\" >num_of_student</th>        <th class=\"col_heading level0 col7\" >Pass</th>        <th class=\"col_heading level0 col8\" >Fail</th>        <th class=\"col_heading level0 col9\" >Withdrawn</th>        <th class=\"col_heading level0 col10\" >Distinction</th>        <th class=\"col_heading level0 col11\" >num_of_soon_regis</th>        <th class=\"col_heading level0 col12\" >num_of_unregis</th>    </tr></thead><tbody>\n",
       "                <tr>\n",
       "                        <th id=\"T_9aa69_level0_row0\" class=\"row_heading level0 row0\" >0</th>\n",
       "                        <td id=\"T_9aa69_row0_col0\" class=\"data row0 col0\" >AAA</td>\n",
       "                        <td id=\"T_9aa69_row0_col1\" class=\"data row0 col1\" >2013J</td>\n",
       "                        <td id=\"T_9aa69_row0_col2\" class=\"data row0 col2\" >268</td>\n",
       "                        <td id=\"T_9aa69_row0_col3\" class=\"data row0 col3\" >6</td>\n",
       "                        <td id=\"T_9aa69_row0_col4\" class=\"data row0 col4\" >69.448600</td>\n",
       "                        <td id=\"T_9aa69_row0_col5\" class=\"data row0 col5\" >326.600000</td>\n",
       "                        <td id=\"T_9aa69_row0_col6\" class=\"data row0 col6\" >383</td>\n",
       "                        <td id=\"T_9aa69_row0_col7\" class=\"data row0 col7\" >258</td>\n",
       "                        <td id=\"T_9aa69_row0_col8\" class=\"data row0 col8\" >45</td>\n",
       "                        <td id=\"T_9aa69_row0_col9\" class=\"data row0 col9\" >60</td>\n",
       "                        <td id=\"T_9aa69_row0_col10\" class=\"data row0 col10\" >20</td>\n",
       "                        <td id=\"T_9aa69_row0_col11\" class=\"data row0 col11\" >379</td>\n",
       "                        <td id=\"T_9aa69_row0_col12\" class=\"data row0 col12\" >60</td>\n",
       "            </tr>\n",
       "            <tr>\n",
       "                        <th id=\"T_9aa69_level0_row1\" class=\"row_heading level0 row1\" >1</th>\n",
       "                        <td id=\"T_9aa69_row1_col0\" class=\"data row1 col0\" >AAA</td>\n",
       "                        <td id=\"T_9aa69_row1_col1\" class=\"data row1 col1\" >2014J</td>\n",
       "                        <td id=\"T_9aa69_row1_col2\" class=\"data row1 col2\" >269</td>\n",
       "                        <td id=\"T_9aa69_row1_col3\" class=\"data row1 col3\" >6</td>\n",
       "                        <td id=\"T_9aa69_row1_col4\" class=\"data row1 col4\" >68.631236</td>\n",
       "                        <td id=\"T_9aa69_row1_col5\" class=\"data row1 col5\" >303.200000</td>\n",
       "                        <td id=\"T_9aa69_row1_col6\" class=\"data row1 col6\" >365</td>\n",
       "                        <td id=\"T_9aa69_row1_col7\" class=\"data row1 col7\" >229</td>\n",
       "                        <td id=\"T_9aa69_row1_col8\" class=\"data row1 col8\" >46</td>\n",
       "                        <td id=\"T_9aa69_row1_col9\" class=\"data row1 col9\" >66</td>\n",
       "                        <td id=\"T_9aa69_row1_col10\" class=\"data row1 col10\" >24</td>\n",
       "                        <td id=\"T_9aa69_row1_col11\" class=\"data row1 col11\" >361</td>\n",
       "                        <td id=\"T_9aa69_row1_col12\" class=\"data row1 col12\" >66</td>\n",
       "            </tr>\n",
       "            <tr>\n",
       "                        <th id=\"T_9aa69_level0_row2\" class=\"row_heading level0 row2\" >2</th>\n",
       "                        <td id=\"T_9aa69_row2_col0\" class=\"data row2 col0\" >BBB</td>\n",
       "                        <td id=\"T_9aa69_row2_col1\" class=\"data row2 col1\" >2013J</td>\n",
       "                        <td id=\"T_9aa69_row2_col2\" class=\"data row2 col2\" >268</td>\n",
       "                        <td id=\"T_9aa69_row2_col3\" class=\"data row2 col3\" >12</td>\n",
       "                        <td id=\"T_9aa69_row2_col4\" class=\"data row2 col4\" >78.982208</td>\n",
       "                        <td id=\"T_9aa69_row2_col5\" class=\"data row2 col5\" >1306.818182</td>\n",
       "                        <td id=\"T_9aa69_row2_col6\" class=\"data row2 col6\" >2237</td>\n",
       "                        <td id=\"T_9aa69_row2_col7\" class=\"data row2 col7\" >896</td>\n",
       "                        <td id=\"T_9aa69_row2_col8\" class=\"data row2 col8\" >521</td>\n",
       "                        <td id=\"T_9aa69_row2_col9\" class=\"data row2 col9\" >644</td>\n",
       "                        <td id=\"T_9aa69_row2_col10\" class=\"data row2 col10\" >176</td>\n",
       "                        <td id=\"T_9aa69_row2_col11\" class=\"data row2 col11\" >2217</td>\n",
       "                        <td id=\"T_9aa69_row2_col12\" class=\"data row2 col12\" >647</td>\n",
       "            </tr>\n",
       "            <tr>\n",
       "                        <th id=\"T_9aa69_level0_row3\" class=\"row_heading level0 row3\" >3</th>\n",
       "                        <td id=\"T_9aa69_row3_col0\" class=\"data row3 col0\" >BBB</td>\n",
       "                        <td id=\"T_9aa69_row3_col1\" class=\"data row3 col1\" >2014J</td>\n",
       "                        <td id=\"T_9aa69_row3_col2\" class=\"data row3 col2\" >262</td>\n",
       "                        <td id=\"T_9aa69_row3_col3\" class=\"data row3 col3\" >6</td>\n",
       "                        <td id=\"T_9aa69_row3_col4\" class=\"data row3 col4\" >66.123764</td>\n",
       "                        <td id=\"T_9aa69_row3_col5\" class=\"data row3 col5\" >1481.600000</td>\n",
       "                        <td id=\"T_9aa69_row3_col6\" class=\"data row3 col6\" >2292</td>\n",
       "                        <td id=\"T_9aa69_row3_col7\" class=\"data row3 col7\" >972</td>\n",
       "                        <td id=\"T_9aa69_row3_col8\" class=\"data row3 col8\" >391</td>\n",
       "                        <td id=\"T_9aa69_row3_col9\" class=\"data row3 col9\" >749</td>\n",
       "                        <td id=\"T_9aa69_row3_col10\" class=\"data row3 col10\" >180</td>\n",
       "                        <td id=\"T_9aa69_row3_col11\" class=\"data row3 col11\" >2235</td>\n",
       "                        <td id=\"T_9aa69_row3_col12\" class=\"data row3 col12\" >736</td>\n",
       "            </tr>\n",
       "            <tr>\n",
       "                        <th id=\"T_9aa69_level0_row4\" class=\"row_heading level0 row4\" >4</th>\n",
       "                        <td id=\"T_9aa69_row4_col0\" class=\"data row4 col0\" >BBB</td>\n",
       "                        <td id=\"T_9aa69_row4_col1\" class=\"data row4 col1\" >2013B</td>\n",
       "                        <td id=\"T_9aa69_row4_col2\" class=\"data row4 col2\" >240</td>\n",
       "                        <td id=\"T_9aa69_row4_col3\" class=\"data row4 col3\" >12</td>\n",
       "                        <td id=\"T_9aa69_row4_col4\" class=\"data row4 col4\" >79.132027</td>\n",
       "                        <td id=\"T_9aa69_row4_col5\" class=\"data row4 col5\" >1023.272727</td>\n",
       "                        <td id=\"T_9aa69_row4_col6\" class=\"data row4 col6\" >1767</td>\n",
       "                        <td id=\"T_9aa69_row4_col7\" class=\"data row4 col7\" >648</td>\n",
       "                        <td id=\"T_9aa69_row4_col8\" class=\"data row4 col8\" >459</td>\n",
       "                        <td id=\"T_9aa69_row4_col9\" class=\"data row4 col9\" >505</td>\n",
       "                        <td id=\"T_9aa69_row4_col10\" class=\"data row4 col10\" >155</td>\n",
       "                        <td id=\"T_9aa69_row4_col11\" class=\"data row4 col11\" >1757</td>\n",
       "                        <td id=\"T_9aa69_row4_col12\" class=\"data row4 col12\" >505</td>\n",
       "            </tr>\n",
       "            <tr>\n",
       "                        <th id=\"T_9aa69_level0_row5\" class=\"row_heading level0 row5\" >5</th>\n",
       "                        <td id=\"T_9aa69_row5_col0\" class=\"data row5 col0\" >BBB</td>\n",
       "                        <td id=\"T_9aa69_row5_col1\" class=\"data row5 col1\" >2014B</td>\n",
       "                        <td id=\"T_9aa69_row5_col2\" class=\"data row5 col2\" >234</td>\n",
       "                        <td id=\"T_9aa69_row5_col3\" class=\"data row5 col3\" >12</td>\n",
       "                        <td id=\"T_9aa69_row5_col4\" class=\"data row5 col4\" >78.912318</td>\n",
       "                        <td id=\"T_9aa69_row5_col5\" class=\"data row5 col5\" >908.454545</td>\n",
       "                        <td id=\"T_9aa69_row5_col6\" class=\"data row5 col6\" >1613</td>\n",
       "                        <td id=\"T_9aa69_row5_col7\" class=\"data row5 col7\" >561</td>\n",
       "                        <td id=\"T_9aa69_row5_col8\" class=\"data row5 col8\" >396</td>\n",
       "                        <td id=\"T_9aa69_row5_col9\" class=\"data row5 col9\" >490</td>\n",
       "                        <td id=\"T_9aa69_row5_col10\" class=\"data row5 col10\" >166</td>\n",
       "                        <td id=\"T_9aa69_row5_col11\" class=\"data row5 col11\" >1595</td>\n",
       "                        <td id=\"T_9aa69_row5_col12\" class=\"data row5 col12\" >489</td>\n",
       "            </tr>\n",
       "            <tr>\n",
       "                        <th id=\"T_9aa69_level0_row6\" class=\"row_heading level0 row6\" >6</th>\n",
       "                        <td id=\"T_9aa69_row6_col0\" class=\"data row6 col0\" >CCC</td>\n",
       "                        <td id=\"T_9aa69_row6_col1\" class=\"data row6 col1\" >2014J</td>\n",
       "                        <td id=\"T_9aa69_row6_col2\" class=\"data row6 col2\" >269</td>\n",
       "                        <td id=\"T_9aa69_row6_col3\" class=\"data row6 col3\" >10</td>\n",
       "                        <td id=\"T_9aa69_row6_col4\" class=\"data row6 col4\" >74.501944</td>\n",
       "                        <td id=\"T_9aa69_row6_col5\" class=\"data row6 col5\" >1272.333333</td>\n",
       "                        <td id=\"T_9aa69_row6_col6\" class=\"data row6 col6\" >2498</td>\n",
       "                        <td id=\"T_9aa69_row6_col7\" class=\"data row6 col7\" >709</td>\n",
       "                        <td id=\"T_9aa69_row6_col8\" class=\"data row6 col8\" >406</td>\n",
       "                        <td id=\"T_9aa69_row6_col9\" class=\"data row6 col9\" >1077</td>\n",
       "                        <td id=\"T_9aa69_row6_col10\" class=\"data row6 col10\" >306</td>\n",
       "                        <td id=\"T_9aa69_row6_col11\" class=\"data row6 col11\" >2482</td>\n",
       "                        <td id=\"T_9aa69_row6_col12\" class=\"data row6 col12\" >1049</td>\n",
       "            </tr>\n",
       "            <tr>\n",
       "                        <th id=\"T_9aa69_level0_row7\" class=\"row_heading level0 row7\" >7</th>\n",
       "                        <td id=\"T_9aa69_row7_col0\" class=\"data row7 col0\" >CCC</td>\n",
       "                        <td id=\"T_9aa69_row7_col1\" class=\"data row7 col1\" >2014B</td>\n",
       "                        <td id=\"T_9aa69_row7_col2\" class=\"data row7 col2\" >241</td>\n",
       "                        <td id=\"T_9aa69_row7_col3\" class=\"data row7 col3\" >10</td>\n",
       "                        <td id=\"T_9aa69_row7_col4\" class=\"data row7 col4\" >71.527308</td>\n",
       "                        <td id=\"T_9aa69_row7_col5\" class=\"data row7 col5\" >832.111111</td>\n",
       "                        <td id=\"T_9aa69_row7_col6\" class=\"data row7 col6\" >1936</td>\n",
       "                        <td id=\"T_9aa69_row7_col7\" class=\"data row7 col7\" >471</td>\n",
       "                        <td id=\"T_9aa69_row7_col8\" class=\"data row7 col8\" >375</td>\n",
       "                        <td id=\"T_9aa69_row7_col9\" class=\"data row7 col9\" >898</td>\n",
       "                        <td id=\"T_9aa69_row7_col10\" class=\"data row7 col10\" >192</td>\n",
       "                        <td id=\"T_9aa69_row7_col11\" class=\"data row7 col11\" >1927</td>\n",
       "                        <td id=\"T_9aa69_row7_col12\" class=\"data row7 col12\" >898</td>\n",
       "            </tr>\n",
       "            <tr>\n",
       "                        <th id=\"T_9aa69_level0_row8\" class=\"row_heading level0 row8\" >8</th>\n",
       "                        <td id=\"T_9aa69_row8_col0\" class=\"data row8 col0\" >DDD</td>\n",
       "                        <td id=\"T_9aa69_row8_col1\" class=\"data row8 col1\" >2013J</td>\n",
       "                        <td id=\"T_9aa69_row8_col2\" class=\"data row8 col2\" >261</td>\n",
       "                        <td id=\"T_9aa69_row8_col3\" class=\"data row8 col3\" >7</td>\n",
       "                        <td id=\"T_9aa69_row8_col4\" class=\"data row8 col4\" >68.729022</td>\n",
       "                        <td id=\"T_9aa69_row8_col5\" class=\"data row8 col5\" >1133.714286</td>\n",
       "                        <td id=\"T_9aa69_row8_col6\" class=\"data row8 col6\" >1938</td>\n",
       "                        <td id=\"T_9aa69_row8_col7\" class=\"data row8 col7\" >731</td>\n",
       "                        <td id=\"T_9aa69_row8_col8\" class=\"data row8 col8\" >428</td>\n",
       "                        <td id=\"T_9aa69_row8_col9\" class=\"data row8 col9\" >681</td>\n",
       "                        <td id=\"T_9aa69_row8_col10\" class=\"data row8 col10\" >98</td>\n",
       "                        <td id=\"T_9aa69_row8_col11\" class=\"data row8 col11\" >1927</td>\n",
       "                        <td id=\"T_9aa69_row8_col12\" class=\"data row8 col12\" >684</td>\n",
       "            </tr>\n",
       "            <tr>\n",
       "                        <th id=\"T_9aa69_level0_row9\" class=\"row_heading level0 row9\" >9</th>\n",
       "                        <td id=\"T_9aa69_row9_col0\" class=\"data row9 col0\" >DDD</td>\n",
       "                        <td id=\"T_9aa69_row9_col1\" class=\"data row9 col1\" >2014J</td>\n",
       "                        <td id=\"T_9aa69_row9_col2\" class=\"data row9 col2\" >262</td>\n",
       "                        <td id=\"T_9aa69_row9_col3\" class=\"data row9 col3\" >7</td>\n",
       "                        <td id=\"T_9aa69_row9_col4\" class=\"data row9 col4\" >70.831078</td>\n",
       "                        <td id=\"T_9aa69_row9_col5\" class=\"data row9 col5\" >1144.714286</td>\n",
       "                        <td id=\"T_9aa69_row9_col6\" class=\"data row9 col6\" >1803</td>\n",
       "                        <td id=\"T_9aa69_row9_col7\" class=\"data row9 col7\" >680</td>\n",
       "                        <td id=\"T_9aa69_row9_col8\" class=\"data row9 col8\" >364</td>\n",
       "                        <td id=\"T_9aa69_row9_col9\" class=\"data row9 col9\" >647</td>\n",
       "                        <td id=\"T_9aa69_row9_col10\" class=\"data row9 col10\" >112</td>\n",
       "                        <td id=\"T_9aa69_row9_col11\" class=\"data row9 col11\" >1796</td>\n",
       "                        <td id=\"T_9aa69_row9_col12\" class=\"data row9 col12\" >631</td>\n",
       "            </tr>\n",
       "            <tr>\n",
       "                        <th id=\"T_9aa69_level0_row10\" class=\"row_heading level0 row10\" >10</th>\n",
       "                        <td id=\"T_9aa69_row10_col0\" class=\"data row10 col0\" >DDD</td>\n",
       "                        <td id=\"T_9aa69_row10_col1\" class=\"data row10 col1\" >2013B</td>\n",
       "                        <td id=\"T_9aa69_row10_col2\" class=\"data row10 col2\" >240</td>\n",
       "                        <td id=\"T_9aa69_row10_col3\" class=\"data row10 col3\" >14</td>\n",
       "                        <td id=\"T_9aa69_row10_col4\" class=\"data row10 col4\" >68.933616</td>\n",
       "                        <td id=\"T_9aa69_row10_col5\" class=\"data row10 col5\" >740.928571</td>\n",
       "                        <td id=\"T_9aa69_row10_col6\" class=\"data row10 col6\" >1303</td>\n",
       "                        <td id=\"T_9aa69_row10_col7\" class=\"data row10 col7\" >456</td>\n",
       "                        <td id=\"T_9aa69_row10_col8\" class=\"data row10 col8\" >361</td>\n",
       "                        <td id=\"T_9aa69_row10_col9\" class=\"data row10 col9\" >432</td>\n",
       "                        <td id=\"T_9aa69_row10_col10\" class=\"data row10 col10\" >54</td>\n",
       "                        <td id=\"T_9aa69_row10_col11\" class=\"data row10 col11\" >1286</td>\n",
       "                        <td id=\"T_9aa69_row10_col12\" class=\"data row10 col12\" >431</td>\n",
       "            </tr>\n",
       "            <tr>\n",
       "                        <th id=\"T_9aa69_level0_row11\" class=\"row_heading level0 row11\" >11</th>\n",
       "                        <td id=\"T_9aa69_row11_col0\" class=\"data row11 col0\" >DDD</td>\n",
       "                        <td id=\"T_9aa69_row11_col1\" class=\"data row11 col1\" >2014B</td>\n",
       "                        <td id=\"T_9aa69_row11_col2\" class=\"data row11 col2\" >241</td>\n",
       "                        <td id=\"T_9aa69_row11_col3\" class=\"data row11 col3\" >7</td>\n",
       "                        <td id=\"T_9aa69_row11_col4\" class=\"data row11 col4\" >68.365873</td>\n",
       "                        <td id=\"T_9aa69_row11_col5\" class=\"data row11 col5\" >648.857143</td>\n",
       "                        <td id=\"T_9aa69_row11_col6\" class=\"data row11 col6\" >1228</td>\n",
       "                        <td id=\"T_9aa69_row11_col7\" class=\"data row11 col7\" >360</td>\n",
       "                        <td id=\"T_9aa69_row11_col8\" class=\"data row11 col8\" >259</td>\n",
       "                        <td id=\"T_9aa69_row11_col9\" class=\"data row11 col9\" >490</td>\n",
       "                        <td id=\"T_9aa69_row11_col10\" class=\"data row11 col10\" >119</td>\n",
       "                        <td id=\"T_9aa69_row11_col11\" class=\"data row11 col11\" >1219</td>\n",
       "                        <td id=\"T_9aa69_row11_col12\" class=\"data row11 col12\" >489</td>\n",
       "            </tr>\n",
       "            <tr>\n",
       "                        <th id=\"T_9aa69_level0_row12\" class=\"row_heading level0 row12\" >12</th>\n",
       "                        <td id=\"T_9aa69_row12_col0\" class=\"data row12 col0\" >EEE</td>\n",
       "                        <td id=\"T_9aa69_row12_col1\" class=\"data row12 col1\" >2013J</td>\n",
       "                        <td id=\"T_9aa69_row12_col2\" class=\"data row12 col2\" >268</td>\n",
       "                        <td id=\"T_9aa69_row12_col3\" class=\"data row12 col3\" >5</td>\n",
       "                        <td id=\"T_9aa69_row12_col4\" class=\"data row12 col4\" >80.368446</td>\n",
       "                        <td id=\"T_9aa69_row12_col5\" class=\"data row12 col5\" >721.000000</td>\n",
       "                        <td id=\"T_9aa69_row12_col6\" class=\"data row12 col6\" >1052</td>\n",
       "                        <td id=\"T_9aa69_row12_col7\" class=\"data row12 col7\" >482</td>\n",
       "                        <td id=\"T_9aa69_row12_col8\" class=\"data row12 col8\" >200</td>\n",
       "                        <td id=\"T_9aa69_row12_col9\" class=\"data row12 col9\" >243</td>\n",
       "                        <td id=\"T_9aa69_row12_col10\" class=\"data row12 col10\" >127</td>\n",
       "                        <td id=\"T_9aa69_row12_col11\" class=\"data row12 col11\" >1048</td>\n",
       "                        <td id=\"T_9aa69_row12_col12\" class=\"data row12 col12\" >243</td>\n",
       "            </tr>\n",
       "            <tr>\n",
       "                        <th id=\"T_9aa69_level0_row13\" class=\"row_heading level0 row13\" >13</th>\n",
       "                        <td id=\"T_9aa69_row13_col0\" class=\"data row13 col0\" >EEE</td>\n",
       "                        <td id=\"T_9aa69_row13_col1\" class=\"data row13 col1\" >2014J</td>\n",
       "                        <td id=\"T_9aa69_row13_col2\" class=\"data row13 col2\" >269</td>\n",
       "                        <td id=\"T_9aa69_row13_col3\" class=\"data row13 col3\" >5</td>\n",
       "                        <td id=\"T_9aa69_row13_col4\" class=\"data row13 col4\" >82.156692</td>\n",
       "                        <td id=\"T_9aa69_row13_col5\" class=\"data row13 col5\" >807.250000</td>\n",
       "                        <td id=\"T_9aa69_row13_col6\" class=\"data row13 col6\" >1188</td>\n",
       "                        <td id=\"T_9aa69_row13_col7\" class=\"data row13 col7\" >527</td>\n",
       "                        <td id=\"T_9aa69_row13_col8\" class=\"data row13 col8\" >198</td>\n",
       "                        <td id=\"T_9aa69_row13_col9\" class=\"data row13 col9\" >306</td>\n",
       "                        <td id=\"T_9aa69_row13_col10\" class=\"data row13 col10\" >157</td>\n",
       "                        <td id=\"T_9aa69_row13_col11\" class=\"data row13 col11\" >1181</td>\n",
       "                        <td id=\"T_9aa69_row13_col12\" class=\"data row13 col12\" >302</td>\n",
       "            </tr>\n",
       "            <tr>\n",
       "                        <th id=\"T_9aa69_level0_row14\" class=\"row_heading level0 row14\" >14</th>\n",
       "                        <td id=\"T_9aa69_row14_col0\" class=\"data row14 col0\" >EEE</td>\n",
       "                        <td id=\"T_9aa69_row14_col1\" class=\"data row14 col1\" >2014B</td>\n",
       "                        <td id=\"T_9aa69_row14_col2\" class=\"data row14 col2\" >241</td>\n",
       "                        <td id=\"T_9aa69_row14_col3\" class=\"data row14 col3\" >5</td>\n",
       "                        <td id=\"T_9aa69_row14_col4\" class=\"data row14 col4\" >79.152395</td>\n",
       "                        <td id=\"T_9aa69_row14_col5\" class=\"data row14 col5\" >445.000000</td>\n",
       "                        <td id=\"T_9aa69_row14_col6\" class=\"data row14 col6\" >694</td>\n",
       "                        <td id=\"T_9aa69_row14_col7\" class=\"data row14 col7\" >285</td>\n",
       "                        <td id=\"T_9aa69_row14_col8\" class=\"data row14 col8\" >164</td>\n",
       "                        <td id=\"T_9aa69_row14_col9\" class=\"data row14 col9\" >173</td>\n",
       "                        <td id=\"T_9aa69_row14_col10\" class=\"data row14 col10\" >72</td>\n",
       "                        <td id=\"T_9aa69_row14_col11\" class=\"data row14 col11\" >692</td>\n",
       "                        <td id=\"T_9aa69_row14_col12\" class=\"data row14 col12\" >173</td>\n",
       "            </tr>\n",
       "            <tr>\n",
       "                        <th id=\"T_9aa69_level0_row15\" class=\"row_heading level0 row15\" >15</th>\n",
       "                        <td id=\"T_9aa69_row15_col0\" class=\"data row15 col0\" >FFF</td>\n",
       "                        <td id=\"T_9aa69_row15_col1\" class=\"data row15 col1\" >2013J</td>\n",
       "                        <td id=\"T_9aa69_row15_col2\" class=\"data row15 col2\" >268</td>\n",
       "                        <td id=\"T_9aa69_row15_col3\" class=\"data row15 col3\" >13</td>\n",
       "                        <td id=\"T_9aa69_row15_col4\" class=\"data row15 col4\" >77.145696</td>\n",
       "                        <td id=\"T_9aa69_row15_col5\" class=\"data row15 col5\" >1353.333333</td>\n",
       "                        <td id=\"T_9aa69_row15_col6\" class=\"data row15 col6\" >2283</td>\n",
       "                        <td id=\"T_9aa69_row15_col7\" class=\"data row15 col7\" >908</td>\n",
       "                        <td id=\"T_9aa69_row15_col8\" class=\"data row15 col8\" >513</td>\n",
       "                        <td id=\"T_9aa69_row15_col9\" class=\"data row15 col9\" >675</td>\n",
       "                        <td id=\"T_9aa69_row15_col10\" class=\"data row15 col10\" >187</td>\n",
       "                        <td id=\"T_9aa69_row15_col11\" class=\"data row15 col11\" >2278</td>\n",
       "                        <td id=\"T_9aa69_row15_col12\" class=\"data row15 col12\" >677</td>\n",
       "            </tr>\n",
       "            <tr>\n",
       "                        <th id=\"T_9aa69_level0_row16\" class=\"row_heading level0 row16\" >16</th>\n",
       "                        <td id=\"T_9aa69_row16_col0\" class=\"data row16 col0\" >FFF</td>\n",
       "                        <td id=\"T_9aa69_row16_col1\" class=\"data row16 col1\" >2014J</td>\n",
       "                        <td id=\"T_9aa69_row16_col2\" class=\"data row16 col2\" >269</td>\n",
       "                        <td id=\"T_9aa69_row16_col3\" class=\"data row16 col3\" >13</td>\n",
       "                        <td id=\"T_9aa69_row16_col4\" class=\"data row16 col4\" >78.616411</td>\n",
       "                        <td id=\"T_9aa69_row16_col5\" class=\"data row16 col5\" >1348.666667</td>\n",
       "                        <td id=\"T_9aa69_row16_col6\" class=\"data row16 col6\" >2365</td>\n",
       "                        <td id=\"T_9aa69_row16_col7\" class=\"data row16 col7\" >859</td>\n",
       "                        <td id=\"T_9aa69_row16_col8\" class=\"data row16 col8\" >393</td>\n",
       "                        <td id=\"T_9aa69_row16_col9\" class=\"data row16 col9\" >855</td>\n",
       "                        <td id=\"T_9aa69_row16_col10\" class=\"data row16 col10\" >258</td>\n",
       "                        <td id=\"T_9aa69_row16_col11\" class=\"data row16 col11\" >2358</td>\n",
       "                        <td id=\"T_9aa69_row16_col12\" class=\"data row16 col12\" >831</td>\n",
       "            </tr>\n",
       "            <tr>\n",
       "                        <th id=\"T_9aa69_level0_row17\" class=\"row_heading level0 row17\" >17</th>\n",
       "                        <td id=\"T_9aa69_row17_col0\" class=\"data row17 col0\" >FFF</td>\n",
       "                        <td id=\"T_9aa69_row17_col1\" class=\"data row17 col1\" >2013B</td>\n",
       "                        <td id=\"T_9aa69_row17_col2\" class=\"data row17 col2\" >240</td>\n",
       "                        <td id=\"T_9aa69_row17_col3\" class=\"data row17 col3\" >13</td>\n",
       "                        <td id=\"T_9aa69_row17_col4\" class=\"data row17 col4\" >77.893981</td>\n",
       "                        <td id=\"T_9aa69_row17_col5\" class=\"data row17 col5\" >1016.250000</td>\n",
       "                        <td id=\"T_9aa69_row17_col6\" class=\"data row17 col6\" >1614</td>\n",
       "                        <td id=\"T_9aa69_row17_col7\" class=\"data row17 col7\" >664</td>\n",
       "                        <td id=\"T_9aa69_row17_col8\" class=\"data row17 col8\" >421</td>\n",
       "                        <td id=\"T_9aa69_row17_col9\" class=\"data row17 col9\" >411</td>\n",
       "                        <td id=\"T_9aa69_row17_col10\" class=\"data row17 col10\" >118</td>\n",
       "                        <td id=\"T_9aa69_row17_col11\" class=\"data row17 col11\" >1605</td>\n",
       "                        <td id=\"T_9aa69_row17_col12\" class=\"data row17 col12\" >411</td>\n",
       "            </tr>\n",
       "            <tr>\n",
       "                        <th id=\"T_9aa69_level0_row18\" class=\"row_heading level0 row18\" >18</th>\n",
       "                        <td id=\"T_9aa69_row18_col0\" class=\"data row18 col0\" >FFF</td>\n",
       "                        <td id=\"T_9aa69_row18_col1\" class=\"data row18 col1\" >2014B</td>\n",
       "                        <td id=\"T_9aa69_row18_col2\" class=\"data row18 col2\" >241</td>\n",
       "                        <td id=\"T_9aa69_row18_col3\" class=\"data row18 col3\" >13</td>\n",
       "                        <td id=\"T_9aa69_row18_col4\" class=\"data row18 col4\" >76.530973</td>\n",
       "                        <td id=\"T_9aa69_row18_col5\" class=\"data row18 col5\" >849.666667</td>\n",
       "                        <td id=\"T_9aa69_row18_col6\" class=\"data row18 col6\" >1500</td>\n",
       "                        <td id=\"T_9aa69_row18_col7\" class=\"data row18 col7\" >547</td>\n",
       "                        <td id=\"T_9aa69_row18_col8\" class=\"data row18 col8\" >384</td>\n",
       "                        <td id=\"T_9aa69_row18_col9\" class=\"data row18 col9\" >462</td>\n",
       "                        <td id=\"T_9aa69_row18_col10\" class=\"data row18 col10\" >107</td>\n",
       "                        <td id=\"T_9aa69_row18_col11\" class=\"data row18 col11\" >1482</td>\n",
       "                        <td id=\"T_9aa69_row18_col12\" class=\"data row18 col12\" >461</td>\n",
       "            </tr>\n",
       "            <tr>\n",
       "                        <th id=\"T_9aa69_level0_row19\" class=\"row_heading level0 row19\" >19</th>\n",
       "                        <td id=\"T_9aa69_row19_col0\" class=\"data row19 col0\" >GGG</td>\n",
       "                        <td id=\"T_9aa69_row19_col1\" class=\"data row19 col1\" >2013J</td>\n",
       "                        <td id=\"T_9aa69_row19_col2\" class=\"data row19 col2\" >261</td>\n",
       "                        <td id=\"T_9aa69_row19_col3\" class=\"data row19 col3\" >10</td>\n",
       "                        <td id=\"T_9aa69_row19_col4\" class=\"data row19 col4\" >80.820468</td>\n",
       "                        <td id=\"T_9aa69_row19_col5\" class=\"data row19 col5\" >661.111111</td>\n",
       "                        <td id=\"T_9aa69_row19_col6\" class=\"data row19 col6\" >952</td>\n",
       "                        <td id=\"T_9aa69_row19_col7\" class=\"data row19 col7\" >451</td>\n",
       "                        <td id=\"T_9aa69_row19_col8\" class=\"data row19 col8\" >294</td>\n",
       "                        <td id=\"T_9aa69_row19_col9\" class=\"data row19 col9\" >66</td>\n",
       "                        <td id=\"T_9aa69_row19_col10\" class=\"data row19 col10\" >141</td>\n",
       "                        <td id=\"T_9aa69_row19_col11\" class=\"data row19 col11\" >951</td>\n",
       "                        <td id=\"T_9aa69_row19_col12\" class=\"data row19 col12\" >65</td>\n",
       "            </tr>\n",
       "            <tr>\n",
       "                        <th id=\"T_9aa69_level0_row20\" class=\"row_heading level0 row20\" >20</th>\n",
       "                        <td id=\"T_9aa69_row20_col0\" class=\"data row20 col0\" >GGG</td>\n",
       "                        <td id=\"T_9aa69_row20_col1\" class=\"data row20 col1\" >2014J</td>\n",
       "                        <td id=\"T_9aa69_row20_col2\" class=\"data row20 col2\" >269</td>\n",
       "                        <td id=\"T_9aa69_row20_col3\" class=\"data row20 col3\" >10</td>\n",
       "                        <td id=\"T_9aa69_row20_col4\" class=\"data row20 col4\" >79.576186</td>\n",
       "                        <td id=\"T_9aa69_row20_col5\" class=\"data row20 col5\" >485.888889</td>\n",
       "                        <td id=\"T_9aa69_row20_col6\" class=\"data row20 col6\" >749</td>\n",
       "                        <td id=\"T_9aa69_row20_col7\" class=\"data row20 col7\" >317</td>\n",
       "                        <td id=\"T_9aa69_row20_col8\" class=\"data row20 col8\" >179</td>\n",
       "                        <td id=\"T_9aa69_row20_col9\" class=\"data row20 col9\" >126</td>\n",
       "                        <td id=\"T_9aa69_row20_col10\" class=\"data row20 col10\" >127</td>\n",
       "                        <td id=\"T_9aa69_row20_col11\" class=\"data row20 col11\" >705</td>\n",
       "                        <td id=\"T_9aa69_row20_col12\" class=\"data row20 col12\" >124</td>\n",
       "            </tr>\n",
       "            <tr>\n",
       "                        <th id=\"T_9aa69_level0_row21\" class=\"row_heading level0 row21\" >21</th>\n",
       "                        <td id=\"T_9aa69_row21_col0\" class=\"data row21 col0\" >GGG</td>\n",
       "                        <td id=\"T_9aa69_row21_col1\" class=\"data row21 col1\" >2014B</td>\n",
       "                        <td id=\"T_9aa69_row21_col2\" class=\"data row21 col2\" >241</td>\n",
       "                        <td id=\"T_9aa69_row21_col3\" class=\"data row21 col3\" >10</td>\n",
       "                        <td id=\"T_9aa69_row21_col4\" class=\"data row21 col4\" >80.007677</td>\n",
       "                        <td id=\"T_9aa69_row21_col5\" class=\"data row21 col5\" >544.000000</td>\n",
       "                        <td id=\"T_9aa69_row21_col6\" class=\"data row21 col6\" >833</td>\n",
       "                        <td id=\"T_9aa69_row21_col7\" class=\"data row21 col7\" >350</td>\n",
       "                        <td id=\"T_9aa69_row21_col8\" class=\"data row21 col8\" >255</td>\n",
       "                        <td id=\"T_9aa69_row21_col9\" class=\"data row21 col9\" >100</td>\n",
       "                        <td id=\"T_9aa69_row21_col10\" class=\"data row21 col10\" >128</td>\n",
       "                        <td id=\"T_9aa69_row21_col11\" class=\"data row21 col11\" >831</td>\n",
       "                        <td id=\"T_9aa69_row21_col12\" class=\"data row21 col12\" >100</td>\n",
       "            </tr>\n",
       "    </tbody></table>"
      ],
      "text/plain": [
       "<pandas.io.formats.style.Styler at 0x2d90a5deac0>"
      ]
     },
     "execution_count": 9,
     "metadata": {},
     "output_type": "execute_result"
    }
   ],
   "source": [
    "df_num_of_assess = df_assessments.groupby(['code_module','code_presentation'])\\\n",
    "                                 .agg({'id_assessment':'count'}).reset_index()\n",
    "\n",
    "df_course_info = df_course.merge(df_num_of_assess,on=['code_module','code_presentation'],how='left')\n",
    "\n",
    "df_Asem_average_score = df_studentAssessment.groupby('id_assessment')\\\n",
    "                                            .agg({'score' : 'mean', 'id_student' : 'count'}).reset_index()\n",
    "\n",
    "df_Asem_average_score.rename(columns={'score':'avg_score','id_student' : 'students_take_exam'},inplace=True)\n",
    "\n",
    "df_Asem_score = df_assessments.merge(df_Asem_average_score,on='id_assessment',how='left')\n",
    "\n",
    "nan_score_value = df_Asem_score[df_Asem_score['avg_score'].isnull()].index        # Check nan average score value\n",
    "\n",
    "df_Asem_score = df_Asem_score.drop(nan_score_value).reset_index()\n",
    "\n",
    "df_Asem_score_per_course = df_Asem_score.groupby(['code_module','code_presentation'])\\\n",
    "                                        .agg({'avg_score':'mean','students_take_exam':'mean'}).reset_index()\n",
    "\n",
    "df_course_info = df_course_info.merge(df_Asem_score_per_course,on=['code_module','code_presentation'],how='left')\n",
    "\n",
    "df_studentInfo_num_of_student = df_studentInfo.groupby(['code_module','code_presentation'])\\\n",
    "                                              .agg({'id_student':'count'}).reset_index()\n",
    "\n",
    "df_course_info = df_course_info.merge(df_studentInfo_num_of_student,on=['code_module','code_presentation'],how='left')\n",
    "\n",
    "df_studentInfo_final_result = df_studentInfo.groupby(['final_result','code_module','code_presentation']).agg({'id_student':'count'})\n",
    "\n",
    "df_Pass = df_studentInfo_final_result.loc['Pass'].reset_index()\n",
    "df_Pass.rename(columns={'id_student':'Pass'},inplace=True)\n",
    "df_Fail = df_studentInfo_final_result.loc['Fail'].reset_index()\n",
    "df_Fail.rename(columns={'id_student':'Fail'},inplace=True)\n",
    "df_Withdrawn = df_studentInfo_final_result.loc['Withdrawn'].reset_index()\n",
    "df_Withdrawn.rename(columns={'id_student':'Withdrawn'},inplace=True)\n",
    "df_Distinction = df_studentInfo_final_result.loc['Distinction'].reset_index()\n",
    "df_Distinction.rename(columns={'id_student':'Distinction'},inplace=True)\n",
    "\n",
    "df_all_finalresult = df_Pass.merge(df_Fail,on=['code_module','code_presentation'])\\\n",
    "                            .merge(df_Withdrawn,on=['code_module','code_presentation'])\\\n",
    "                            .merge(df_Distinction,on=['code_module','code_presentation'])\n",
    "\n",
    "df_course_info = df_course_info.merge(df_all_finalresult,on=['code_module','code_presentation'])\n",
    "\n",
    "df_regis_soon = df_studentRegis[df_studentRegis['date_registration'] < 0]\\\n",
    "                                .groupby(['code_module','code_presentation']).agg({'date_registration':'count'}).reset_index()\n",
    "\n",
    "df_unregis = df_studentRegis.groupby(['code_module','code_presentation']).agg({'date_unregistration':'count'}).reset_index()\n",
    "\n",
    "df_course_info = df_course_info.merge(df_regis_soon,on=['code_module','code_presentation'])\\\n",
    "                                .merge(df_unregis,on=['code_module','code_presentation'])\n",
    "\n",
    "df_course_info.rename(columns={'id_assessment':'num_of_assessment','id_student':'num_of_student'},inplace=True)\n",
    "df_course_info.rename(columns={'date_registration':'num_of_soon_regis','date_unregistration':'num_of_unregis'},inplace=True)\n",
    "df_course_info.style.set_caption('Table 1: Course information')"
   ]
  },
  {
   "cell_type": "markdown",
   "id": "819ac58a",
   "metadata": {
    "hideCode": true,
    "hidePrompt": true
   },
   "source": [
    "NOTE- Explaination schema:\n",
    "+ **num_of_assessment** - the number of assessments in the presentation\n",
    "+ **avg_score** - average score per student in specific course and presentation\n",
    "+ **students_take_exam** - the number of average students taking exam in specific course and presentation\n",
    "+ **num_of_student** - the number of students in specific course and presentation\n",
    "+ **Pass** - the number of students passing in specific course and presentation\n",
    "+ **Fail** - the number of students failing in specific course and presentation\n",
    "+ **Withdrawn** - the number of students withdrawning in specific course and presentation\n",
    "+ **Distinction** - the number of distinction students in specific course and presentation\n",
    "+ **num_of_soon_regis** - the number of students registering course soon in specific course and presentation\n",
    "+ **num_of_unregis** - the number of students unregistraion course in specific course and presentation"
   ]
  },
  {
   "cell_type": "markdown",
   "id": "c62189eb",
   "metadata": {
    "hideCode": true,
    "hidePrompt": true
   },
   "source": [
    "Note:   After clearing table some data is missing (for example: data about assessment exam)"
   ]
  },
  {
   "cell_type": "markdown",
   "id": "f4cffd08",
   "metadata": {
    "hideCode": true,
    "hidePrompt": true
   },
   "source": [
    "#### "
   ]
  },
  {
   "cell_type": "markdown",
   "id": "34c9af17",
   "metadata": {
    "hideCode": true,
    "hidePrompt": true
   },
   "source": [
    "### 2.2 Processing data about student"
   ]
  },
  {
   "cell_type": "markdown",
   "id": "25d54107",
   "metadata": {
    "hideCode": true,
    "hidePrompt": true
   },
   "source": [
    "- Input tables: \n",
    "    + student Assessment\n",
    "    + assessment\n",
    "    + student information\n",
    "    + studentVle\n",
    "    + student registration\n",
    "- Method: using pandas api **groupby**, **merge** to group and create new table, value and **rename** some columns.\n",
    "- Output table:\n",
    "    + Student detailed information (df_studentInfo_score):\n",
    "        - Table size: (32593, 17)\n",
    "        - Table columns: ['code_module', 'code_presentation', 'id_student', 'gender', 'region',\n",
    "       'highest_education', 'imd_band', 'age_band', 'num_of_prev_attempts',\n",
    "       'studied_credits', 'disability', 'final_result', 'avg_score',\n",
    "       'num_of_assess_take', 'sum_click', 'soon_regis', 'un_regis']\n",
    "        - Checking duplicated values:\n",
    "            + The number of values that student take more than 1 course: 3808\n",
    "            + The number of values that student take more than 1 course in the same semester: 1081\n",
    "            + The number of values that student take a course more than 1 time: 1309"
   ]
  },
  {
   "cell_type": "code",
   "execution_count": 10,
   "id": "f764fd54",
   "metadata": {
    "hideCode": true,
    "hidePrompt": true
   },
   "outputs": [
    {
     "data": {
      "text/html": [
       "<div>\n",
       "<style scoped>\n",
       "    .dataframe tbody tr th:only-of-type {\n",
       "        vertical-align: middle;\n",
       "    }\n",
       "\n",
       "    .dataframe tbody tr th {\n",
       "        vertical-align: top;\n",
       "    }\n",
       "\n",
       "    .dataframe thead th {\n",
       "        text-align: right;\n",
       "    }\n",
       "</style>\n",
       "<table border=\"1\" class=\"dataframe\">\n",
       "  <thead>\n",
       "    <tr style=\"text-align: right;\">\n",
       "      <th></th>\n",
       "      <th>code_module</th>\n",
       "      <th>code_presentation</th>\n",
       "      <th>id_student</th>\n",
       "      <th>gender</th>\n",
       "      <th>region</th>\n",
       "      <th>highest_education</th>\n",
       "      <th>imd_band</th>\n",
       "      <th>age_band</th>\n",
       "      <th>num_of_prev_attempts</th>\n",
       "      <th>studied_credits</th>\n",
       "      <th>disability</th>\n",
       "      <th>final_result</th>\n",
       "      <th>avg_score</th>\n",
       "      <th>num_of_assess_take</th>\n",
       "      <th>sum_click</th>\n",
       "      <th>soon_regis</th>\n",
       "      <th>un_regis</th>\n",
       "    </tr>\n",
       "  </thead>\n",
       "  <tbody>\n",
       "    <tr>\n",
       "      <th>0</th>\n",
       "      <td>AAA</td>\n",
       "      <td>2013J</td>\n",
       "      <td>11391</td>\n",
       "      <td>M</td>\n",
       "      <td>East Anglian Region</td>\n",
       "      <td>HE Qualification</td>\n",
       "      <td>90-100%</td>\n",
       "      <td>55&lt;=</td>\n",
       "      <td>0</td>\n",
       "      <td>240</td>\n",
       "      <td>N</td>\n",
       "      <td>Pass</td>\n",
       "      <td>82.000000</td>\n",
       "      <td>5.0</td>\n",
       "      <td>934.0</td>\n",
       "      <td>True</td>\n",
       "      <td>False</td>\n",
       "    </tr>\n",
       "    <tr>\n",
       "      <th>1</th>\n",
       "      <td>AAA</td>\n",
       "      <td>2013J</td>\n",
       "      <td>28400</td>\n",
       "      <td>F</td>\n",
       "      <td>Scotland</td>\n",
       "      <td>HE Qualification</td>\n",
       "      <td>20-30%</td>\n",
       "      <td>35-55</td>\n",
       "      <td>0</td>\n",
       "      <td>60</td>\n",
       "      <td>N</td>\n",
       "      <td>Pass</td>\n",
       "      <td>66.400000</td>\n",
       "      <td>5.0</td>\n",
       "      <td>1435.0</td>\n",
       "      <td>True</td>\n",
       "      <td>False</td>\n",
       "    </tr>\n",
       "    <tr>\n",
       "      <th>2</th>\n",
       "      <td>AAA</td>\n",
       "      <td>2013J</td>\n",
       "      <td>30268</td>\n",
       "      <td>F</td>\n",
       "      <td>North Western Region</td>\n",
       "      <td>A Level or Equivalent</td>\n",
       "      <td>30-40%</td>\n",
       "      <td>35-55</td>\n",
       "      <td>0</td>\n",
       "      <td>60</td>\n",
       "      <td>Y</td>\n",
       "      <td>Withdrawn</td>\n",
       "      <td>NaN</td>\n",
       "      <td>NaN</td>\n",
       "      <td>281.0</td>\n",
       "      <td>True</td>\n",
       "      <td>True</td>\n",
       "    </tr>\n",
       "    <tr>\n",
       "      <th>3</th>\n",
       "      <td>AAA</td>\n",
       "      <td>2013J</td>\n",
       "      <td>31604</td>\n",
       "      <td>F</td>\n",
       "      <td>South East Region</td>\n",
       "      <td>A Level or Equivalent</td>\n",
       "      <td>50-60%</td>\n",
       "      <td>35-55</td>\n",
       "      <td>0</td>\n",
       "      <td>60</td>\n",
       "      <td>N</td>\n",
       "      <td>Pass</td>\n",
       "      <td>76.000000</td>\n",
       "      <td>5.0</td>\n",
       "      <td>2158.0</td>\n",
       "      <td>True</td>\n",
       "      <td>False</td>\n",
       "    </tr>\n",
       "    <tr>\n",
       "      <th>4</th>\n",
       "      <td>AAA</td>\n",
       "      <td>2013J</td>\n",
       "      <td>32885</td>\n",
       "      <td>F</td>\n",
       "      <td>West Midlands Region</td>\n",
       "      <td>Lower Than A Level</td>\n",
       "      <td>50-60%</td>\n",
       "      <td>0-35</td>\n",
       "      <td>0</td>\n",
       "      <td>60</td>\n",
       "      <td>N</td>\n",
       "      <td>Pass</td>\n",
       "      <td>54.400000</td>\n",
       "      <td>5.0</td>\n",
       "      <td>1034.0</td>\n",
       "      <td>True</td>\n",
       "      <td>False</td>\n",
       "    </tr>\n",
       "    <tr>\n",
       "      <th>...</th>\n",
       "      <td>...</td>\n",
       "      <td>...</td>\n",
       "      <td>...</td>\n",
       "      <td>...</td>\n",
       "      <td>...</td>\n",
       "      <td>...</td>\n",
       "      <td>...</td>\n",
       "      <td>...</td>\n",
       "      <td>...</td>\n",
       "      <td>...</td>\n",
       "      <td>...</td>\n",
       "      <td>...</td>\n",
       "      <td>...</td>\n",
       "      <td>...</td>\n",
       "      <td>...</td>\n",
       "      <td>...</td>\n",
       "      <td>...</td>\n",
       "    </tr>\n",
       "    <tr>\n",
       "      <th>32588</th>\n",
       "      <td>GGG</td>\n",
       "      <td>2014J</td>\n",
       "      <td>2640965</td>\n",
       "      <td>F</td>\n",
       "      <td>Wales</td>\n",
       "      <td>Lower Than A Level</td>\n",
       "      <td>10-20</td>\n",
       "      <td>0-35</td>\n",
       "      <td>0</td>\n",
       "      <td>30</td>\n",
       "      <td>N</td>\n",
       "      <td>Fail</td>\n",
       "      <td>NaN</td>\n",
       "      <td>NaN</td>\n",
       "      <td>41.0</td>\n",
       "      <td>True</td>\n",
       "      <td>False</td>\n",
       "    </tr>\n",
       "    <tr>\n",
       "      <th>32589</th>\n",
       "      <td>GGG</td>\n",
       "      <td>2014J</td>\n",
       "      <td>2645731</td>\n",
       "      <td>F</td>\n",
       "      <td>East Anglian Region</td>\n",
       "      <td>Lower Than A Level</td>\n",
       "      <td>40-50%</td>\n",
       "      <td>35-55</td>\n",
       "      <td>0</td>\n",
       "      <td>30</td>\n",
       "      <td>N</td>\n",
       "      <td>Distinction</td>\n",
       "      <td>88.111111</td>\n",
       "      <td>9.0</td>\n",
       "      <td>893.0</td>\n",
       "      <td>True</td>\n",
       "      <td>False</td>\n",
       "    </tr>\n",
       "    <tr>\n",
       "      <th>32590</th>\n",
       "      <td>GGG</td>\n",
       "      <td>2014J</td>\n",
       "      <td>2648187</td>\n",
       "      <td>F</td>\n",
       "      <td>South Region</td>\n",
       "      <td>A Level or Equivalent</td>\n",
       "      <td>20-30%</td>\n",
       "      <td>0-35</td>\n",
       "      <td>0</td>\n",
       "      <td>30</td>\n",
       "      <td>Y</td>\n",
       "      <td>Pass</td>\n",
       "      <td>76.666667</td>\n",
       "      <td>9.0</td>\n",
       "      <td>312.0</td>\n",
       "      <td>True</td>\n",
       "      <td>False</td>\n",
       "    </tr>\n",
       "    <tr>\n",
       "      <th>32591</th>\n",
       "      <td>GGG</td>\n",
       "      <td>2014J</td>\n",
       "      <td>2679821</td>\n",
       "      <td>F</td>\n",
       "      <td>South East Region</td>\n",
       "      <td>Lower Than A Level</td>\n",
       "      <td>90-100%</td>\n",
       "      <td>35-55</td>\n",
       "      <td>0</td>\n",
       "      <td>30</td>\n",
       "      <td>N</td>\n",
       "      <td>Withdrawn</td>\n",
       "      <td>91.500000</td>\n",
       "      <td>2.0</td>\n",
       "      <td>275.0</td>\n",
       "      <td>True</td>\n",
       "      <td>True</td>\n",
       "    </tr>\n",
       "    <tr>\n",
       "      <th>32592</th>\n",
       "      <td>GGG</td>\n",
       "      <td>2014J</td>\n",
       "      <td>2684003</td>\n",
       "      <td>F</td>\n",
       "      <td>Yorkshire Region</td>\n",
       "      <td>HE Qualification</td>\n",
       "      <td>50-60%</td>\n",
       "      <td>35-55</td>\n",
       "      <td>0</td>\n",
       "      <td>30</td>\n",
       "      <td>N</td>\n",
       "      <td>Distinction</td>\n",
       "      <td>82.857143</td>\n",
       "      <td>7.0</td>\n",
       "      <td>616.0</td>\n",
       "      <td>True</td>\n",
       "      <td>False</td>\n",
       "    </tr>\n",
       "  </tbody>\n",
       "</table>\n",
       "<p>32593 rows × 17 columns</p>\n",
       "</div>"
      ],
      "text/plain": [
       "      code_module code_presentation  id_student gender                region  \\\n",
       "0             AAA             2013J       11391      M   East Anglian Region   \n",
       "1             AAA             2013J       28400      F              Scotland   \n",
       "2             AAA             2013J       30268      F  North Western Region   \n",
       "3             AAA             2013J       31604      F     South East Region   \n",
       "4             AAA             2013J       32885      F  West Midlands Region   \n",
       "...           ...               ...         ...    ...                   ...   \n",
       "32588         GGG             2014J     2640965      F                 Wales   \n",
       "32589         GGG             2014J     2645731      F   East Anglian Region   \n",
       "32590         GGG             2014J     2648187      F          South Region   \n",
       "32591         GGG             2014J     2679821      F     South East Region   \n",
       "32592         GGG             2014J     2684003      F      Yorkshire Region   \n",
       "\n",
       "           highest_education imd_band age_band  num_of_prev_attempts  \\\n",
       "0           HE Qualification  90-100%     55<=                     0   \n",
       "1           HE Qualification   20-30%    35-55                     0   \n",
       "2      A Level or Equivalent   30-40%    35-55                     0   \n",
       "3      A Level or Equivalent   50-60%    35-55                     0   \n",
       "4         Lower Than A Level   50-60%     0-35                     0   \n",
       "...                      ...      ...      ...                   ...   \n",
       "32588     Lower Than A Level    10-20     0-35                     0   \n",
       "32589     Lower Than A Level   40-50%    35-55                     0   \n",
       "32590  A Level or Equivalent   20-30%     0-35                     0   \n",
       "32591     Lower Than A Level  90-100%    35-55                     0   \n",
       "32592       HE Qualification   50-60%    35-55                     0   \n",
       "\n",
       "       studied_credits disability final_result  avg_score  num_of_assess_take  \\\n",
       "0                  240          N         Pass  82.000000                 5.0   \n",
       "1                   60          N         Pass  66.400000                 5.0   \n",
       "2                   60          Y    Withdrawn        NaN                 NaN   \n",
       "3                   60          N         Pass  76.000000                 5.0   \n",
       "4                   60          N         Pass  54.400000                 5.0   \n",
       "...                ...        ...          ...        ...                 ...   \n",
       "32588               30          N         Fail        NaN                 NaN   \n",
       "32589               30          N  Distinction  88.111111                 9.0   \n",
       "32590               30          Y         Pass  76.666667                 9.0   \n",
       "32591               30          N    Withdrawn  91.500000                 2.0   \n",
       "32592               30          N  Distinction  82.857143                 7.0   \n",
       "\n",
       "       sum_click  soon_regis  un_regis  \n",
       "0          934.0        True     False  \n",
       "1         1435.0        True     False  \n",
       "2          281.0        True      True  \n",
       "3         2158.0        True     False  \n",
       "4         1034.0        True     False  \n",
       "...          ...         ...       ...  \n",
       "32588       41.0        True     False  \n",
       "32589      893.0        True     False  \n",
       "32590      312.0        True     False  \n",
       "32591      275.0        True      True  \n",
       "32592      616.0        True     False  \n",
       "\n",
       "[32593 rows x 17 columns]"
      ]
     },
     "execution_count": 10,
     "metadata": {},
     "output_type": "execute_result"
    }
   ],
   "source": [
    "df_student_Avg_score_by_each_asem = df_studentAssessment[['id_student','id_assessment','score','date_submitted']]\n",
    "\n",
    "df_student_Avg_score_by_each_asem = df_student_Avg_score_by_each_asem.merge(df_assessments,on='id_assessment',how='left')\n",
    "\n",
    "df_student_Avg_score_whole_asem = df_student_Avg_score_by_each_asem.groupby(['id_student','code_module','code_presentation'])\\\n",
    "                                                                   .agg({'score':'mean','date_submitted':'count'}).reset_index()\n",
    "\n",
    "df_studentInfo_score = df_studentInfo.merge(df_student_Avg_score_whole_asem,left_on=['code_module','code_presentation','id_student'],\n",
    "                                           right_on=['code_module','code_presentation','id_student'],how='left')\n",
    "\n",
    "df_studentVle_click = df_studentVle.groupby(['id_student','code_module','code_presentation']).agg({'sum_click' : 'sum'}).reset_index()\n",
    "\n",
    "df_studentInfo_score = df_studentInfo_score.merge(df_studentVle_click,left_on=['code_module','code_presentation','id_student'],\n",
    "                                           right_on=['code_module','code_presentation','id_student'],how='left')\n",
    "\n",
    "df_studentInfo_score.rename(columns={'score':'avg_score','date_submitted':'num_of_assess_take'},inplace=True)\n",
    "\n",
    "df_studentRegis['soon_regis'] = df_studentRegis['date_registration'] < 0\n",
    "\n",
    "df_studentRegis['un_regis'] = df_studentRegis['date_unregistration'].notna()\n",
    "\n",
    "df_studentInfo_score = df_studentInfo_score.merge(df_studentRegis[['code_module','code_presentation','id_student','soon_regis','un_regis']],\n",
    "                                           left_on=['code_module','code_presentation','id_student'],\n",
    "                                           right_on=['code_module','code_presentation','id_student'],how='left')\n",
    "\n",
    "df_studentInfo_score"
   ]
  },
  {
   "cell_type": "markdown",
   "id": "6a86a471",
   "metadata": {
    "hideCode": true,
    "hidePrompt": true
   },
   "source": [
    "**Table 2: Student detailed information**"
   ]
  },
  {
   "cell_type": "markdown",
   "id": "c5b67a47",
   "metadata": {
    "hideCode": true,
    "hidePrompt": true
   },
   "source": [
    "NOTE- Explaination schema:\n",
    "+ **num_of_assess_take** - the number of times that student take assessment\n",
    "+ **sum_click** - the number of clicks that student interact with material of VLE\n",
    "+ **soon_regis** - the student register a course soon compared to the start date of course or not\n",
    "+ **un_regis** - the student unregis a course"
   ]
  },
  {
   "cell_type": "markdown",
   "id": "d0827892",
   "metadata": {
    "hideCode": true,
    "hidePrompt": true
   },
   "source": [
    "#### "
   ]
  },
  {
   "cell_type": "markdown",
   "id": "4cca2631",
   "metadata": {
    "hideCode": true,
    "hidePrompt": true
   },
   "source": [
    "### 2.3 Processing data about material and assessment type"
   ]
  },
  {
   "cell_type": "markdown",
   "id": "e3313078",
   "metadata": {
    "hideCode": true,
    "hidePrompt": true
   },
   "source": [
    "#### 2.3.1 Material"
   ]
  },
  {
   "cell_type": "markdown",
   "id": "99dc8300",
   "metadata": {
    "hideCode": true,
    "hidePrompt": true
   },
   "source": [
    "- Input tables: \n",
    "    + studentVle\n",
    "    + vle\n",
    "- Method: using pandas api **groupby**, **merge** to group and create new table, value and **drop** to remove nan values.\n",
    "- Output table:\n",
    "    + Material (df_material_click):\n",
    "        - Table size: (232,1)\n",
    "        - Table columns: ['sum_click'], index -['code_module','code_presentation','activity_type']\n",
    "        - Checking duplicated values: None"
   ]
  },
  {
   "cell_type": "code",
   "execution_count": 11,
   "id": "4725567c",
   "metadata": {
    "hideCode": true,
    "hidePrompt": true
   },
   "outputs": [
    {
     "data": {
      "text/html": [
       "<div>\n",
       "<style scoped>\n",
       "    .dataframe tbody tr th:only-of-type {\n",
       "        vertical-align: middle;\n",
       "    }\n",
       "\n",
       "    .dataframe tbody tr th {\n",
       "        vertical-align: top;\n",
       "    }\n",
       "\n",
       "    .dataframe thead th {\n",
       "        text-align: right;\n",
       "    }\n",
       "</style>\n",
       "<table border=\"1\" class=\"dataframe\">\n",
       "  <thead>\n",
       "    <tr style=\"text-align: right;\">\n",
       "      <th></th>\n",
       "      <th></th>\n",
       "      <th></th>\n",
       "      <th>sum_click</th>\n",
       "    </tr>\n",
       "    <tr>\n",
       "      <th>code_module</th>\n",
       "      <th>code_presentation</th>\n",
       "      <th>activity_type</th>\n",
       "      <th></th>\n",
       "    </tr>\n",
       "  </thead>\n",
       "  <tbody>\n",
       "    <tr>\n",
       "      <th rowspan=\"5\" valign=\"top\">AAA</th>\n",
       "      <th rowspan=\"5\" valign=\"top\">2013J</th>\n",
       "      <th>dataplus</th>\n",
       "      <td>1843.0</td>\n",
       "    </tr>\n",
       "    <tr>\n",
       "      <th>forumng</th>\n",
       "      <td>175513.0</td>\n",
       "    </tr>\n",
       "    <tr>\n",
       "      <th>glossary</th>\n",
       "      <td>327.0</td>\n",
       "    </tr>\n",
       "    <tr>\n",
       "      <th>homepage</th>\n",
       "      <td>140345.0</td>\n",
       "    </tr>\n",
       "    <tr>\n",
       "      <th>oucollaborate</th>\n",
       "      <td>241.0</td>\n",
       "    </tr>\n",
       "    <tr>\n",
       "      <th>...</th>\n",
       "      <th>...</th>\n",
       "      <th>...</th>\n",
       "      <td>...</td>\n",
       "    </tr>\n",
       "    <tr>\n",
       "      <th rowspan=\"5\" valign=\"top\">GGG</th>\n",
       "      <th rowspan=\"5\" valign=\"top\">2014J</th>\n",
       "      <th>homepage</th>\n",
       "      <td>83253.0</td>\n",
       "    </tr>\n",
       "    <tr>\n",
       "      <th>oucontent</th>\n",
       "      <td>156045.0</td>\n",
       "    </tr>\n",
       "    <tr>\n",
       "      <th>quiz</th>\n",
       "      <td>57337.0</td>\n",
       "    </tr>\n",
       "    <tr>\n",
       "      <th>resource</th>\n",
       "      <td>26147.0</td>\n",
       "    </tr>\n",
       "    <tr>\n",
       "      <th>subpage</th>\n",
       "      <td>17488.0</td>\n",
       "    </tr>\n",
       "  </tbody>\n",
       "</table>\n",
       "<p>232 rows × 1 columns</p>\n",
       "</div>"
      ],
      "text/plain": [
       "                                             sum_click\n",
       "code_module code_presentation activity_type           \n",
       "AAA         2013J             dataplus          1843.0\n",
       "                              forumng         175513.0\n",
       "                              glossary           327.0\n",
       "                              homepage        140345.0\n",
       "                              oucollaborate      241.0\n",
       "...                                                ...\n",
       "GGG         2014J             homepage         83253.0\n",
       "                              oucontent       156045.0\n",
       "                              quiz             57337.0\n",
       "                              resource         26147.0\n",
       "                              subpage          17488.0\n",
       "\n",
       "[232 rows x 1 columns]"
      ]
     },
     "execution_count": 11,
     "metadata": {},
     "output_type": "execute_result"
    }
   ],
   "source": [
    "df_material = df_studentVle.groupby('id_site').agg({'sum_click':'sum'}).reset_index()\n",
    "\n",
    "df_material_click = df_vle.merge(df_material,on='id_site',how='left')\n",
    "\n",
    "nan_click_value = df_material_click[df_material_click['sum_click'].isna()].index\n",
    "\n",
    "df_material_click.drop(nan_click_value,inplace=True)\n",
    "\n",
    "df_material_click = df_material_click.groupby(['code_module','code_presentation','activity_type']).agg({'sum_click':'sum'})\n",
    "\n",
    "df_material_click"
   ]
  },
  {
   "cell_type": "markdown",
   "id": "3bb302c8",
   "metadata": {
    "hideCode": true,
    "hidePrompt": true
   },
   "source": [
    "**Table 3: Material**"
   ]
  },
  {
   "cell_type": "markdown",
   "id": "4c35d2fe",
   "metadata": {
    "hideCode": true,
    "hidePrompt": true
   },
   "source": [
    "#### 2.3.2 Assessment type"
   ]
  },
  {
   "cell_type": "markdown",
   "id": "ebc57529",
   "metadata": {
    "hideCode": true,
    "hidePrompt": true
   },
   "source": [
    "- Input tables: \n",
    "    + studentVle\n",
    "    + vle\n",
    "- Method: using pandas api **groupby**, **merge** to group and create new table, value and **drop** to remove nan values.\n",
    "- Output table:\n",
    "    + Assessment_type (df_assessments_type):\n",
    "        - Table size: (41, 3)\n",
    "        - Table columns: ['assessment_type','avg_score','students_take_exam'], index -['code_module','code_presentation']\n",
    "        - Checking duplicated values: None"
   ]
  },
  {
   "cell_type": "code",
   "execution_count": 12,
   "id": "86bad77c",
   "metadata": {
    "hideCode": true,
    "hidePrompt": true
   },
   "outputs": [
    {
     "data": {
      "text/html": [
       "<div>\n",
       "<style scoped>\n",
       "    .dataframe tbody tr th:only-of-type {\n",
       "        vertical-align: middle;\n",
       "    }\n",
       "\n",
       "    .dataframe tbody tr th {\n",
       "        vertical-align: top;\n",
       "    }\n",
       "\n",
       "    .dataframe thead th {\n",
       "        text-align: right;\n",
       "    }\n",
       "</style>\n",
       "<table border=\"1\" class=\"dataframe\">\n",
       "  <thead>\n",
       "    <tr style=\"text-align: right;\">\n",
       "      <th></th>\n",
       "      <th></th>\n",
       "      <th>assessment_type</th>\n",
       "      <th>avg_score</th>\n",
       "      <th>students_take_exam</th>\n",
       "    </tr>\n",
       "    <tr>\n",
       "      <th>code_module</th>\n",
       "      <th>code_presentation</th>\n",
       "      <th></th>\n",
       "      <th></th>\n",
       "      <th></th>\n",
       "    </tr>\n",
       "  </thead>\n",
       "  <tbody>\n",
       "    <tr>\n",
       "      <th rowspan=\"2\" valign=\"top\">AAA</th>\n",
       "      <th>2013J</th>\n",
       "      <td>TMA</td>\n",
       "      <td>69.448600</td>\n",
       "      <td>326.600000</td>\n",
       "    </tr>\n",
       "    <tr>\n",
       "      <th>2014J</th>\n",
       "      <td>TMA</td>\n",
       "      <td>68.631236</td>\n",
       "      <td>303.200000</td>\n",
       "    </tr>\n",
       "    <tr>\n",
       "      <th rowspan=\"7\" valign=\"top\">BBB</th>\n",
       "      <th>2013B</th>\n",
       "      <td>CMA</td>\n",
       "      <td>87.978861</td>\n",
       "      <td>1009.800000</td>\n",
       "    </tr>\n",
       "    <tr>\n",
       "      <th>2013B</th>\n",
       "      <td>TMA</td>\n",
       "      <td>71.759665</td>\n",
       "      <td>1034.500000</td>\n",
       "    </tr>\n",
       "    <tr>\n",
       "      <th>2013J</th>\n",
       "      <td>CMA</td>\n",
       "      <td>87.788918</td>\n",
       "      <td>1283.200000</td>\n",
       "    </tr>\n",
       "    <tr>\n",
       "      <th>2013J</th>\n",
       "      <td>TMA</td>\n",
       "      <td>71.643283</td>\n",
       "      <td>1326.500000</td>\n",
       "    </tr>\n",
       "    <tr>\n",
       "      <th>2014B</th>\n",
       "      <td>CMA</td>\n",
       "      <td>87.270401</td>\n",
       "      <td>898.600000</td>\n",
       "    </tr>\n",
       "    <tr>\n",
       "      <th>2014B</th>\n",
       "      <td>TMA</td>\n",
       "      <td>71.947250</td>\n",
       "      <td>916.666667</td>\n",
       "    </tr>\n",
       "    <tr>\n",
       "      <th>2014J</th>\n",
       "      <td>TMA</td>\n",
       "      <td>66.123764</td>\n",
       "      <td>1481.600000</td>\n",
       "    </tr>\n",
       "    <tr>\n",
       "      <th>CCC</th>\n",
       "      <th>2014B</th>\n",
       "      <td>CMA</td>\n",
       "      <td>70.471546</td>\n",
       "      <td>980.000000</td>\n",
       "    </tr>\n",
       "  </tbody>\n",
       "</table>\n",
       "</div>"
      ],
      "text/plain": [
       "                              assessment_type  avg_score  students_take_exam\n",
       "code_module code_presentation                                               \n",
       "AAA         2013J                         TMA  69.448600          326.600000\n",
       "            2014J                         TMA  68.631236          303.200000\n",
       "BBB         2013B                         CMA  87.978861         1009.800000\n",
       "            2013B                         TMA  71.759665         1034.500000\n",
       "            2013J                         CMA  87.788918         1283.200000\n",
       "            2013J                         TMA  71.643283         1326.500000\n",
       "            2014B                         CMA  87.270401          898.600000\n",
       "            2014B                         TMA  71.947250          916.666667\n",
       "            2014J                         TMA  66.123764         1481.600000\n",
       "CCC         2014B                         CMA  70.471546          980.000000"
      ]
     },
     "execution_count": 12,
     "metadata": {},
     "output_type": "execute_result"
    }
   ],
   "source": [
    "df_assessments_type = df_Asem_score.groupby(['code_module','code_presentation','assessment_type'])\\\n",
    "                             .agg({'avg_score':'mean','students_take_exam':'mean'}).reset_index()\\\n",
    "                                                    .set_index(['code_module','code_presentation'])\n",
    "\n",
    "df_assessments_type.head(10)"
   ]
  },
  {
   "cell_type": "markdown",
   "id": "2709463b",
   "metadata": {
    "hideCode": true,
    "hidePrompt": true
   },
   "source": [
    "**Table 4: Assessment Type**"
   ]
  },
  {
   "cell_type": "markdown",
   "id": "2fbe7d27",
   "metadata": {
    "hideCode": true,
    "hidePrompt": true
   },
   "source": [
    "Note: Data about exams is missing"
   ]
  },
  {
   "cell_type": "markdown",
   "id": "74bdcf71",
   "metadata": {
    "hideCode": true,
    "hidePrompt": true
   },
   "source": [
    "#### Conclusion"
   ]
  },
  {
   "cell_type": "markdown",
   "id": "21a0060e",
   "metadata": {
    "hideCode": true,
    "hidePrompt": true
   },
   "source": [
    "* Directions in analyzing after grouping into 4 table:\n",
    "    + Courses data:\n",
    "        - Taking the whole detailed picture throughtout platform, courses, and presentation semester.\n",
    "        => Comparing figure and making conclusion about course that attract most student\n",
    "    + Student data:\n",
    "        - Summarizing in specific features (gender, age_band,..)\n",
    "        => Analyzing target students \n",
    "        - Summarizing withdrawn student\n",
    "        => Understanding the reason\n",
    "    + Material and Assessment type:\n",
    "        - Compare figure\n",
    "        => Evaluating frequency that student go the site and average score and the number of student take each exam"
   ]
  },
  {
   "cell_type": "markdown",
   "id": "a4ff83cd",
   "metadata": {
    "hideCode": true,
    "hidePrompt": true
   },
   "source": [
    "#### "
   ]
  },
  {
   "cell_type": "markdown",
   "id": "c11a7346",
   "metadata": {
    "hideCode": true,
    "hidePrompt": true
   },
   "source": [
    "## 3. Summarizing, Visualizing and Making insights of data"
   ]
  },
  {
   "cell_type": "markdown",
   "id": "d36e15e3",
   "metadata": {
    "hideCode": true,
    "hidePrompt": true
   },
   "source": [
    "### 3.1 Courses data"
   ]
  },
  {
   "cell_type": "markdown",
   "id": "316575a9",
   "metadata": {
    "hideCode": true,
    "hidePrompt": true
   },
   "source": [
    "- ***Summary data in virtual learning platforms:***"
   ]
  },
  {
   "cell_type": "code",
   "execution_count": 13,
   "id": "47a87b16",
   "metadata": {
    "hideCode": true,
    "hidePrompt": true
   },
   "outputs": [
    {
     "data": {
      "text/html": [
       "<style  type=\"text/css\" >\n",
       "</style><table id=\"T_b6ff2_\" ><caption>Summary 3.1.1: total students in VLE according to features</caption><thead>    <tr>        <th class=\"blank level0\" ></th>        <th class=\"col_heading level0 col0\" >Total</th>    </tr></thead><tbody>\n",
       "                <tr>\n",
       "                        <th id=\"T_b6ff2_level0_row0\" class=\"row_heading level0 row0\" >num_of_assessment</th>\n",
       "                        <td id=\"T_b6ff2_row0_col0\" class=\"data row0 col0\" >206</td>\n",
       "            </tr>\n",
       "            <tr>\n",
       "                        <th id=\"T_b6ff2_level0_row1\" class=\"row_heading level0 row1\" >students_take_exam</th>\n",
       "                        <td id=\"T_b6ff2_row1_col0\" class=\"data row1 col0\" >19354</td>\n",
       "            </tr>\n",
       "            <tr>\n",
       "                        <th id=\"T_b6ff2_level0_row2\" class=\"row_heading level0 row2\" >num_of_student</th>\n",
       "                        <td id=\"T_b6ff2_row2_col0\" class=\"data row2 col0\" >32593</td>\n",
       "            </tr>\n",
       "            <tr>\n",
       "                        <th id=\"T_b6ff2_level0_row3\" class=\"row_heading level0 row3\" >Pass</th>\n",
       "                        <td id=\"T_b6ff2_row3_col0\" class=\"data row3 col0\" >12361</td>\n",
       "            </tr>\n",
       "            <tr>\n",
       "                        <th id=\"T_b6ff2_level0_row4\" class=\"row_heading level0 row4\" >Fail</th>\n",
       "                        <td id=\"T_b6ff2_row4_col0\" class=\"data row4 col0\" >7052</td>\n",
       "            </tr>\n",
       "            <tr>\n",
       "                        <th id=\"T_b6ff2_level0_row5\" class=\"row_heading level0 row5\" >Withdrawn</th>\n",
       "                        <td id=\"T_b6ff2_row5_col0\" class=\"data row5 col0\" >10156</td>\n",
       "            </tr>\n",
       "            <tr>\n",
       "                        <th id=\"T_b6ff2_level0_row6\" class=\"row_heading level0 row6\" >Distinction</th>\n",
       "                        <td id=\"T_b6ff2_row6_col0\" class=\"data row6 col0\" >3024</td>\n",
       "            </tr>\n",
       "            <tr>\n",
       "                        <th id=\"T_b6ff2_level0_row7\" class=\"row_heading level0 row7\" >num_of_soon_regis</th>\n",
       "                        <td id=\"T_b6ff2_row7_col0\" class=\"data row7 col0\" >32312</td>\n",
       "            </tr>\n",
       "            <tr>\n",
       "                        <th id=\"T_b6ff2_level0_row8\" class=\"row_heading level0 row8\" >num_of_unregis</th>\n",
       "                        <td id=\"T_b6ff2_row8_col0\" class=\"data row8 col0\" >10072</td>\n",
       "            </tr>\n",
       "    </tbody></table>"
      ],
      "text/plain": [
       "<pandas.io.formats.style.Styler at 0x2d90a4197f0>"
      ]
     },
     "execution_count": 13,
     "metadata": {},
     "output_type": "execute_result"
    }
   ],
   "source": [
    "df_sum = df_course_info.sum(axis=0).to_frame(name='Total')\n",
    "\n",
    "df_sum.drop(['code_module','module_presentation_length','avg_score','code_presentation'],axis=0,inplace=True)\n",
    "\n",
    "df_sum.astype(int).style.set_caption('Summary 3.1.1: total students in VLE according to features')"
   ]
  },
  {
   "cell_type": "markdown",
   "id": "a196c05f",
   "metadata": {
    "hideCode": true,
    "hidePrompt": true
   },
   "source": [
    "    Note:\n",
    "        - num_of_student - The number of students taking course (regard with duplicated values)"
   ]
  },
  {
   "cell_type": "markdown",
   "id": "13d794b8",
   "metadata": {
    "hideCode": true,
    "hidePrompt": true
   },
   "source": [
    "- ***Summary data per courses:***"
   ]
  },
  {
   "cell_type": "code",
   "execution_count": 14,
   "id": "66a305c8",
   "metadata": {
    "hideCode": true,
    "hidePrompt": true,
    "scrolled": true
   },
   "outputs": [
    {
     "data": {
      "text/html": [
       "<style  type=\"text/css\" >\n",
       "#T_190ac_row0_col0,#T_190ac_row1_col0,#T_190ac_row2_col0,#T_190ac_row3_col0,#T_190ac_row4_col0,#T_190ac_row5_col0,#T_190ac_row6_col0,#T_190ac_row7_col0,#T_190ac_row7_col3,#T_190ac_row8_col0,#T_190ac_row9_col0{\n",
       "            background-color:  bisque;\n",
       "        }#T_190ac_row0_col5,#T_190ac_row1_col1,#T_190ac_row2_col1,#T_190ac_row3_col1,#T_190ac_row4_col1,#T_190ac_row5_col1,#T_190ac_row6_col5,#T_190ac_row7_col4,#T_190ac_row7_col6,#T_190ac_row8_col1,#T_190ac_row9_col5{\n",
       "            background-color:  lightgreen;\n",
       "        }</style><table id=\"T_190ac_\" ><caption>Summary 3.1.2: Total students of each course according to features</caption><thead>    <tr>        <th class=\"index_name level0\" >code_module</th>        <th class=\"col_heading level0 col0\" >AAA</th>        <th class=\"col_heading level0 col1\" >BBB</th>        <th class=\"col_heading level0 col2\" >CCC</th>        <th class=\"col_heading level0 col3\" >DDD</th>        <th class=\"col_heading level0 col4\" >EEE</th>        <th class=\"col_heading level0 col5\" >FFF</th>        <th class=\"col_heading level0 col6\" >GGG</th>    </tr></thead><tbody>\n",
       "                <tr>\n",
       "                        <th id=\"T_190ac_level0_row0\" class=\"row_heading level0 row0\" >num_of_assessment</th>\n",
       "                        <td id=\"T_190ac_row0_col0\" class=\"data row0 col0\" >12</td>\n",
       "                        <td id=\"T_190ac_row0_col1\" class=\"data row0 col1\" >42</td>\n",
       "                        <td id=\"T_190ac_row0_col2\" class=\"data row0 col2\" >20</td>\n",
       "                        <td id=\"T_190ac_row0_col3\" class=\"data row0 col3\" >35</td>\n",
       "                        <td id=\"T_190ac_row0_col4\" class=\"data row0 col4\" >15</td>\n",
       "                        <td id=\"T_190ac_row0_col5\" class=\"data row0 col5\" >52</td>\n",
       "                        <td id=\"T_190ac_row0_col6\" class=\"data row0 col6\" >30</td>\n",
       "            </tr>\n",
       "            <tr>\n",
       "                        <th id=\"T_190ac_level0_row1\" class=\"row_heading level0 row1\" >num_of_student</th>\n",
       "                        <td id=\"T_190ac_row1_col0\" class=\"data row1 col0\" >748</td>\n",
       "                        <td id=\"T_190ac_row1_col1\" class=\"data row1 col1\" >7909</td>\n",
       "                        <td id=\"T_190ac_row1_col2\" class=\"data row1 col2\" >4434</td>\n",
       "                        <td id=\"T_190ac_row1_col3\" class=\"data row1 col3\" >6272</td>\n",
       "                        <td id=\"T_190ac_row1_col4\" class=\"data row1 col4\" >2934</td>\n",
       "                        <td id=\"T_190ac_row1_col5\" class=\"data row1 col5\" >7762</td>\n",
       "                        <td id=\"T_190ac_row1_col6\" class=\"data row1 col6\" >2534</td>\n",
       "            </tr>\n",
       "            <tr>\n",
       "                        <th id=\"T_190ac_level0_row2\" class=\"row_heading level0 row2\" >students_take_exam</th>\n",
       "                        <td id=\"T_190ac_row2_col0\" class=\"data row2 col0\" >629</td>\n",
       "                        <td id=\"T_190ac_row2_col1\" class=\"data row2 col1\" >4720</td>\n",
       "                        <td id=\"T_190ac_row2_col2\" class=\"data row2 col2\" >2104</td>\n",
       "                        <td id=\"T_190ac_row2_col3\" class=\"data row2 col3\" >3668</td>\n",
       "                        <td id=\"T_190ac_row2_col4\" class=\"data row2 col4\" >1973</td>\n",
       "                        <td id=\"T_190ac_row2_col5\" class=\"data row2 col5\" >4567</td>\n",
       "                        <td id=\"T_190ac_row2_col6\" class=\"data row2 col6\" >1691</td>\n",
       "            </tr>\n",
       "            <tr>\n",
       "                        <th id=\"T_190ac_level0_row3\" class=\"row_heading level0 row3\" >Pass</th>\n",
       "                        <td id=\"T_190ac_row3_col0\" class=\"data row3 col0\" >487</td>\n",
       "                        <td id=\"T_190ac_row3_col1\" class=\"data row3 col1\" >3077</td>\n",
       "                        <td id=\"T_190ac_row3_col2\" class=\"data row3 col2\" >1180</td>\n",
       "                        <td id=\"T_190ac_row3_col3\" class=\"data row3 col3\" >2227</td>\n",
       "                        <td id=\"T_190ac_row3_col4\" class=\"data row3 col4\" >1294</td>\n",
       "                        <td id=\"T_190ac_row3_col5\" class=\"data row3 col5\" >2978</td>\n",
       "                        <td id=\"T_190ac_row3_col6\" class=\"data row3 col6\" >1118</td>\n",
       "            </tr>\n",
       "            <tr>\n",
       "                        <th id=\"T_190ac_level0_row4\" class=\"row_heading level0 row4\" >Distinction</th>\n",
       "                        <td id=\"T_190ac_row4_col0\" class=\"data row4 col0\" >44</td>\n",
       "                        <td id=\"T_190ac_row4_col1\" class=\"data row4 col1\" >677</td>\n",
       "                        <td id=\"T_190ac_row4_col2\" class=\"data row4 col2\" >498</td>\n",
       "                        <td id=\"T_190ac_row4_col3\" class=\"data row4 col3\" >383</td>\n",
       "                        <td id=\"T_190ac_row4_col4\" class=\"data row4 col4\" >356</td>\n",
       "                        <td id=\"T_190ac_row4_col5\" class=\"data row4 col5\" >670</td>\n",
       "                        <td id=\"T_190ac_row4_col6\" class=\"data row4 col6\" >396</td>\n",
       "            </tr>\n",
       "            <tr>\n",
       "                        <th id=\"T_190ac_level0_row5\" class=\"row_heading level0 row5\" >Fail</th>\n",
       "                        <td id=\"T_190ac_row5_col0\" class=\"data row5 col0\" >91</td>\n",
       "                        <td id=\"T_190ac_row5_col1\" class=\"data row5 col1\" >1767</td>\n",
       "                        <td id=\"T_190ac_row5_col2\" class=\"data row5 col2\" >781</td>\n",
       "                        <td id=\"T_190ac_row5_col3\" class=\"data row5 col3\" >1412</td>\n",
       "                        <td id=\"T_190ac_row5_col4\" class=\"data row5 col4\" >562</td>\n",
       "                        <td id=\"T_190ac_row5_col5\" class=\"data row5 col5\" >1711</td>\n",
       "                        <td id=\"T_190ac_row5_col6\" class=\"data row5 col6\" >728</td>\n",
       "            </tr>\n",
       "            <tr>\n",
       "                        <th id=\"T_190ac_level0_row6\" class=\"row_heading level0 row6\" >Withdrawn</th>\n",
       "                        <td id=\"T_190ac_row6_col0\" class=\"data row6 col0\" >126</td>\n",
       "                        <td id=\"T_190ac_row6_col1\" class=\"data row6 col1\" >2388</td>\n",
       "                        <td id=\"T_190ac_row6_col2\" class=\"data row6 col2\" >1975</td>\n",
       "                        <td id=\"T_190ac_row6_col3\" class=\"data row6 col3\" >2250</td>\n",
       "                        <td id=\"T_190ac_row6_col4\" class=\"data row6 col4\" >722</td>\n",
       "                        <td id=\"T_190ac_row6_col5\" class=\"data row6 col5\" >2403</td>\n",
       "                        <td id=\"T_190ac_row6_col6\" class=\"data row6 col6\" >292</td>\n",
       "            </tr>\n",
       "            <tr>\n",
       "                        <th id=\"T_190ac_level0_row7\" class=\"row_heading level0 row7\" >avg_score</th>\n",
       "                        <td id=\"T_190ac_row7_col0\" class=\"data row7 col0\" >69</td>\n",
       "                        <td id=\"T_190ac_row7_col1\" class=\"data row7 col1\" >75</td>\n",
       "                        <td id=\"T_190ac_row7_col2\" class=\"data row7 col2\" >73</td>\n",
       "                        <td id=\"T_190ac_row7_col3\" class=\"data row7 col3\" >69</td>\n",
       "                        <td id=\"T_190ac_row7_col4\" class=\"data row7 col4\" >80</td>\n",
       "                        <td id=\"T_190ac_row7_col5\" class=\"data row7 col5\" >77</td>\n",
       "                        <td id=\"T_190ac_row7_col6\" class=\"data row7 col6\" >80</td>\n",
       "            </tr>\n",
       "            <tr>\n",
       "                        <th id=\"T_190ac_level0_row8\" class=\"row_heading level0 row8\" >num_of_soon_regis</th>\n",
       "                        <td id=\"T_190ac_row8_col0\" class=\"data row8 col0\" >740</td>\n",
       "                        <td id=\"T_190ac_row8_col1\" class=\"data row8 col1\" >7804</td>\n",
       "                        <td id=\"T_190ac_row8_col2\" class=\"data row8 col2\" >4409</td>\n",
       "                        <td id=\"T_190ac_row8_col3\" class=\"data row8 col3\" >6228</td>\n",
       "                        <td id=\"T_190ac_row8_col4\" class=\"data row8 col4\" >2921</td>\n",
       "                        <td id=\"T_190ac_row8_col5\" class=\"data row8 col5\" >7723</td>\n",
       "                        <td id=\"T_190ac_row8_col6\" class=\"data row8 col6\" >2487</td>\n",
       "            </tr>\n",
       "            <tr>\n",
       "                        <th id=\"T_190ac_level0_row9\" class=\"row_heading level0 row9\" >num_of_unregis</th>\n",
       "                        <td id=\"T_190ac_row9_col0\" class=\"data row9 col0\" >126</td>\n",
       "                        <td id=\"T_190ac_row9_col1\" class=\"data row9 col1\" >2377</td>\n",
       "                        <td id=\"T_190ac_row9_col2\" class=\"data row9 col2\" >1947</td>\n",
       "                        <td id=\"T_190ac_row9_col3\" class=\"data row9 col3\" >2235</td>\n",
       "                        <td id=\"T_190ac_row9_col4\" class=\"data row9 col4\" >718</td>\n",
       "                        <td id=\"T_190ac_row9_col5\" class=\"data row9 col5\" >2380</td>\n",
       "                        <td id=\"T_190ac_row9_col6\" class=\"data row9 col6\" >289</td>\n",
       "            </tr>\n",
       "    </tbody></table>"
      ],
      "text/plain": [
       "<pandas.io.formats.style.Styler at 0x2d90a647e20>"
      ]
     },
     "execution_count": 14,
     "metadata": {},
     "output_type": "execute_result"
    }
   ],
   "source": [
    "df_sum_by_course = df_course_info.groupby('code_module').agg({\n",
    "                                                             'num_of_assessment':'sum',\n",
    "                                                             'num_of_student':'sum',\n",
    "                                                             'students_take_exam' : 'sum',\n",
    "                                                              'Pass':'sum',\n",
    "                                                              'Distinction':'sum',\n",
    "                                                              'Fail':'sum',\n",
    "                                                              'Withdrawn':'sum',\n",
    "                                                              'avg_score' : 'mean',\n",
    "                                                              'num_of_soon_regis':'sum',\n",
    "                                                              'num_of_unregis':'sum',\n",
    "                                                             })\n",
    "df_sum_by_course = df_sum_by_course.astype(int).transpose()\n",
    "df_sum_by_course.style.highlight_max(color='lightgreen',axis=1).highlight_min(color='bisque',axis=1)\\\n",
    "                      .set_caption('Summary 3.1.2: Total students of each course according to features')"
   ]
  },
  {
   "cell_type": "markdown",
   "id": "21f98859",
   "metadata": {
    "hideCode": true,
    "hidePrompt": true
   },
   "source": [
    "Note: \n",
    "    + **'Bisque color'** : min value / **'Light green color'** : max value "
   ]
  },
  {
   "cell_type": "code",
   "execution_count": 15,
   "id": "34a0b4ca",
   "metadata": {
    "hideCode": true,
    "hidePrompt": true
   },
   "outputs": [
    {
     "data": {
      "image/png": "[encoded data removed]",
      "text/plain": [
       "<Figure size 1500x800 with 10 Axes>"
      ]
     },
     "metadata": {},
     "output_type": "display_data"
    }
   ],
   "source": [
    "fig,axj = plt.subplots(nrows=2,ncols=5,figsize=(15, 8),dpi=100)\n",
    "\n",
    "for i, (idx, row) in enumerate(df_sum_by_course.iterrows()):\n",
    "    ax = axj[i//5,i%5]\n",
    "    row = row[row.gt(row.sum()*.01)]\n",
    "    ax.pie(row,autopct='%.0f%%')\n",
    "    ax.set_title(idx)\n",
    "fig.legend(df_sum_by_course.columns)\n",
    "fig.subplots_adjust(wspace=.02)"
   ]
  },
  {
   "cell_type": "markdown",
   "id": "258e376a",
   "metadata": {
    "hideCode": true,
    "hidePrompt": true
   },
   "source": [
    "**Figure 3.1.1: Display the persentage of students each course according to features**"
   ]
  },
  {
   "cell_type": "markdown",
   "id": "978a60e5",
   "metadata": {
    "hideCode": true,
    "hidePrompt": true
   },
   "source": [
    "#### "
   ]
  },
  {
   "cell_type": "markdown",
   "id": "0700cffd",
   "metadata": {
    "hideCode": true,
    "hidePrompt": true
   },
   "source": [
    "- ***Summary data in per course and each presentation***"
   ]
  },
  {
   "cell_type": "code",
   "execution_count": 16,
   "id": "ef3ce075",
   "metadata": {
    "hideCode": true,
    "hidePrompt": true
   },
   "outputs": [
    {
     "data": {
      "text/html": [
       "<style  type=\"text/css\" >\n",
       "</style><table id=\"T_4031f_\" ><caption>Table 3.1.2: Courses information top 10 largest courses </caption><thead>    <tr>        <th class=\"blank level0\" ></th>        <th class=\"col_heading level0 col0\" >code_module</th>        <th class=\"col_heading level0 col1\" >code_presentation</th>        <th class=\"col_heading level0 col2\" >num_of_student</th>    </tr></thead><tbody>\n",
       "                <tr>\n",
       "                        <th id=\"T_4031f_level0_row0\" class=\"row_heading level0 row0\" >0</th>\n",
       "                        <td id=\"T_4031f_row0_col0\" class=\"data row0 col0\" >CCC</td>\n",
       "                        <td id=\"T_4031f_row0_col1\" class=\"data row0 col1\" >2014J</td>\n",
       "                        <td id=\"T_4031f_row0_col2\" class=\"data row0 col2\" >2498</td>\n",
       "            </tr>\n",
       "            <tr>\n",
       "                        <th id=\"T_4031f_level0_row1\" class=\"row_heading level0 row1\" >1</th>\n",
       "                        <td id=\"T_4031f_row1_col0\" class=\"data row1 col0\" >FFF</td>\n",
       "                        <td id=\"T_4031f_row1_col1\" class=\"data row1 col1\" >2014J</td>\n",
       "                        <td id=\"T_4031f_row1_col2\" class=\"data row1 col2\" >2365</td>\n",
       "            </tr>\n",
       "            <tr>\n",
       "                        <th id=\"T_4031f_level0_row2\" class=\"row_heading level0 row2\" >2</th>\n",
       "                        <td id=\"T_4031f_row2_col0\" class=\"data row2 col0\" >BBB</td>\n",
       "                        <td id=\"T_4031f_row2_col1\" class=\"data row2 col1\" >2014J</td>\n",
       "                        <td id=\"T_4031f_row2_col2\" class=\"data row2 col2\" >2292</td>\n",
       "            </tr>\n",
       "            <tr>\n",
       "                        <th id=\"T_4031f_level0_row3\" class=\"row_heading level0 row3\" >3</th>\n",
       "                        <td id=\"T_4031f_row3_col0\" class=\"data row3 col0\" >FFF</td>\n",
       "                        <td id=\"T_4031f_row3_col1\" class=\"data row3 col1\" >2013J</td>\n",
       "                        <td id=\"T_4031f_row3_col2\" class=\"data row3 col2\" >2283</td>\n",
       "            </tr>\n",
       "            <tr>\n",
       "                        <th id=\"T_4031f_level0_row4\" class=\"row_heading level0 row4\" >4</th>\n",
       "                        <td id=\"T_4031f_row4_col0\" class=\"data row4 col0\" >BBB</td>\n",
       "                        <td id=\"T_4031f_row4_col1\" class=\"data row4 col1\" >2013J</td>\n",
       "                        <td id=\"T_4031f_row4_col2\" class=\"data row4 col2\" >2237</td>\n",
       "            </tr>\n",
       "            <tr>\n",
       "                        <th id=\"T_4031f_level0_row5\" class=\"row_heading level0 row5\" >5</th>\n",
       "                        <td id=\"T_4031f_row5_col0\" class=\"data row5 col0\" >DDD</td>\n",
       "                        <td id=\"T_4031f_row5_col1\" class=\"data row5 col1\" >2013J</td>\n",
       "                        <td id=\"T_4031f_row5_col2\" class=\"data row5 col2\" >1938</td>\n",
       "            </tr>\n",
       "            <tr>\n",
       "                        <th id=\"T_4031f_level0_row6\" class=\"row_heading level0 row6\" >6</th>\n",
       "                        <td id=\"T_4031f_row6_col0\" class=\"data row6 col0\" >CCC</td>\n",
       "                        <td id=\"T_4031f_row6_col1\" class=\"data row6 col1\" >2014B</td>\n",
       "                        <td id=\"T_4031f_row6_col2\" class=\"data row6 col2\" >1936</td>\n",
       "            </tr>\n",
       "            <tr>\n",
       "                        <th id=\"T_4031f_level0_row7\" class=\"row_heading level0 row7\" >7</th>\n",
       "                        <td id=\"T_4031f_row7_col0\" class=\"data row7 col0\" >DDD</td>\n",
       "                        <td id=\"T_4031f_row7_col1\" class=\"data row7 col1\" >2014J</td>\n",
       "                        <td id=\"T_4031f_row7_col2\" class=\"data row7 col2\" >1803</td>\n",
       "            </tr>\n",
       "            <tr>\n",
       "                        <th id=\"T_4031f_level0_row8\" class=\"row_heading level0 row8\" >8</th>\n",
       "                        <td id=\"T_4031f_row8_col0\" class=\"data row8 col0\" >BBB</td>\n",
       "                        <td id=\"T_4031f_row8_col1\" class=\"data row8 col1\" >2013B</td>\n",
       "                        <td id=\"T_4031f_row8_col2\" class=\"data row8 col2\" >1767</td>\n",
       "            </tr>\n",
       "            <tr>\n",
       "                        <th id=\"T_4031f_level0_row9\" class=\"row_heading level0 row9\" >9</th>\n",
       "                        <td id=\"T_4031f_row9_col0\" class=\"data row9 col0\" >FFF</td>\n",
       "                        <td id=\"T_4031f_row9_col1\" class=\"data row9 col1\" >2013B</td>\n",
       "                        <td id=\"T_4031f_row9_col2\" class=\"data row9 col2\" >1614</td>\n",
       "            </tr>\n",
       "    </tbody></table>"
      ],
      "text/plain": [
       "<pandas.io.formats.style.Styler at 0x2d90a3eca60>"
      ]
     },
     "execution_count": 16,
     "metadata": {},
     "output_type": "execute_result"
    }
   ],
   "source": [
    "df_course_info[['code_module','code_presentation','num_of_student']].sort_values(by='num_of_student',ascending=False).head(10).reset_index(drop=True).style.set_caption('Table 3.1.2: Courses information top 10 largest courses ')"
   ]
  },
  {
   "cell_type": "code",
   "execution_count": 17,
   "id": "948d3a27",
   "metadata": {
    "hideCode": true,
    "hidePrompt": true
   },
   "outputs": [
    {
     "data": {
      "application/vnd.jupyter.widget-view+json": {
       "model_id": "5af1462774214aac94cac3a5e4eaa5d2",
       "version_major": 2,
       "version_minor": 0
      },
      "text/plain": [
       "interactive(children=(RadioButtons(description='Choose', options=('AAA', 'BBB', 'CCC', 'DDD', 'EEE', 'FFF', 'G…"
      ]
     },
     "metadata": {},
     "output_type": "display_data"
    }
   ],
   "source": [
    "import ipywidgets as widgets\n",
    "\n",
    "code_module = df_course_info['code_module'].unique()\n",
    "\n",
    "choices = widgets.RadioButtons(\n",
    "                options=code_module,\n",
    "                desciption='Choose:',\n",
    "                disabled=False\n",
    "                )\n",
    "\n",
    "def plot_by_course(df_course_info,name_of_course):\n",
    "    features = ['students_take_exam','num_of_student','num_of_soon_regis','num_of_unregis','avg_score']\n",
    "    df_course_info_c = df_course_info[df_course_info['code_module'] == name_of_course].set_index('code_presentation')\n",
    "    df_course_info_c[features].transpose().plot.barh(figsize=(15,8))\n",
    "    \n",
    "def plot_by_pie_final_result(df_course_info,name_of_course):\n",
    "    features = ['Distinction','Pass','Fail','Withdrawn']\n",
    "    df_course_info_c = df_course_info[df_course_info['code_module'] == name_of_course].set_index('code_presentation')\n",
    "    df_course_info_c[features].transpose().plot.pie(subplots=True,figsize=(16,8),autopct='%1.1f%%')\n",
    "\n",
    "def show_figure(Choose):\n",
    "    plot_by_course(df_course_info,Choose)\n",
    "    plot_by_pie_final_result(df_course_info,Choose)\n",
    "\n",
    "show_chart = widgets.interactive(show_figure,Choose=choices)\n",
    "\n",
    "display(show_chart)"
   ]
  },
  {
   "cell_type": "markdown",
   "id": "f5f69dfd",
   "metadata": {
    "hideCode": true,
    "hidePrompt": true
   },
   "source": [
    "**Figure 3.1.2: The number of student in vle of each presentation semester and Figure 3.1.3: The percentage of students in the final result**"
   ]
  },
  {
   "cell_type": "markdown",
   "id": "6e55ca24",
   "metadata": {
    "hideCode": true,
    "hidePrompt": true
   },
   "source": [
    "#### "
   ]
  },
  {
   "cell_type": "markdown",
   "id": "5d5b26db",
   "metadata": {
    "hideCode": true,
    "hidePrompt": true
   },
   "source": [
    "### 3.2 Student data"
   ]
  },
  {
   "cell_type": "code",
   "execution_count": 18,
   "id": "321597f3",
   "metadata": {
    "hideCode": true,
    "hidePrompt": true,
    "scrolled": false
   },
   "outputs": [
    {
     "data": {
      "text/html": [
       "<style  type=\"text/css\" >\n",
       "</style><table id=\"T_cc85d_\" ><caption>Table 3.2: Student detailed information (the first 10 rows)</caption><thead>    <tr>        <th class=\"blank level0\" ></th>        <th class=\"col_heading level0 col0\" >code_module</th>        <th class=\"col_heading level0 col1\" >code_presentation</th>        <th class=\"col_heading level0 col2\" >id_student</th>        <th class=\"col_heading level0 col3\" >gender</th>        <th class=\"col_heading level0 col4\" >region</th>        <th class=\"col_heading level0 col5\" >highest_education</th>        <th class=\"col_heading level0 col6\" >imd_band</th>        <th class=\"col_heading level0 col7\" >age_band</th>        <th class=\"col_heading level0 col8\" >num_of_prev_attempts</th>        <th class=\"col_heading level0 col9\" >studied_credits</th>        <th class=\"col_heading level0 col10\" >disability</th>        <th class=\"col_heading level0 col11\" >final_result</th>        <th class=\"col_heading level0 col12\" >avg_score</th>        <th class=\"col_heading level0 col13\" >num_of_assess_take</th>        <th class=\"col_heading level0 col14\" >sum_click</th>        <th class=\"col_heading level0 col15\" >soon_regis</th>        <th class=\"col_heading level0 col16\" >un_regis</th>    </tr></thead><tbody>\n",
       "                <tr>\n",
       "                        <th id=\"T_cc85d_level0_row0\" class=\"row_heading level0 row0\" >0</th>\n",
       "                        <td id=\"T_cc85d_row0_col0\" class=\"data row0 col0\" >AAA</td>\n",
       "                        <td id=\"T_cc85d_row0_col1\" class=\"data row0 col1\" >2013J</td>\n",
       "                        <td id=\"T_cc85d_row0_col2\" class=\"data row0 col2\" >11391</td>\n",
       "                        <td id=\"T_cc85d_row0_col3\" class=\"data row0 col3\" >M</td>\n",
       "                        <td id=\"T_cc85d_row0_col4\" class=\"data row0 col4\" >East Anglian Region</td>\n",
       "                        <td id=\"T_cc85d_row0_col5\" class=\"data row0 col5\" >HE Qualification</td>\n",
       "                        <td id=\"T_cc85d_row0_col6\" class=\"data row0 col6\" >90-100%</td>\n",
       "                        <td id=\"T_cc85d_row0_col7\" class=\"data row0 col7\" >55<=</td>\n",
       "                        <td id=\"T_cc85d_row0_col8\" class=\"data row0 col8\" >0</td>\n",
       "                        <td id=\"T_cc85d_row0_col9\" class=\"data row0 col9\" >240</td>\n",
       "                        <td id=\"T_cc85d_row0_col10\" class=\"data row0 col10\" >N</td>\n",
       "                        <td id=\"T_cc85d_row0_col11\" class=\"data row0 col11\" >Pass</td>\n",
       "                        <td id=\"T_cc85d_row0_col12\" class=\"data row0 col12\" >82.000000</td>\n",
       "                        <td id=\"T_cc85d_row0_col13\" class=\"data row0 col13\" >5.000000</td>\n",
       "                        <td id=\"T_cc85d_row0_col14\" class=\"data row0 col14\" >934.000000</td>\n",
       "                        <td id=\"T_cc85d_row0_col15\" class=\"data row0 col15\" >True</td>\n",
       "                        <td id=\"T_cc85d_row0_col16\" class=\"data row0 col16\" >False</td>\n",
       "            </tr>\n",
       "            <tr>\n",
       "                        <th id=\"T_cc85d_level0_row1\" class=\"row_heading level0 row1\" >1</th>\n",
       "                        <td id=\"T_cc85d_row1_col0\" class=\"data row1 col0\" >AAA</td>\n",
       "                        <td id=\"T_cc85d_row1_col1\" class=\"data row1 col1\" >2013J</td>\n",
       "                        <td id=\"T_cc85d_row1_col2\" class=\"data row1 col2\" >28400</td>\n",
       "                        <td id=\"T_cc85d_row1_col3\" class=\"data row1 col3\" >F</td>\n",
       "                        <td id=\"T_cc85d_row1_col4\" class=\"data row1 col4\" >Scotland</td>\n",
       "                        <td id=\"T_cc85d_row1_col5\" class=\"data row1 col5\" >HE Qualification</td>\n",
       "                        <td id=\"T_cc85d_row1_col6\" class=\"data row1 col6\" >20-30%</td>\n",
       "                        <td id=\"T_cc85d_row1_col7\" class=\"data row1 col7\" >35-55</td>\n",
       "                        <td id=\"T_cc85d_row1_col8\" class=\"data row1 col8\" >0</td>\n",
       "                        <td id=\"T_cc85d_row1_col9\" class=\"data row1 col9\" >60</td>\n",
       "                        <td id=\"T_cc85d_row1_col10\" class=\"data row1 col10\" >N</td>\n",
       "                        <td id=\"T_cc85d_row1_col11\" class=\"data row1 col11\" >Pass</td>\n",
       "                        <td id=\"T_cc85d_row1_col12\" class=\"data row1 col12\" >66.400000</td>\n",
       "                        <td id=\"T_cc85d_row1_col13\" class=\"data row1 col13\" >5.000000</td>\n",
       "                        <td id=\"T_cc85d_row1_col14\" class=\"data row1 col14\" >1435.000000</td>\n",
       "                        <td id=\"T_cc85d_row1_col15\" class=\"data row1 col15\" >True</td>\n",
       "                        <td id=\"T_cc85d_row1_col16\" class=\"data row1 col16\" >False</td>\n",
       "            </tr>\n",
       "            <tr>\n",
       "                        <th id=\"T_cc85d_level0_row2\" class=\"row_heading level0 row2\" >2</th>\n",
       "                        <td id=\"T_cc85d_row2_col0\" class=\"data row2 col0\" >AAA</td>\n",
       "                        <td id=\"T_cc85d_row2_col1\" class=\"data row2 col1\" >2013J</td>\n",
       "                        <td id=\"T_cc85d_row2_col2\" class=\"data row2 col2\" >30268</td>\n",
       "                        <td id=\"T_cc85d_row2_col3\" class=\"data row2 col3\" >F</td>\n",
       "                        <td id=\"T_cc85d_row2_col4\" class=\"data row2 col4\" >North Western Region</td>\n",
       "                        <td id=\"T_cc85d_row2_col5\" class=\"data row2 col5\" >A Level or Equivalent</td>\n",
       "                        <td id=\"T_cc85d_row2_col6\" class=\"data row2 col6\" >30-40%</td>\n",
       "                        <td id=\"T_cc85d_row2_col7\" class=\"data row2 col7\" >35-55</td>\n",
       "                        <td id=\"T_cc85d_row2_col8\" class=\"data row2 col8\" >0</td>\n",
       "                        <td id=\"T_cc85d_row2_col9\" class=\"data row2 col9\" >60</td>\n",
       "                        <td id=\"T_cc85d_row2_col10\" class=\"data row2 col10\" >Y</td>\n",
       "                        <td id=\"T_cc85d_row2_col11\" class=\"data row2 col11\" >Withdrawn</td>\n",
       "                        <td id=\"T_cc85d_row2_col12\" class=\"data row2 col12\" >nan</td>\n",
       "                        <td id=\"T_cc85d_row2_col13\" class=\"data row2 col13\" >nan</td>\n",
       "                        <td id=\"T_cc85d_row2_col14\" class=\"data row2 col14\" >281.000000</td>\n",
       "                        <td id=\"T_cc85d_row2_col15\" class=\"data row2 col15\" >True</td>\n",
       "                        <td id=\"T_cc85d_row2_col16\" class=\"data row2 col16\" >True</td>\n",
       "            </tr>\n",
       "            <tr>\n",
       "                        <th id=\"T_cc85d_level0_row3\" class=\"row_heading level0 row3\" >3</th>\n",
       "                        <td id=\"T_cc85d_row3_col0\" class=\"data row3 col0\" >AAA</td>\n",
       "                        <td id=\"T_cc85d_row3_col1\" class=\"data row3 col1\" >2013J</td>\n",
       "                        <td id=\"T_cc85d_row3_col2\" class=\"data row3 col2\" >31604</td>\n",
       "                        <td id=\"T_cc85d_row3_col3\" class=\"data row3 col3\" >F</td>\n",
       "                        <td id=\"T_cc85d_row3_col4\" class=\"data row3 col4\" >South East Region</td>\n",
       "                        <td id=\"T_cc85d_row3_col5\" class=\"data row3 col5\" >A Level or Equivalent</td>\n",
       "                        <td id=\"T_cc85d_row3_col6\" class=\"data row3 col6\" >50-60%</td>\n",
       "                        <td id=\"T_cc85d_row3_col7\" class=\"data row3 col7\" >35-55</td>\n",
       "                        <td id=\"T_cc85d_row3_col8\" class=\"data row3 col8\" >0</td>\n",
       "                        <td id=\"T_cc85d_row3_col9\" class=\"data row3 col9\" >60</td>\n",
       "                        <td id=\"T_cc85d_row3_col10\" class=\"data row3 col10\" >N</td>\n",
       "                        <td id=\"T_cc85d_row3_col11\" class=\"data row3 col11\" >Pass</td>\n",
       "                        <td id=\"T_cc85d_row3_col12\" class=\"data row3 col12\" >76.000000</td>\n",
       "                        <td id=\"T_cc85d_row3_col13\" class=\"data row3 col13\" >5.000000</td>\n",
       "                        <td id=\"T_cc85d_row3_col14\" class=\"data row3 col14\" >2158.000000</td>\n",
       "                        <td id=\"T_cc85d_row3_col15\" class=\"data row3 col15\" >True</td>\n",
       "                        <td id=\"T_cc85d_row3_col16\" class=\"data row3 col16\" >False</td>\n",
       "            </tr>\n",
       "            <tr>\n",
       "                        <th id=\"T_cc85d_level0_row4\" class=\"row_heading level0 row4\" >4</th>\n",
       "                        <td id=\"T_cc85d_row4_col0\" class=\"data row4 col0\" >AAA</td>\n",
       "                        <td id=\"T_cc85d_row4_col1\" class=\"data row4 col1\" >2013J</td>\n",
       "                        <td id=\"T_cc85d_row4_col2\" class=\"data row4 col2\" >32885</td>\n",
       "                        <td id=\"T_cc85d_row4_col3\" class=\"data row4 col3\" >F</td>\n",
       "                        <td id=\"T_cc85d_row4_col4\" class=\"data row4 col4\" >West Midlands Region</td>\n",
       "                        <td id=\"T_cc85d_row4_col5\" class=\"data row4 col5\" >Lower Than A Level</td>\n",
       "                        <td id=\"T_cc85d_row4_col6\" class=\"data row4 col6\" >50-60%</td>\n",
       "                        <td id=\"T_cc85d_row4_col7\" class=\"data row4 col7\" >0-35</td>\n",
       "                        <td id=\"T_cc85d_row4_col8\" class=\"data row4 col8\" >0</td>\n",
       "                        <td id=\"T_cc85d_row4_col9\" class=\"data row4 col9\" >60</td>\n",
       "                        <td id=\"T_cc85d_row4_col10\" class=\"data row4 col10\" >N</td>\n",
       "                        <td id=\"T_cc85d_row4_col11\" class=\"data row4 col11\" >Pass</td>\n",
       "                        <td id=\"T_cc85d_row4_col12\" class=\"data row4 col12\" >54.400000</td>\n",
       "                        <td id=\"T_cc85d_row4_col13\" class=\"data row4 col13\" >5.000000</td>\n",
       "                        <td id=\"T_cc85d_row4_col14\" class=\"data row4 col14\" >1034.000000</td>\n",
       "                        <td id=\"T_cc85d_row4_col15\" class=\"data row4 col15\" >True</td>\n",
       "                        <td id=\"T_cc85d_row4_col16\" class=\"data row4 col16\" >False</td>\n",
       "            </tr>\n",
       "            <tr>\n",
       "                        <th id=\"T_cc85d_level0_row5\" class=\"row_heading level0 row5\" >5</th>\n",
       "                        <td id=\"T_cc85d_row5_col0\" class=\"data row5 col0\" >AAA</td>\n",
       "                        <td id=\"T_cc85d_row5_col1\" class=\"data row5 col1\" >2013J</td>\n",
       "                        <td id=\"T_cc85d_row5_col2\" class=\"data row5 col2\" >38053</td>\n",
       "                        <td id=\"T_cc85d_row5_col3\" class=\"data row5 col3\" >M</td>\n",
       "                        <td id=\"T_cc85d_row5_col4\" class=\"data row5 col4\" >Wales</td>\n",
       "                        <td id=\"T_cc85d_row5_col5\" class=\"data row5 col5\" >A Level or Equivalent</td>\n",
       "                        <td id=\"T_cc85d_row5_col6\" class=\"data row5 col6\" >80-90%</td>\n",
       "                        <td id=\"T_cc85d_row5_col7\" class=\"data row5 col7\" >35-55</td>\n",
       "                        <td id=\"T_cc85d_row5_col8\" class=\"data row5 col8\" >0</td>\n",
       "                        <td id=\"T_cc85d_row5_col9\" class=\"data row5 col9\" >60</td>\n",
       "                        <td id=\"T_cc85d_row5_col10\" class=\"data row5 col10\" >N</td>\n",
       "                        <td id=\"T_cc85d_row5_col11\" class=\"data row5 col11\" >Pass</td>\n",
       "                        <td id=\"T_cc85d_row5_col12\" class=\"data row5 col12\" >68.000000</td>\n",
       "                        <td id=\"T_cc85d_row5_col13\" class=\"data row5 col13\" >5.000000</td>\n",
       "                        <td id=\"T_cc85d_row5_col14\" class=\"data row5 col14\" >2445.000000</td>\n",
       "                        <td id=\"T_cc85d_row5_col15\" class=\"data row5 col15\" >True</td>\n",
       "                        <td id=\"T_cc85d_row5_col16\" class=\"data row5 col16\" >False</td>\n",
       "            </tr>\n",
       "            <tr>\n",
       "                        <th id=\"T_cc85d_level0_row6\" class=\"row_heading level0 row6\" >6</th>\n",
       "                        <td id=\"T_cc85d_row6_col0\" class=\"data row6 col0\" >AAA</td>\n",
       "                        <td id=\"T_cc85d_row6_col1\" class=\"data row6 col1\" >2013J</td>\n",
       "                        <td id=\"T_cc85d_row6_col2\" class=\"data row6 col2\" >45462</td>\n",
       "                        <td id=\"T_cc85d_row6_col3\" class=\"data row6 col3\" >M</td>\n",
       "                        <td id=\"T_cc85d_row6_col4\" class=\"data row6 col4\" >Scotland</td>\n",
       "                        <td id=\"T_cc85d_row6_col5\" class=\"data row6 col5\" >HE Qualification</td>\n",
       "                        <td id=\"T_cc85d_row6_col6\" class=\"data row6 col6\" >30-40%</td>\n",
       "                        <td id=\"T_cc85d_row6_col7\" class=\"data row6 col7\" >0-35</td>\n",
       "                        <td id=\"T_cc85d_row6_col8\" class=\"data row6 col8\" >0</td>\n",
       "                        <td id=\"T_cc85d_row6_col9\" class=\"data row6 col9\" >60</td>\n",
       "                        <td id=\"T_cc85d_row6_col10\" class=\"data row6 col10\" >N</td>\n",
       "                        <td id=\"T_cc85d_row6_col11\" class=\"data row6 col11\" >Pass</td>\n",
       "                        <td id=\"T_cc85d_row6_col12\" class=\"data row6 col12\" >68.000000</td>\n",
       "                        <td id=\"T_cc85d_row6_col13\" class=\"data row6 col13\" >5.000000</td>\n",
       "                        <td id=\"T_cc85d_row6_col14\" class=\"data row6 col14\" >1492.000000</td>\n",
       "                        <td id=\"T_cc85d_row6_col15\" class=\"data row6 col15\" >True</td>\n",
       "                        <td id=\"T_cc85d_row6_col16\" class=\"data row6 col16\" >False</td>\n",
       "            </tr>\n",
       "            <tr>\n",
       "                        <th id=\"T_cc85d_level0_row7\" class=\"row_heading level0 row7\" >7</th>\n",
       "                        <td id=\"T_cc85d_row7_col0\" class=\"data row7 col0\" >AAA</td>\n",
       "                        <td id=\"T_cc85d_row7_col1\" class=\"data row7 col1\" >2013J</td>\n",
       "                        <td id=\"T_cc85d_row7_col2\" class=\"data row7 col2\" >45642</td>\n",
       "                        <td id=\"T_cc85d_row7_col3\" class=\"data row7 col3\" >F</td>\n",
       "                        <td id=\"T_cc85d_row7_col4\" class=\"data row7 col4\" >North Western Region</td>\n",
       "                        <td id=\"T_cc85d_row7_col5\" class=\"data row7 col5\" >A Level or Equivalent</td>\n",
       "                        <td id=\"T_cc85d_row7_col6\" class=\"data row7 col6\" >90-100%</td>\n",
       "                        <td id=\"T_cc85d_row7_col7\" class=\"data row7 col7\" >0-35</td>\n",
       "                        <td id=\"T_cc85d_row7_col8\" class=\"data row7 col8\" >0</td>\n",
       "                        <td id=\"T_cc85d_row7_col9\" class=\"data row7 col9\" >120</td>\n",
       "                        <td id=\"T_cc85d_row7_col10\" class=\"data row7 col10\" >N</td>\n",
       "                        <td id=\"T_cc85d_row7_col11\" class=\"data row7 col11\" >Pass</td>\n",
       "                        <td id=\"T_cc85d_row7_col12\" class=\"data row7 col12\" >72.400000</td>\n",
       "                        <td id=\"T_cc85d_row7_col13\" class=\"data row7 col13\" >5.000000</td>\n",
       "                        <td id=\"T_cc85d_row7_col14\" class=\"data row7 col14\" >1428.000000</td>\n",
       "                        <td id=\"T_cc85d_row7_col15\" class=\"data row7 col15\" >True</td>\n",
       "                        <td id=\"T_cc85d_row7_col16\" class=\"data row7 col16\" >False</td>\n",
       "            </tr>\n",
       "            <tr>\n",
       "                        <th id=\"T_cc85d_level0_row8\" class=\"row_heading level0 row8\" >8</th>\n",
       "                        <td id=\"T_cc85d_row8_col0\" class=\"data row8 col0\" >AAA</td>\n",
       "                        <td id=\"T_cc85d_row8_col1\" class=\"data row8 col1\" >2013J</td>\n",
       "                        <td id=\"T_cc85d_row8_col2\" class=\"data row8 col2\" >52130</td>\n",
       "                        <td id=\"T_cc85d_row8_col3\" class=\"data row8 col3\" >F</td>\n",
       "                        <td id=\"T_cc85d_row8_col4\" class=\"data row8 col4\" >East Anglian Region</td>\n",
       "                        <td id=\"T_cc85d_row8_col5\" class=\"data row8 col5\" >A Level or Equivalent</td>\n",
       "                        <td id=\"T_cc85d_row8_col6\" class=\"data row8 col6\" >70-80%</td>\n",
       "                        <td id=\"T_cc85d_row8_col7\" class=\"data row8 col7\" >0-35</td>\n",
       "                        <td id=\"T_cc85d_row8_col8\" class=\"data row8 col8\" >0</td>\n",
       "                        <td id=\"T_cc85d_row8_col9\" class=\"data row8 col9\" >90</td>\n",
       "                        <td id=\"T_cc85d_row8_col10\" class=\"data row8 col10\" >N</td>\n",
       "                        <td id=\"T_cc85d_row8_col11\" class=\"data row8 col11\" >Pass</td>\n",
       "                        <td id=\"T_cc85d_row8_col12\" class=\"data row8 col12\" >71.400000</td>\n",
       "                        <td id=\"T_cc85d_row8_col13\" class=\"data row8 col13\" >5.000000</td>\n",
       "                        <td id=\"T_cc85d_row8_col14\" class=\"data row8 col14\" >1894.000000</td>\n",
       "                        <td id=\"T_cc85d_row8_col15\" class=\"data row8 col15\" >True</td>\n",
       "                        <td id=\"T_cc85d_row8_col16\" class=\"data row8 col16\" >False</td>\n",
       "            </tr>\n",
       "            <tr>\n",
       "                        <th id=\"T_cc85d_level0_row9\" class=\"row_heading level0 row9\" >9</th>\n",
       "                        <td id=\"T_cc85d_row9_col0\" class=\"data row9 col0\" >AAA</td>\n",
       "                        <td id=\"T_cc85d_row9_col1\" class=\"data row9 col1\" >2013J</td>\n",
       "                        <td id=\"T_cc85d_row9_col2\" class=\"data row9 col2\" >53025</td>\n",
       "                        <td id=\"T_cc85d_row9_col3\" class=\"data row9 col3\" >M</td>\n",
       "                        <td id=\"T_cc85d_row9_col4\" class=\"data row9 col4\" >North Region</td>\n",
       "                        <td id=\"T_cc85d_row9_col5\" class=\"data row9 col5\" >Post Graduate Qualification</td>\n",
       "                        <td id=\"T_cc85d_row9_col6\" class=\"data row9 col6\" >nan</td>\n",
       "                        <td id=\"T_cc85d_row9_col7\" class=\"data row9 col7\" >55<=</td>\n",
       "                        <td id=\"T_cc85d_row9_col8\" class=\"data row9 col8\" >0</td>\n",
       "                        <td id=\"T_cc85d_row9_col9\" class=\"data row9 col9\" >60</td>\n",
       "                        <td id=\"T_cc85d_row9_col10\" class=\"data row9 col10\" >N</td>\n",
       "                        <td id=\"T_cc85d_row9_col11\" class=\"data row9 col11\" >Pass</td>\n",
       "                        <td id=\"T_cc85d_row9_col12\" class=\"data row9 col12\" >78.000000</td>\n",
       "                        <td id=\"T_cc85d_row9_col13\" class=\"data row9 col13\" >5.000000</td>\n",
       "                        <td id=\"T_cc85d_row9_col14\" class=\"data row9 col14\" >3158.000000</td>\n",
       "                        <td id=\"T_cc85d_row9_col15\" class=\"data row9 col15\" >True</td>\n",
       "                        <td id=\"T_cc85d_row9_col16\" class=\"data row9 col16\" >False</td>\n",
       "            </tr>\n",
       "    </tbody></table>"
      ],
      "text/plain": [
       "<pandas.io.formats.style.Styler at 0x2d90ae23640>"
      ]
     },
     "execution_count": 18,
     "metadata": {},
     "output_type": "execute_result"
    }
   ],
   "source": [
    "df_studentInfo_score_unique = df_studentInfo_score[df_studentInfo_score['id_student'].duplicated() == False]\n",
    "df_studentInfo_score_unique.head(10).style.set_caption('Table 3.2: Student detailed information (the first 10 rows)')"
   ]
  },
  {
   "cell_type": "markdown",
   "id": "8e18f8ab",
   "metadata": {
    "hideCode": true,
    "hidePrompt": true
   },
   "source": [
    "* **Number of students that participate in the virtual learning platform** : 28785"
   ]
  },
  {
   "cell_type": "code",
   "execution_count": 19,
   "id": "662d30a5",
   "metadata": {
    "hideCode": true,
    "hidePrompt": true,
    "scrolled": false
   },
   "outputs": [
    {
     "data": {
      "application/vnd.jupyter.widget-view+json": {
       "model_id": "b144f44ddd1443a7ae8a1da06d5d7fb6",
       "version_major": 2,
       "version_minor": 0
      },
      "text/plain": [
       "interactive(children=(Dropdown(description='Features', options=('gender', 'highest_education', 'age_band', 'di…"
      ]
     },
     "metadata": {},
     "output_type": "display_data"
    }
   ],
   "source": [
    "features = ['gender','highest_education','age_band','disability','final_result','soon_regis','un_regis']\n",
    "\n",
    "selected = widgets.Dropdown(\n",
    "    options = features,\n",
    "    value = 'gender',\n",
    "    description = 'Features'\n",
    ")\n",
    "\n",
    "def plot_percentage(feature):\n",
    "    f = plt.figure(figsize=(15,8))\n",
    "        \n",
    "    plt.title('The percentage of student by '+ str(feature), color='black')\n",
    "    frame = df_studentInfo_score_unique[feature].value_counts().to_frame()\n",
    "    frame.plot(kind='pie',subplots=True,autopct='%1.1f%%',ax=f.gca())\n",
    "     \n",
    "    plt.legend(loc='center left', bbox_to_anchor=(1.7, 0.5))\n",
    "    frame = frame.transpose()\n",
    "    the_table = plt.table(cellText=frame.values, colLabels=frame.columns, loc='bottom',rowLabels=frame.index,cellLoc='center')\n",
    "    the_table.auto_set_font_size(False)\n",
    "    the_table.set_fontsize(12)\n",
    "    the_table.scale(2.5,2.5)\n",
    "    plt.show()\n",
    "\n",
    "show_feature = widgets.interactive(plot_percentage,feature=selected)\n",
    "display(show_feature)"
   ]
  },
  {
   "cell_type": "markdown",
   "id": "c1cede64",
   "metadata": {
    "hideCode": true,
    "hidePrompt": true
   },
   "source": [
    "**Figure 3.2 the percentage of students and the number of students that are categorized according to features**"
   ]
  },
  {
   "cell_type": "markdown",
   "id": "d5e29869",
   "metadata": {
    "hideCode": true,
    "hidePrompt": true
   },
   "source": [
    "#### "
   ]
  },
  {
   "cell_type": "markdown",
   "id": "781079c0",
   "metadata": {
    "hideCode": true,
    "hidePrompt": true
   },
   "source": [
    "### 3.2.1 Data of withdrawn students"
   ]
  },
  {
   "cell_type": "code",
   "execution_count": 20,
   "id": "dc4e571c",
   "metadata": {
    "hideCode": true,
    "hidePrompt": true,
    "scrolled": false
   },
   "outputs": [
    {
     "data": {
      "text/html": [
       "<style  type=\"text/css\" >\n",
       "</style><table id=\"T_f9f71_\" ><caption>Table 3.2.1: Top first 10 withdrawn students that have high score </caption><thead>    <tr>        <th class=\"blank level0\" ></th>        <th class=\"col_heading level0 col0\" >code_module</th>        <th class=\"col_heading level0 col1\" >code_presentation</th>        <th class=\"col_heading level0 col2\" >id_student</th>        <th class=\"col_heading level0 col3\" >gender</th>        <th class=\"col_heading level0 col4\" >region</th>        <th class=\"col_heading level0 col5\" >highest_education</th>        <th class=\"col_heading level0 col6\" >imd_band</th>        <th class=\"col_heading level0 col7\" >age_band</th>        <th class=\"col_heading level0 col8\" >num_of_prev_attempts</th>        <th class=\"col_heading level0 col9\" >studied_credits</th>        <th class=\"col_heading level0 col10\" >disability</th>        <th class=\"col_heading level0 col11\" >final_result</th>        <th class=\"col_heading level0 col12\" >avg_score</th>        <th class=\"col_heading level0 col13\" >num_of_assess_take</th>        <th class=\"col_heading level0 col14\" >sum_click</th>        <th class=\"col_heading level0 col15\" >soon_regis</th>        <th class=\"col_heading level0 col16\" >un_regis</th>    </tr></thead><tbody>\n",
       "                <tr>\n",
       "                        <th id=\"T_f9f71_level0_row0\" class=\"row_heading level0 row0\" >9523</th>\n",
       "                        <td id=\"T_f9f71_row0_col0\" class=\"data row0 col0\" >CCC</td>\n",
       "                        <td id=\"T_f9f71_row0_col1\" class=\"data row0 col1\" >2014B</td>\n",
       "                        <td id=\"T_f9f71_row0_col2\" class=\"data row0 col2\" >575419</td>\n",
       "                        <td id=\"T_f9f71_row0_col3\" class=\"data row0 col3\" >M</td>\n",
       "                        <td id=\"T_f9f71_row0_col4\" class=\"data row0 col4\" >West Midlands Region</td>\n",
       "                        <td id=\"T_f9f71_row0_col5\" class=\"data row0 col5\" >Lower Than A Level</td>\n",
       "                        <td id=\"T_f9f71_row0_col6\" class=\"data row0 col6\" >50-60%</td>\n",
       "                        <td id=\"T_f9f71_row0_col7\" class=\"data row0 col7\" >0-35</td>\n",
       "                        <td id=\"T_f9f71_row0_col8\" class=\"data row0 col8\" >0</td>\n",
       "                        <td id=\"T_f9f71_row0_col9\" class=\"data row0 col9\" >90</td>\n",
       "                        <td id=\"T_f9f71_row0_col10\" class=\"data row0 col10\" >N</td>\n",
       "                        <td id=\"T_f9f71_row0_col11\" class=\"data row0 col11\" >Withdrawn</td>\n",
       "                        <td id=\"T_f9f71_row0_col12\" class=\"data row0 col12\" >0.000000</td>\n",
       "                        <td id=\"T_f9f71_row0_col13\" class=\"data row0 col13\" >1.000000</td>\n",
       "                        <td id=\"T_f9f71_row0_col14\" class=\"data row0 col14\" >198.000000</td>\n",
       "                        <td id=\"T_f9f71_row0_col15\" class=\"data row0 col15\" >False</td>\n",
       "                        <td id=\"T_f9f71_row0_col16\" class=\"data row0 col16\" >True</td>\n",
       "            </tr>\n",
       "            <tr>\n",
       "                        <th id=\"T_f9f71_level0_row1\" class=\"row_heading level0 row1\" >26262</th>\n",
       "                        <td id=\"T_f9f71_row1_col0\" class=\"data row1 col0\" >FFF</td>\n",
       "                        <td id=\"T_f9f71_row1_col1\" class=\"data row1 col1\" >2014B</td>\n",
       "                        <td id=\"T_f9f71_row1_col2\" class=\"data row1 col2\" >163962</td>\n",
       "                        <td id=\"T_f9f71_row1_col3\" class=\"data row1 col3\" >M</td>\n",
       "                        <td id=\"T_f9f71_row1_col4\" class=\"data row1 col4\" >Yorkshire Region</td>\n",
       "                        <td id=\"T_f9f71_row1_col5\" class=\"data row1 col5\" >A Level or Equivalent</td>\n",
       "                        <td id=\"T_f9f71_row1_col6\" class=\"data row1 col6\" >60-70%</td>\n",
       "                        <td id=\"T_f9f71_row1_col7\" class=\"data row1 col7\" >0-35</td>\n",
       "                        <td id=\"T_f9f71_row1_col8\" class=\"data row1 col8\" >3</td>\n",
       "                        <td id=\"T_f9f71_row1_col9\" class=\"data row1 col9\" >120</td>\n",
       "                        <td id=\"T_f9f71_row1_col10\" class=\"data row1 col10\" >N</td>\n",
       "                        <td id=\"T_f9f71_row1_col11\" class=\"data row1 col11\" >Withdrawn</td>\n",
       "                        <td id=\"T_f9f71_row1_col12\" class=\"data row1 col12\" >0.000000</td>\n",
       "                        <td id=\"T_f9f71_row1_col13\" class=\"data row1 col13\" >1.000000</td>\n",
       "                        <td id=\"T_f9f71_row1_col14\" class=\"data row1 col14\" >19.000000</td>\n",
       "                        <td id=\"T_f9f71_row1_col15\" class=\"data row1 col15\" >True</td>\n",
       "                        <td id=\"T_f9f71_row1_col16\" class=\"data row1 col16\" >True</td>\n",
       "            </tr>\n",
       "            <tr>\n",
       "                        <th id=\"T_f9f71_level0_row2\" class=\"row_heading level0 row2\" >11370</th>\n",
       "                        <td id=\"T_f9f71_row2_col0\" class=\"data row2 col0\" >CCC</td>\n",
       "                        <td id=\"T_f9f71_row2_col1\" class=\"data row2 col1\" >2014J</td>\n",
       "                        <td id=\"T_f9f71_row2_col2\" class=\"data row2 col2\" >566664</td>\n",
       "                        <td id=\"T_f9f71_row2_col3\" class=\"data row2 col3\" >M</td>\n",
       "                        <td id=\"T_f9f71_row2_col4\" class=\"data row2 col4\" >London Region</td>\n",
       "                        <td id=\"T_f9f71_row2_col5\" class=\"data row2 col5\" >A Level or Equivalent</td>\n",
       "                        <td id=\"T_f9f71_row2_col6\" class=\"data row2 col6\" >40-50%</td>\n",
       "                        <td id=\"T_f9f71_row2_col7\" class=\"data row2 col7\" >0-35</td>\n",
       "                        <td id=\"T_f9f71_row2_col8\" class=\"data row2 col8\" >1</td>\n",
       "                        <td id=\"T_f9f71_row2_col9\" class=\"data row2 col9\" >60</td>\n",
       "                        <td id=\"T_f9f71_row2_col10\" class=\"data row2 col10\" >N</td>\n",
       "                        <td id=\"T_f9f71_row2_col11\" class=\"data row2 col11\" >Withdrawn</td>\n",
       "                        <td id=\"T_f9f71_row2_col12\" class=\"data row2 col12\" >0.000000</td>\n",
       "                        <td id=\"T_f9f71_row2_col13\" class=\"data row2 col13\" >1.000000</td>\n",
       "                        <td id=\"T_f9f71_row2_col14\" class=\"data row2 col14\" >155.000000</td>\n",
       "                        <td id=\"T_f9f71_row2_col15\" class=\"data row2 col15\" >True</td>\n",
       "                        <td id=\"T_f9f71_row2_col16\" class=\"data row2 col16\" >True</td>\n",
       "            </tr>\n",
       "            <tr>\n",
       "                        <th id=\"T_f9f71_level0_row3\" class=\"row_heading level0 row3\" >7690</th>\n",
       "                        <td id=\"T_f9f71_row3_col0\" class=\"data row3 col0\" >BBB</td>\n",
       "                        <td id=\"T_f9f71_row3_col1\" class=\"data row3 col1\" >2014J</td>\n",
       "                        <td id=\"T_f9f71_row3_col2\" class=\"data row3 col2\" >656122</td>\n",
       "                        <td id=\"T_f9f71_row3_col3\" class=\"data row3 col3\" >F</td>\n",
       "                        <td id=\"T_f9f71_row3_col4\" class=\"data row3 col4\" >Ireland</td>\n",
       "                        <td id=\"T_f9f71_row3_col5\" class=\"data row3 col5\" >Lower Than A Level</td>\n",
       "                        <td id=\"T_f9f71_row3_col6\" class=\"data row3 col6\" >30-40%</td>\n",
       "                        <td id=\"T_f9f71_row3_col7\" class=\"data row3 col7\" >35-55</td>\n",
       "                        <td id=\"T_f9f71_row3_col8\" class=\"data row3 col8\" >0</td>\n",
       "                        <td id=\"T_f9f71_row3_col9\" class=\"data row3 col9\" >60</td>\n",
       "                        <td id=\"T_f9f71_row3_col10\" class=\"data row3 col10\" >N</td>\n",
       "                        <td id=\"T_f9f71_row3_col11\" class=\"data row3 col11\" >Withdrawn</td>\n",
       "                        <td id=\"T_f9f71_row3_col12\" class=\"data row3 col12\" >0.000000</td>\n",
       "                        <td id=\"T_f9f71_row3_col13\" class=\"data row3 col13\" >1.000000</td>\n",
       "                        <td id=\"T_f9f71_row3_col14\" class=\"data row3 col14\" >283.000000</td>\n",
       "                        <td id=\"T_f9f71_row3_col15\" class=\"data row3 col15\" >True</td>\n",
       "                        <td id=\"T_f9f71_row3_col16\" class=\"data row3 col16\" >True</td>\n",
       "            </tr>\n",
       "            <tr>\n",
       "                        <th id=\"T_f9f71_level0_row4\" class=\"row_heading level0 row4\" >11300</th>\n",
       "                        <td id=\"T_f9f71_row4_col0\" class=\"data row4 col0\" >CCC</td>\n",
       "                        <td id=\"T_f9f71_row4_col1\" class=\"data row4 col1\" >2014J</td>\n",
       "                        <td id=\"T_f9f71_row4_col2\" class=\"data row4 col2\" >554444</td>\n",
       "                        <td id=\"T_f9f71_row4_col3\" class=\"data row4 col3\" >F</td>\n",
       "                        <td id=\"T_f9f71_row4_col4\" class=\"data row4 col4\" >West Midlands Region</td>\n",
       "                        <td id=\"T_f9f71_row4_col5\" class=\"data row4 col5\" >Lower Than A Level</td>\n",
       "                        <td id=\"T_f9f71_row4_col6\" class=\"data row4 col6\" >10-20</td>\n",
       "                        <td id=\"T_f9f71_row4_col7\" class=\"data row4 col7\" >0-35</td>\n",
       "                        <td id=\"T_f9f71_row4_col8\" class=\"data row4 col8\" >0</td>\n",
       "                        <td id=\"T_f9f71_row4_col9\" class=\"data row4 col9\" >60</td>\n",
       "                        <td id=\"T_f9f71_row4_col10\" class=\"data row4 col10\" >N</td>\n",
       "                        <td id=\"T_f9f71_row4_col11\" class=\"data row4 col11\" >Withdrawn</td>\n",
       "                        <td id=\"T_f9f71_row4_col12\" class=\"data row4 col12\" >0.000000</td>\n",
       "                        <td id=\"T_f9f71_row4_col13\" class=\"data row4 col13\" >1.000000</td>\n",
       "                        <td id=\"T_f9f71_row4_col14\" class=\"data row4 col14\" >34.000000</td>\n",
       "                        <td id=\"T_f9f71_row4_col15\" class=\"data row4 col15\" >True</td>\n",
       "                        <td id=\"T_f9f71_row4_col16\" class=\"data row4 col16\" >True</td>\n",
       "            </tr>\n",
       "            <tr>\n",
       "                        <th id=\"T_f9f71_level0_row5\" class=\"row_heading level0 row5\" >11201</th>\n",
       "                        <td id=\"T_f9f71_row5_col0\" class=\"data row5 col0\" >CCC</td>\n",
       "                        <td id=\"T_f9f71_row5_col1\" class=\"data row5 col1\" >2014J</td>\n",
       "                        <td id=\"T_f9f71_row5_col2\" class=\"data row5 col2\" >529723</td>\n",
       "                        <td id=\"T_f9f71_row5_col3\" class=\"data row5 col3\" >M</td>\n",
       "                        <td id=\"T_f9f71_row5_col4\" class=\"data row5 col4\" >South West Region</td>\n",
       "                        <td id=\"T_f9f71_row5_col5\" class=\"data row5 col5\" >A Level or Equivalent</td>\n",
       "                        <td id=\"T_f9f71_row5_col6\" class=\"data row5 col6\" >40-50%</td>\n",
       "                        <td id=\"T_f9f71_row5_col7\" class=\"data row5 col7\" >0-35</td>\n",
       "                        <td id=\"T_f9f71_row5_col8\" class=\"data row5 col8\" >0</td>\n",
       "                        <td id=\"T_f9f71_row5_col9\" class=\"data row5 col9\" >90</td>\n",
       "                        <td id=\"T_f9f71_row5_col10\" class=\"data row5 col10\" >N</td>\n",
       "                        <td id=\"T_f9f71_row5_col11\" class=\"data row5 col11\" >Withdrawn</td>\n",
       "                        <td id=\"T_f9f71_row5_col12\" class=\"data row5 col12\" >0.000000</td>\n",
       "                        <td id=\"T_f9f71_row5_col13\" class=\"data row5 col13\" >1.000000</td>\n",
       "                        <td id=\"T_f9f71_row5_col14\" class=\"data row5 col14\" >170.000000</td>\n",
       "                        <td id=\"T_f9f71_row5_col15\" class=\"data row5 col15\" >True</td>\n",
       "                        <td id=\"T_f9f71_row5_col16\" class=\"data row5 col16\" >True</td>\n",
       "            </tr>\n",
       "            <tr>\n",
       "                        <th id=\"T_f9f71_level0_row6\" class=\"row_heading level0 row6\" >12359</th>\n",
       "                        <td id=\"T_f9f71_row6_col0\" class=\"data row6 col0\" >CCC</td>\n",
       "                        <td id=\"T_f9f71_row6_col1\" class=\"data row6 col1\" >2014J</td>\n",
       "                        <td id=\"T_f9f71_row6_col2\" class=\"data row6 col2\" >652994</td>\n",
       "                        <td id=\"T_f9f71_row6_col3\" class=\"data row6 col3\" >M</td>\n",
       "                        <td id=\"T_f9f71_row6_col4\" class=\"data row6 col4\" >North Western Region</td>\n",
       "                        <td id=\"T_f9f71_row6_col5\" class=\"data row6 col5\" >Lower Than A Level</td>\n",
       "                        <td id=\"T_f9f71_row6_col6\" class=\"data row6 col6\" >10-20</td>\n",
       "                        <td id=\"T_f9f71_row6_col7\" class=\"data row6 col7\" >0-35</td>\n",
       "                        <td id=\"T_f9f71_row6_col8\" class=\"data row6 col8\" >0</td>\n",
       "                        <td id=\"T_f9f71_row6_col9\" class=\"data row6 col9\" >120</td>\n",
       "                        <td id=\"T_f9f71_row6_col10\" class=\"data row6 col10\" >N</td>\n",
       "                        <td id=\"T_f9f71_row6_col11\" class=\"data row6 col11\" >Withdrawn</td>\n",
       "                        <td id=\"T_f9f71_row6_col12\" class=\"data row6 col12\" >0.000000</td>\n",
       "                        <td id=\"T_f9f71_row6_col13\" class=\"data row6 col13\" >1.000000</td>\n",
       "                        <td id=\"T_f9f71_row6_col14\" class=\"data row6 col14\" >71.000000</td>\n",
       "                        <td id=\"T_f9f71_row6_col15\" class=\"data row6 col15\" >True</td>\n",
       "                        <td id=\"T_f9f71_row6_col16\" class=\"data row6 col16\" >True</td>\n",
       "            </tr>\n",
       "            <tr>\n",
       "                        <th id=\"T_f9f71_level0_row7\" class=\"row_heading level0 row7\" >10992</th>\n",
       "                        <td id=\"T_f9f71_row7_col0\" class=\"data row7 col0\" >CCC</td>\n",
       "                        <td id=\"T_f9f71_row7_col1\" class=\"data row7 col1\" >2014J</td>\n",
       "                        <td id=\"T_f9f71_row7_col2\" class=\"data row7 col2\" >469614</td>\n",
       "                        <td id=\"T_f9f71_row7_col3\" class=\"data row7 col3\" >M</td>\n",
       "                        <td id=\"T_f9f71_row7_col4\" class=\"data row7 col4\" >Wales</td>\n",
       "                        <td id=\"T_f9f71_row7_col5\" class=\"data row7 col5\" >Lower Than A Level</td>\n",
       "                        <td id=\"T_f9f71_row7_col6\" class=\"data row7 col6\" >10-20</td>\n",
       "                        <td id=\"T_f9f71_row7_col7\" class=\"data row7 col7\" >0-35</td>\n",
       "                        <td id=\"T_f9f71_row7_col8\" class=\"data row7 col8\" >1</td>\n",
       "                        <td id=\"T_f9f71_row7_col9\" class=\"data row7 col9\" >90</td>\n",
       "                        <td id=\"T_f9f71_row7_col10\" class=\"data row7 col10\" >N</td>\n",
       "                        <td id=\"T_f9f71_row7_col11\" class=\"data row7 col11\" >Withdrawn</td>\n",
       "                        <td id=\"T_f9f71_row7_col12\" class=\"data row7 col12\" >0.000000</td>\n",
       "                        <td id=\"T_f9f71_row7_col13\" class=\"data row7 col13\" >1.000000</td>\n",
       "                        <td id=\"T_f9f71_row7_col14\" class=\"data row7 col14\" >51.000000</td>\n",
       "                        <td id=\"T_f9f71_row7_col15\" class=\"data row7 col15\" >True</td>\n",
       "                        <td id=\"T_f9f71_row7_col16\" class=\"data row7 col16\" >True</td>\n",
       "            </tr>\n",
       "            <tr>\n",
       "                        <th id=\"T_f9f71_level0_row8\" class=\"row_heading level0 row8\" >10980</th>\n",
       "                        <td id=\"T_f9f71_row8_col0\" class=\"data row8 col0\" >CCC</td>\n",
       "                        <td id=\"T_f9f71_row8_col1\" class=\"data row8 col1\" >2014J</td>\n",
       "                        <td id=\"T_f9f71_row8_col2\" class=\"data row8 col2\" >465764</td>\n",
       "                        <td id=\"T_f9f71_row8_col3\" class=\"data row8 col3\" >F</td>\n",
       "                        <td id=\"T_f9f71_row8_col4\" class=\"data row8 col4\" >East Midlands Region</td>\n",
       "                        <td id=\"T_f9f71_row8_col5\" class=\"data row8 col5\" >Lower Than A Level</td>\n",
       "                        <td id=\"T_f9f71_row8_col6\" class=\"data row8 col6\" >30-40%</td>\n",
       "                        <td id=\"T_f9f71_row8_col7\" class=\"data row8 col7\" >35-55</td>\n",
       "                        <td id=\"T_f9f71_row8_col8\" class=\"data row8 col8\" >1</td>\n",
       "                        <td id=\"T_f9f71_row8_col9\" class=\"data row8 col9\" >60</td>\n",
       "                        <td id=\"T_f9f71_row8_col10\" class=\"data row8 col10\" >Y</td>\n",
       "                        <td id=\"T_f9f71_row8_col11\" class=\"data row8 col11\" >Withdrawn</td>\n",
       "                        <td id=\"T_f9f71_row8_col12\" class=\"data row8 col12\" >0.000000</td>\n",
       "                        <td id=\"T_f9f71_row8_col13\" class=\"data row8 col13\" >1.000000</td>\n",
       "                        <td id=\"T_f9f71_row8_col14\" class=\"data row8 col14\" >119.000000</td>\n",
       "                        <td id=\"T_f9f71_row8_col15\" class=\"data row8 col15\" >True</td>\n",
       "                        <td id=\"T_f9f71_row8_col16\" class=\"data row8 col16\" >True</td>\n",
       "            </tr>\n",
       "            <tr>\n",
       "                        <th id=\"T_f9f71_level0_row9\" class=\"row_heading level0 row9\" >10635</th>\n",
       "                        <td id=\"T_f9f71_row9_col0\" class=\"data row9 col0\" >CCC</td>\n",
       "                        <td id=\"T_f9f71_row9_col1\" class=\"data row9 col1\" >2014J</td>\n",
       "                        <td id=\"T_f9f71_row9_col2\" class=\"data row9 col2\" >96864</td>\n",
       "                        <td id=\"T_f9f71_row9_col3\" class=\"data row9 col3\" >M</td>\n",
       "                        <td id=\"T_f9f71_row9_col4\" class=\"data row9 col4\" >West Midlands Region</td>\n",
       "                        <td id=\"T_f9f71_row9_col5\" class=\"data row9 col5\" >HE Qualification</td>\n",
       "                        <td id=\"T_f9f71_row9_col6\" class=\"data row9 col6\" >20-30%</td>\n",
       "                        <td id=\"T_f9f71_row9_col7\" class=\"data row9 col7\" >0-35</td>\n",
       "                        <td id=\"T_f9f71_row9_col8\" class=\"data row9 col8\" >0</td>\n",
       "                        <td id=\"T_f9f71_row9_col9\" class=\"data row9 col9\" >30</td>\n",
       "                        <td id=\"T_f9f71_row9_col10\" class=\"data row9 col10\" >N</td>\n",
       "                        <td id=\"T_f9f71_row9_col11\" class=\"data row9 col11\" >Withdrawn</td>\n",
       "                        <td id=\"T_f9f71_row9_col12\" class=\"data row9 col12\" >0.000000</td>\n",
       "                        <td id=\"T_f9f71_row9_col13\" class=\"data row9 col13\" >1.000000</td>\n",
       "                        <td id=\"T_f9f71_row9_col14\" class=\"data row9 col14\" >96.000000</td>\n",
       "                        <td id=\"T_f9f71_row9_col15\" class=\"data row9 col15\" >True</td>\n",
       "                        <td id=\"T_f9f71_row9_col16\" class=\"data row9 col16\" >True</td>\n",
       "            </tr>\n",
       "    </tbody></table>"
      ],
      "text/plain": [
       "<pandas.io.formats.style.Styler at 0x2d90a647610>"
      ]
     },
     "execution_count": 20,
     "metadata": {},
     "output_type": "execute_result"
    }
   ],
   "source": [
    "df_ST_withdrawn = df_studentInfo_score.loc[df_studentInfo_score['final_result'] == 'Withdrawn']\n",
    "\n",
    "#df_ST_withdrawn.drop(columns=['region','imd_band','num_of_prev_attempts','studied_credits'],axis=0,inplace=True)\n",
    "\n",
    "df_ST_withdrawn.sort_values(by='avg_score').head(10).style.set_caption('Table 3.2.1: Top first 10 withdrawn students that have high score ')"
   ]
  },
  {
   "cell_type": "markdown",
   "id": "cfe82dd7",
   "metadata": {
    "hideCode": true,
    "hidePrompt": true
   },
   "source": [
    "* **The number of withdrawn student that take a course more than 1 time**: 497\n",
    "* **The number of withdrawn student that take more than 1 course in the same semester**: 365  "
   ]
  },
  {
   "cell_type": "code",
   "execution_count": 21,
   "id": "8df631d8",
   "metadata": {
    "hideCode": true,
    "hidePrompt": true
   },
   "outputs": [
    {
     "data": {
      "application/vnd.jupyter.widget-view+json": {
       "model_id": "d93c15e5fba94057a7c706278ae34d2e",
       "version_major": 2,
       "version_minor": 0
      },
      "text/plain": [
       "interactive(children=(Dropdown(description='Features', options=('gender', 'highest_education', 'age_band', 'di…"
      ]
     },
     "metadata": {},
     "output_type": "display_data"
    }
   ],
   "source": [
    "features = ['gender','highest_education','age_band','disability','soon_regis','un_regis']\n",
    "\n",
    "selected = widgets.Dropdown(\n",
    "    options = features,\n",
    "    value = 'gender',\n",
    "    description = 'Features'\n",
    ")\n",
    "\n",
    "def plot_percentage(feature):\n",
    "    f = plt.figure(figsize=(15,8))\n",
    "        \n",
    "    plt.title('The percentage of student by '+ str(feature), color='black')\n",
    "    frame = df_ST_withdrawn[feature].value_counts().to_frame()\n",
    "    frame.plot(kind='pie',subplots=True,autopct='%1.1f%%',ax=f.gca())\n",
    "     \n",
    "    plt.legend(loc='center left', bbox_to_anchor=(1.7, 0.5))\n",
    "    frame = frame.transpose()\n",
    "    the_table = plt.table(cellText=frame.values, colLabels=frame.columns, loc='bottom',rowLabels=frame.index,cellLoc='center')\n",
    "    the_table.auto_set_font_size(False)\n",
    "    the_table.set_fontsize(12)\n",
    "    the_table.scale(2.5,2.5)\n",
    "    plt.show()\n",
    "\n",
    "show_feature = widgets.interactive(plot_percentage,feature=selected)\n",
    "display(show_feature)"
   ]
  },
  {
   "cell_type": "markdown",
   "id": "b4a4753d",
   "metadata": {
    "hideCode": true,
    "hidePrompt": true
   },
   "source": [
    "**Figure 3.2 the percentage of withdrawn students and the number of withdrawn students that are categorized according to features**"
   ]
  },
  {
   "cell_type": "markdown",
   "id": "145b1a6f",
   "metadata": {
    "hideCode": true,
    "hidePrompt": true
   },
   "source": [
    "### 3.3 Data about material and assessment type"
   ]
  },
  {
   "cell_type": "markdown",
   "id": "25e4ff4f",
   "metadata": {
    "hideCode": true,
    "hidePrompt": true
   },
   "source": [
    "### 3.3.1 Material"
   ]
  },
  {
   "cell_type": "code",
   "execution_count": 22,
   "id": "013b0d84",
   "metadata": {
    "hideCode": true,
    "hidePrompt": true
   },
   "outputs": [
    {
     "data": {
      "application/vnd.jupyter.widget-view+json": {
       "model_id": "64bf18781af34e09ba8d578d017364bb",
       "version_major": 2,
       "version_minor": 0
      },
      "text/plain": [
       "interactive(children=(RadioButtons(description='Choose', options=('AAA', 'BBB', 'CCC', 'DDD', 'EEE', 'FFF', 'G…"
      ]
     },
     "metadata": {},
     "output_type": "display_data"
    }
   ],
   "source": [
    "code_module = df_course_info['code_module'].unique()\n",
    "\n",
    "choices = widgets.RadioButtons(\n",
    "                options=code_module,\n",
    "                desciption='Choose:',\n",
    "                disabled=False\n",
    "                )\n",
    "\n",
    "def show_table(Choose):\n",
    "    df_material_class = df_material_click.loc[Choose]\n",
    "    index = df_material_class.index.get_level_values('code_presentation').unique()\n",
    "    for i in index:\n",
    "        display(df_material_class.loc[i].astype(int).style.bar(subset='sum_click',color='lightgreen')\\\n",
    "                   .set_caption('The material in ' + str(i) + ' presentation'))\n",
    "    \n",
    "\n",
    "show_tb = widgets.interactive(show_table,Choose=choices)\n",
    "\n",
    "display(show_tb)"
   ]
  },
  {
   "cell_type": "markdown",
   "id": "70026d4c",
   "metadata": {
    "hideCode": true,
    "hidePrompt": true
   },
   "source": [
    "**Table 3.3.1 The material of each presentation semester 2013,2014**"
   ]
  },
  {
   "cell_type": "markdown",
   "id": "13f7356f",
   "metadata": {
    "hideCode": true,
    "hidePrompt": true
   },
   "source": [
    "### 3.3.2 Assessment type:"
   ]
  },
  {
   "cell_type": "code",
   "execution_count": 23,
   "id": "faf67dff",
   "metadata": {
    "hideCode": true,
    "hidePrompt": true
   },
   "outputs": [
    {
     "data": {
      "application/vnd.jupyter.widget-view+json": {
       "model_id": "4316eede027a49b7989d3ff3dead1601",
       "version_major": 2,
       "version_minor": 0
      },
      "text/plain": [
       "interactive(children=(RadioButtons(description='Choose', options=('AAA', 'BBB', 'CCC', 'DDD', 'EEE', 'FFF', 'G…"
      ]
     },
     "metadata": {},
     "output_type": "display_data"
    }
   ],
   "source": [
    "\n",
    "code_module = df_course_info['code_module'].unique()\n",
    "\n",
    "choices = widgets.RadioButtons(\n",
    "                options=code_module,\n",
    "                desciption='Choose:',\n",
    "                disabled=False\n",
    "                )\n",
    "\n",
    "def show_table_2(Choose):\n",
    "    df_assessments_type['students_take_exam'] = df_assessments_type['students_take_exam'].astype(int)\n",
    "    display(df_assessments_type.loc[Choose].reset_index().style.highlight_max(color='lightgreen')\\\n",
    "            .highlight_min(color='bisque').hide_index())\n",
    "    \n",
    "\n",
    "show_tb_2 = widgets.interactive(show_table_2,Choose=choices)\n",
    "\n",
    "display(show_tb_2)"
   ]
  },
  {
   "cell_type": "markdown",
   "id": "d91844e0",
   "metadata": {
    "hideCode": true,
    "hidePrompt": true
   },
   "source": [
    "**Table 3.2.2 The assessment types and average score, the number of students in a specific course**"
   ]
  },
  {
   "cell_type": "markdown",
   "id": "8b56e8b0",
   "metadata": {
    "hideCode": true,
    "hidePrompt": true
   },
   "source": [
    "## 4 Conclusion:"
   ]
  },
  {
   "cell_type": "markdown",
   "id": "3ae71d21",
   "metadata": {
    "hideCode": true,
    "hidePrompt": true
   },
   "source": [
    "After analyzing data, it's clearly to see that almost all courses had the figure that decreased throughout 2013, 2014. Besides that, the number of withdrawn students was high. \n",
    "* In the table 3.1.1, we can see that:\n",
    "    - Course **'AAA'** had min values at all features\n",
    "    - Course **'BBB'** had max values at almost features\n",
    "    - Courses **'EEE'** and **'GGG'** had a higher average score than others\n",
    "    - Course **'FFF'** had the largest number of student that unregister from course \n",
    "* In the figure 3.1.1:\n",
    "    =>  Course **'BBB'** accounted for the highest percentage in almost fature.\n",
    "* In the figure 3.1.2:\n",
    "    - The number of student almost descreased in each presentation semester.\n",
    "* In the 3.2 at the feature final_result:\n",
    "    - The percentage of withdrawn students accounted for the second high quarter of the final result."
   ]
  },
  {
   "cell_type": "markdown",
   "id": "f9c3b861",
   "metadata": {
    "hideCode": true,
    "hidePrompt": true
   },
   "source": [
    "## Weakness"
   ]
  },
  {
   "cell_type": "markdown",
   "id": "0fe67292",
   "metadata": {
    "hideCode": true,
    "hidePrompt": true
   },
   "source": [
    "* It's hard for me to make the conclusion, I know, it's a bad weak point for data analysts. I think that I don't have enough experience to make a perfect conclusion. And I would try hard every day to improve it.\n",
    "* Unfinished task:\n",
    "    - Make the perfect conclusion\n",
    "    - Grouping withdrawn students in some new features base on the number of clicks, the number of assessment that students take => Categorizing group of students and giving the reason why those students wanted to withdraw\n",
    "     + Methode use: dividing sum_click, num_of_assess_take into 5 ranges and categorizing base on this range, and then visualizing pie charts to see the percentage of students in each range.\n",
    "     + Modifying and detailing all charts.\n",
    "* My file is quite hard to run, and if I convert it into pdf or HTML file, the interactive figures are closed. Please, I have 2 images of the whole dashboard that are converted into pdf in order to visualize (they are not complete)."
   ]
  },
  {
   "cell_type": "markdown",
   "id": "f6d5f126",
   "metadata": {
    "hideCode": true,
    "hidePrompt": true
   },
   "source": [
    "## NOTE:\n",
    "* Python version 3.8\n",
    "* If you want to interactive with the notebook, Please:\n",
    "    - install some required libraries by running below commands:\n",
    "        - pip install pandas\n",
    "        - pip install matplotlib\n",
    "        - pip install jupyter notebook\n",
    "    - Open in the jupyter notebook:\n",
    "        - In command line promps: \n",
    "            + cd [Directory of file here]\n",
    "            + jupyter notebook\n",
    "            + localhost:8080 is opened\n",
    "            + click that file 'Report_Analysis_VLE_data.ipynb'\n",
    "            + click cell and selected run all\n",
    "        - To visualize dashboard in pdf:\n",
    "            + PDF image 1: Report_analysis_VLE_data_PDF_image_1.pdf\n",
    "    - Open with voila:\n",
    "        - In command line promps:\n",
    "            + pip install voila\n",
    "            + Run voila [Directory]/Report_Analysis_VLE_data.ipynb\n",
    "            + localhost:8866 is opened\n",
    "        - To visualize dashboard in pdf:\n",
    "            + PDF image 2: Report_analysis_VLE_data_PDF_image_2.pdf"
   ]
  },
  {
   "cell_type": "code",
   "execution_count": null,
   "id": "c5b93a4a",
   "metadata": {
    "hideCode": true,
    "hidePrompt": true
   },
   "outputs": [],
   "source": []
  }
 ],
 "metadata": {
  "hide_code_all_hidden": true,
  "kernelspec": {
   "display_name": "Python 3",
   "language": "python",
   "name": "python3"
  },
  "language_info": {
   "codemirror_mode": {
    "name": "ipython",
    "version": 3
   },
   "file_extension": ".py",
   "mimetype": "text/x-python",
   "name": "python",
   "nbconvert_exporter": "python",
   "pygments_lexer": "ipython3",
   "version": "3.8.7"
  }
 },
 "nbformat": 4,
 "nbformat_minor": 5
}
